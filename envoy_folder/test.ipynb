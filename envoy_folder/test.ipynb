{
 "cells": [
  {
   "cell_type": "code",
   "execution_count": 58,
   "metadata": {
    "collapsed": true
   },
   "outputs": [],
   "source": [
    "import re\n",
    "from pathlib import Path\n",
    "\n",
    "import numpy as np\n",
    "import pandas as pd\n",
    "from tensorflow.keras.utils import to_categorical\n",
    "\n",
    "path = Path.cwd() / 'one' / 'The Whisperer in Darkness.txt'\n",
    "file = open(path, 'r', encoding='utf8').read()\n",
    "data = re.findall(r'[a-z]+', file.lower())\n",
    "\n",
    "x_seq = []\n",
    "y_seq = []\n",
    "vectors = pd.read_pickle('vectors.pkl')\n",
    "for i in range(len(data) - 3):\n",
    "    x = data[i:i + 3]  # make 3-grams\n",
    "    y = data[i + 3]\n",
    "    cur_x = [vectors[word] for word in x if word in vectors]\n",
    "    if len(cur_x) == 3 and y in vectors:\n",
    "        x_seq.append(cur_x)\n",
    "        y_seq.append(vectors.index.get_loc(y))\n",
    "\n",
    "x_seq = np.array(x_seq)\n",
    "y_seq = to_categorical(y_seq, num_classes=vectors.shape[0])"
   ]
  },
  {
   "cell_type": "code",
   "execution_count": 64,
   "metadata": {
    "pycharm": {
     "name": "#%%\n"
    }
   },
   "outputs": [
    {
     "data": {
      "text/plain": [
       "<tf.Tensor: shape=(5, 3, 1000), dtype=float32, numpy=\n",
       "array([[[ 0.00247378, -0.00384468,  0.0079461 , ...,  0.06095395,\n",
       "         -0.00935177,  0.05809736],\n",
       "        [ 0.02868745, -0.00348663,  0.01100862, ...,  0.07156584,\n",
       "         -0.05013086,  0.06545781],\n",
       "        [ 0.0008312 , -0.07617963,  0.00367172, ...,  0.05953234,\n",
       "         -0.03150234,  0.0717433 ]],\n",
       "\n",
       "       [[ 0.02211387,  0.00228705,  0.00697859, ...,  0.0253546 ,\n",
       "         -0.04207788,  0.02684418],\n",
       "        [-0.00979931, -0.07062699,  0.002795  , ...,  0.02655088,\n",
       "         -0.02397072,  0.03845115],\n",
       "        [ 0.01269208, -0.02562674,  0.0167398 , ...,  0.03531225,\n",
       "         -0.03907047,  0.0683414 ]],\n",
       "\n",
       "       [[-0.03184336, -0.06956246, -0.00434087, ...,  0.0175669 ,\n",
       "          0.00859575,  0.01389177],\n",
       "        [-0.00493624, -0.02132089,  0.00920817, ...,  0.0376015 ,\n",
       "         -0.02124637,  0.05140587],\n",
       "        [-0.04682901, -0.02464486, -0.03273578, ...,  0.04290241,\n",
       "         -0.02939709,  0.0014386 ]],\n",
       "\n",
       "       [[ 0.01484156,  0.03120386,  0.00722082, ...,  0.02253001,\n",
       "         -0.02546017,  0.04430481],\n",
       "        [-0.03262281,  0.01210825, -0.03868693, ...,  0.02978955,\n",
       "         -0.03140832, -0.00367212],\n",
       "        [-0.00949161, -0.02270838, -0.01893498, ...,  0.03618517,\n",
       "          0.00822673,  0.04708856]],\n",
       "\n",
       "       [[-0.04565816, -0.01123616, -0.04914441, ...,  0.01900859,\n",
       "         -0.01396317, -0.04476715],\n",
       "        [-0.01947768, -0.04081069, -0.03004333, ...,  0.035229  ,\n",
       "          0.01809688,  0.01484012],\n",
       "        [-0.01356932, -0.03707939, -0.00809203, ...,  0.08818081,\n",
       "          0.00919904,  0.06359094]]], dtype=float32)>"
      ]
     },
     "execution_count": 64,
     "metadata": {},
     "output_type": "execute_result"
    }
   ],
   "source": [
    "import tensorflow as tf\n",
    "\n",
    "lstm = tf.keras.layers.LSTM(1000, return_sequences=True,)\n",
    "lstm(x_seq[:5])"
   ]
  },
  {
   "cell_type": "code",
   "execution_count": 12,
   "metadata": {
    "pycharm": {
     "name": "#%%\n"
    }
   },
   "outputs": [
    {
     "name": "stderr",
     "output_type": "stream",
     "text": [
      "c:\\users\\merkulov\\documents\\git\\venv_openfl\\lib\\site-packages\\ipykernel_launcher.py:9: DeprecationWarning: The default dtype for empty Series will be 'object' instead of 'float64' in a future version. Specify a dtype explicitly to silence this warning.\n",
      "  if __name__ == '__main__':\n"
     ]
    }
   ],
   "source": [
    "import pandas as pd\n",
    "import spacy\n",
    "\n",
    "import re\n",
    "\n",
    "nlp = spacy.load('en_core_web_sm')\n",
    "clean_vocab_list = [word for word in nlp.vocab.strings if re.fullmatch(r'[a-z]+', word)]\n",
    "\n",
    "word_to_vector = pd.Series([], name='vector')\n",
    "for word in clean_vocab_list:\n",
    "    word_to_vector[word] = nlp(word).vector\n",
    "word_to_vector.to_pickle('keyed_vectors.pkl')"
   ]
  },
  {
   "cell_type": "code",
   "execution_count": 11,
   "metadata": {
    "pycharm": {
     "name": "#%%\n"
    }
   },
   "outputs": [
    {
     "data": {
      "text/plain": [
       "a           [0.02819018, 0.009864252, -0.095220566, 0.5522...\n",
       "aa          [-0.72708106, -0.3900509, -0.5274905, -0.24052...\n",
       "aaa         [0.2759483, -0.84107316, -0.4709188, -0.121549...\n",
       "aaaaahhh    [-0.39636, -0.52181447, -0.8544498, -0.0328585...\n",
       "aab         [0.05131094, -0.5333605, -0.13755266, 0.309400...\n",
       "Name: vector, dtype: object"
      ]
     },
     "execution_count": 11,
     "metadata": {},
     "output_type": "execute_result"
    }
   ],
   "source": [
    "vectors = pd.read_pickle('keyed_vectors.pkl')\n",
    "vectors"
   ]
  },
  {
   "cell_type": "code",
   "execution_count": 28,
   "metadata": {
    "pycharm": {
     "name": "#%%\n"
    }
   },
   "outputs": [
    {
     "data": {
      "text/plain": [
       "array([ 1.7234211 ,  0.70698   ,  0.07531004,  0.01016416,  0.90625674,\n",
       "       -0.6563784 , -0.2947484 , -1.413888  , -0.5794049 , -0.2622171 ,\n",
       "        0.8249276 , -0.4351025 , -0.32808983,  0.61241966, -0.19234025,\n",
       "        0.32532322,  0.10879372,  0.06578569, -0.6768458 , -0.1377917 ,\n",
       "       -0.8914129 , -0.6982869 ,  0.1900026 , -0.1436843 , -0.07635674,\n",
       "        0.36350653,  0.6082434 , -0.21159156,  0.3636239 ,  0.0854439 ,\n",
       "       -0.25609127,  0.1762818 , -0.28762445, -0.0117182 ,  0.2569304 ,\n",
       "       -0.423652  , -0.4956298 ,  0.31628734,  1.0616965 ,  0.15893973,\n",
       "       -0.15172145, -0.5052287 , -0.06382523,  0.6445457 ,  0.35854506,\n",
       "        0.03501716, -0.1134971 ,  0.30475333, -0.3105463 ,  0.08665343,\n",
       "        0.3017515 ,  0.00964418,  0.3062988 , -0.9406882 , -0.3071625 ,\n",
       "        0.2866875 , -0.07427119, -0.2365871 ,  0.28920767, -0.6069183 ,\n",
       "       -0.42465514, -0.01203269,  0.16526166, -1.2865363 , -0.48753422,\n",
       "       -0.1325486 , -0.6748189 , -0.21193369, -0.53277934,  0.06171057,\n",
       "       -0.06349868,  0.1252301 ,  0.05173729, -0.474239  , -0.20020112,\n",
       "        0.40584868, -0.14201353, -0.48277408, -1.0026742 ,  0.22928861,\n",
       "        0.27113134,  0.35874885,  0.6515385 ,  1.5773449 , -0.79377794,\n",
       "       -0.26590276,  0.5295027 ,  0.1776939 , -0.00225127,  0.295591  ,\n",
       "       -0.43171072,  0.15821588,  0.757938  , -0.14688459,  0.71262574,\n",
       "       -0.20197208], dtype=float32)"
      ]
     },
     "execution_count": 28,
     "metadata": {},
     "output_type": "execute_result"
    }
   ],
   "source": [
    "tok2.vector"
   ]
  },
  {
   "cell_type": "code",
   "execution_count": null,
   "metadata": {
    "pycharm": {
     "name": "#%%\n"
    }
   },
   "outputs": [],
   "source": []
  }
 ],
 "metadata": {
  "kernelspec": {
   "display_name": "Python 3 (ipykernel)",
   "language": "python",
   "name": "python3"
  },
  "language_info": {
   "codemirror_mode": {
    "name": "ipython",
    "version": 3
   },
   "file_extension": ".py",
   "mimetype": "text/x-python",
   "name": "python",
   "nbconvert_exporter": "python",
   "pygments_lexer": "ipython3",
   "version": "3.7.9"
  }
 },
 "nbformat": 4,
 "nbformat_minor": 1
}
