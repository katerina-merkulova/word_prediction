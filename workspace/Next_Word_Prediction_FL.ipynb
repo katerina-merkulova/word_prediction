{
 "cells": [
  {
   "cell_type": "markdown",
   "id": "liquid-jacket",
   "metadata": {},
   "source": [
    "# Federated Next Word Prediction with Director example\n",
    "## Using low-level Python API"
   ]
  },
  {
   "cell_type": "code",
   "execution_count": null,
   "id": "db949008",
   "metadata": {
    "pycharm": {
     "name": "#%%\n"
    }
   },
   "outputs": [],
   "source": [
    "# Install dependencies if not already installed\n",
    "# !pip install tensorflow==2.5.1"
   ]
  },
  {
   "cell_type": "markdown",
   "id": "16986f22",
   "metadata": {},
   "source": [
    "# Connect to the Federation"
   ]
  },
  {
   "cell_type": "code",
   "execution_count": null,
   "id": "a667294c",
   "metadata": {},
   "outputs": [],
   "source": [
    "# Create a federation\n",
    "from openfl.interface.interactive_api.federation import Federation\n",
    "\n",
    "# please use the same identificator that was used in signed certificate\n",
    "cliend_id = 'frontend'\n",
    "\n",
    "# 1) Run with API layer - Director mTLS \n",
    "# If the user wants to enable mTLS their must provide CA root chain, and signed key pair to the federation interface\n",
    "# cert_chain = 'cert/root_ca.crt'\n",
    "# API_certificate = 'cert/frontend.crt'\n",
    "# API_private_key = 'cert/frontend.key'\n",
    "\n",
    "# federation = Federation(client_id='frontend', director_node_fqdn='localhost', director_port='50051', disable_tls=False,\n",
    "#                        cert_chain=cert_chain, api_cert=API_certificate, api_private_key=API_private_key)\n",
    "\n",
    "# --------------------------------------------------------------------------------------------------------------------\n",
    "\n",
    "# 2) Run with TLS disabled (trusted environment)\n",
    "# Federation can also determine local fqdn automatically\n",
    "federation = Federation(client_id='frontend', director_node_fqdn='localhost', director_port='50051', tls=False)"
   ]
  },
  {
   "cell_type": "code",
   "execution_count": 3,
   "id": "e35802d5",
   "metadata": {
    "scrolled": true
   },
   "outputs": [
    {
     "data": {
      "text/plain": [
       "{'env_one': {'shard_info': node_info {\n",
       "    name: \"env_one\"\n",
       "  }\n",
       "  shard_description: \"Dataset from The Whisperer in Darkness by H. P. Lovecraft\"\n",
       "  n_samples: 22492\n",
       "  sample_shape: \"3\"\n",
       "  target_shape: \"1\",\n",
       "  'is_online': True,\n",
       "  'is_experiment_running': False,\n",
       "  'last_updated': '2021-08-25 16:30:02',\n",
       "  'current_time': '2021-08-25 16:30:10',\n",
       "  'valid_duration': seconds: 120}}"
      ]
     },
     "execution_count": 3,
     "metadata": {},
     "output_type": "execute_result"
    }
   ],
   "source": [
    "shard_registry = federation.get_shard_registry()\n",
    "shard_registry"
   ]
  },
  {
   "cell_type": "code",
   "execution_count": 4,
   "id": "67ae50de",
   "metadata": {},
   "outputs": [
    {
     "data": {
      "text/plain": [
       "['1']"
      ]
     },
     "execution_count": 4,
     "metadata": {},
     "output_type": "execute_result"
    }
   ],
   "source": [
    "federation.target_shape"
   ]
  },
  {
   "cell_type": "code",
   "execution_count": 5,
   "id": "b42efc49",
   "metadata": {},
   "outputs": [],
   "source": [
    "# First, request a dummy_shard_desc that holds information about the federated dataset \n",
    "dummy_shard_desc = federation.get_dummy_shard_descriptor(size=10)\n",
    "sample, target = dummy_shard_desc[0]"
   ]
  },
  {
   "cell_type": "markdown",
   "id": "obvious-tyler",
   "metadata": {},
   "source": [
    "## Creating a FL experiment using Interactive API"
   ]
  },
  {
   "cell_type": "code",
   "execution_count": 1,
   "id": "rubber-address",
   "metadata": {},
   "outputs": [],
   "source": [
    "# from openfl.interface.interactive_api.experiment import TaskInterface, DataInterface, ModelInterface, FLExperiment\n",
    "from openfl.interface.interactive_api.experiment import DataInterface"
   ]
  },
  {
   "cell_type": "markdown",
   "id": "sustainable-public",
   "metadata": {},
   "source": [
    "### Register dataset"
   ]
  },
  {
   "cell_type": "code",
   "execution_count": 2,
   "id": "64f37dcf",
   "metadata": {
    "scrolled": true
   },
   "outputs": [],
   "source": [
    "from tensorflow.keras.utils import Sequence\n",
    "\n",
    "class DataGenerator(Sequence):\n",
    "\n",
    "    def __init__(self, shard_descriptor, indices, batch_size):\n",
    "        self.shard_descriptor = shard_descriptor\n",
    "        self.batch_size = batch_size\n",
    "        self.indices = indices\n",
    "        self.on_epoch_end()\n",
    "\n",
    "    def __len__(self):\n",
    "        return len(self.indices) // self.batch_size\n",
    "\n",
    "    def __getitem__(self, index):\n",
    "        index = self.index[index * self.batch_size:(index + 1) * self.batch_size]\n",
    "        batch = [self.indices[k] for k in index]\n",
    "\n",
    "        X, y = self.shard_descriptor[batch]\n",
    "        return X, y\n",
    "\n",
    "    def on_epoch_end(self):\n",
    "        self.index = np.arange(len(self.indices))\n",
    "\n",
    "\n",
    "# Now you can implement you data loaders using dummy_shard_desc\n",
    "class NextWordSD(DataInterface):\n",
    "\n",
    "    def __init__(self, **kwargs):\n",
    "        super().__init__(**kwargs)\n",
    "\n",
    "    @property\n",
    "    def shard_descriptor(self):\n",
    "        return self._shard_descriptor\n",
    "\n",
    "    @shard_descriptor.setter\n",
    "    def shard_descriptor(self, shard_descriptor):\n",
    "        \"\"\"\n",
    "        Describe per-collaborator procedures or sharding.\n",
    "\n",
    "        This method will be called during a collaborator initialization.\n",
    "        Local shard_descriptor will be set by Envoy.\n",
    "        \"\"\"\n",
    "        self._shard_descriptor = shard_descriptor\n",
    "\n",
    "        train = round(len(self) * 0.8)\n",
    "        self.train_indeces = list(range(1, train))\n",
    "        self.valid_indeces = list(range(train, len(self)))\n",
    "\n",
    "    def __getitem__(self, index):\n",
    "        return self.shard_descriptor[index]\n",
    "\n",
    "    def __len__(self):\n",
    "        return len(self.shard_descriptor)\n",
    "\n",
    "    def get_train_loader(self):\n",
    "        \"\"\"\n",
    "        Output of this method will be provided to tasks with optimizer in contract\n",
    "        \"\"\"\n",
    "        if self.kwargs['train_bs']:\n",
    "            batch_size = self.kwargs['train_bs']\n",
    "        else:\n",
    "            batch_size = 64\n",
    "\n",
    "        return DataGenerator(self.shard_descriptor, self.train_indeces, batch_size=batch_size)\n",
    "\n",
    "    def get_valid_loader(self):\n",
    "        \"\"\"\n",
    "        Output of this method will be provided to tasks without optimizer in contract\n",
    "        \"\"\"\n",
    "        if self.kwargs['valid_bs']:\n",
    "            batch_size = self.kwargs['valid_bs']\n",
    "        else:\n",
    "            batch_size = 512\n",
    "\n",
    "        return DataGenerator(self.shard_descriptor, self.valid_indeces, batch_size=batch_size)\n",
    "\n",
    "    def get_train_data_size(self):\n",
    "        \"\"\"\n",
    "        Information for aggregation\n",
    "        \"\"\"\n",
    "        return len(self.train_indeces)\n",
    "\n",
    "    def get_valid_data_size(self):\n",
    "        \"\"\"\n",
    "        Information for aggregation\n",
    "        \"\"\"\n",
    "        return len(self.valid_indeces)\n"
   ]
  },
  {
   "cell_type": "code",
   "execution_count": 3,
   "id": "8cb6c73c",
   "metadata": {},
   "outputs": [],
   "source": [
    "fed_dataset = NextWordSD(train_bs=64, valid_bs=512)"
   ]
  },
  {
   "cell_type": "markdown",
   "id": "caring-distinction",
   "metadata": {},
   "source": [
    "### Describe a model and optimizer"
   ]
  },
  {
   "cell_type": "code",
   "execution_count": 16,
   "id": "11c3aa0b",
   "metadata": {
    "pycharm": {
     "name": "#%%\n"
    }
   },
   "outputs": [],
   "source": [
    "import tensorflow as tf\n",
    "from tensorflow.keras.layers import LSTM, Dense\n",
    "from tensorflow.keras.optimizers import Adam\n",
    "\n",
    "\n",
    "class Model(tf.keras.Model):\n",
    "    \"\"\"Model definition.\"\"\"\n",
    "\n",
    "    def __init__(self, **kwargs):\n",
    "        super().__init__()\n",
    "\n",
    "        vocab_size = 48904\n",
    "        self.lstm1 = LSTM(1000, return_sequences=True)\n",
    "        self.lstm2 = LSTM(1000)\n",
    "        self.d1 = Dense(1000, activation='tanh')\n",
    "        self.d2 = Dense(vocab_size, activation='softmax')\n",
    "\n",
    "    def call(self, x):\n",
    "        x = self.lstm1(x)\n",
    "        x = self.lstm2(x)\n",
    "        x = self.d1(x)\n",
    "        x = self.d2(x)\n",
    "        return x\n",
    "    \n",
    "    def get_config(self):\n",
    "        config = dict({'name': self.name})\n",
    "        config['layers'] = [\n",
    "            {'class_name': layer.__class__.__name__,\n",
    "             'config': layer.get_config()} \n",
    "            for layer in model._self_tracked_trackables\n",
    "        ]\n",
    "\n",
    "        return config\n",
    "\n",
    "# Construct an instance of Model\n",
    "model = Model()\n",
    "optimizer = Adam(learning_rate=0.001)\n",
    "model.compile(loss='categorical_crossentropy', optimizer=optimizer,\n",
    "              metrics=[tf.keras.metrics.CategoricalAccuracy()])"
   ]
  },
  {
   "cell_type": "code",
   "execution_count": 17,
   "id": "a0c31284",
   "metadata": {
    "pycharm": {
     "name": "#%%\n"
    }
   },
   "outputs": [],
   "source": [
    "# Copyright (C) 2020-2021 Intel Corporation\n",
    "# SPDX-License-Identifier: Apache-2.0\n",
    "\"\"\"Market shard descriptor.\"\"\"\n",
    "\n",
    "import re\n",
    "from pathlib import Path\n",
    "\n",
    "import numpy as np\n",
    "import pandas as pd\n",
    "from tensorflow.keras.utils import to_categorical\n",
    "\n",
    "from openfl.interface.interactive_api.shard_descriptor import ShardDescriptor\n",
    "\n",
    "\n",
    "class NextWordShardDescriptor(ShardDescriptor):\n",
    "    \"\"\"\"Data - any text.\"\"\"\n",
    "\n",
    "    def __init__(self, title: str = '', author: str = '') -> None:\n",
    "        \"\"\"Initialize NextWordShardDescriptor.\"\"\"\n",
    "        super().__init__()\n",
    "\n",
    "        self.title = title\n",
    "        self.author = author\n",
    "        self.dataset_dir = list(Path.cwd().rglob(f'{title}.txt'))[0]\n",
    "        self.data = self.load_data(self.dataset_dir)  # list of words\n",
    "        self.X, self.y = self.get_sequences(self.data)\n",
    "\n",
    "    def __len__(self):\n",
    "        \"\"\"Number of sequences.\"\"\"\n",
    "        return len(self.X)\n",
    "\n",
    "    def __getitem__(self, index: int):\n",
    "        \"\"\"Return an item by the index.\"\"\"\n",
    "        return self.X[index], self.y[index]\n",
    "\n",
    "    @property\n",
    "    def sample_shape(self):\n",
    "        \"\"\"Return the sample shape info.\"\"\"\n",
    "        return ['3', '96']  # three vectors\n",
    "\n",
    "    @property\n",
    "    def target_shape(self):\n",
    "        \"\"\"Return the target shape info.\"\"\"\n",
    "        return ['48904']  # row at one-hot matrix with n = vocab_size\n",
    "\n",
    "    @property\n",
    "    def dataset_description(self) -> str:\n",
    "        \"\"\"Return the dataset description.\"\"\"\n",
    "        return f'Dataset from {self.title} by {self.author}'\n",
    "\n",
    "    @staticmethod\n",
    "    def load_data(path):\n",
    "        \"\"\"Load text file, return list of words.\"\"\"\n",
    "        file = open(path, 'r', encoding='utf8').read()\n",
    "        data = re.findall(r'[a-z]+', file.lower())\n",
    "        return data\n",
    "\n",
    "    @staticmethod\n",
    "    def get_sequences(data):\n",
    "        \"\"\"\n",
    "        Transform words to sequences, for X transform to vectors as well.\n",
    "\n",
    "        To make vocab, clean it and get keyed vectors:\n",
    "            if not spacy.util.is_package('en_core_web_sm'):\n",
    "                spacy.cli.download('en_core_web_sm')\n",
    "            nlp = spacy.load('en_core_web_sm')\n",
    "            clean_vocab_list = [word for word in nlp.vocab.strings if re.fullmatch(r'[a-z]+', word)]\n",
    "\n",
    "            word_to_vector = pd.Series([], name='vector')\n",
    "            for word in clean_vocab_list:\n",
    "                word_to_vector[word] = nlp(word).vector\n",
    "            word_to_vector.to_pickle('keyed_vectors.pkl')\n",
    "        \"\"\"\n",
    "        # spacy en_core_web_sm vocab_size = 48904, vector_size = 96\n",
    "        x_seq = []\n",
    "        y_seq = []\n",
    "        vectors = pd.read_pickle('keyed_vectors.pkl')\n",
    "        for i in range(len(data) - 3):\n",
    "            x = data[i:i + 3]  # make 3-grams\n",
    "            y = data[i + 3]\n",
    "            cur_x = [vectors[word] for word in x if word in vectors]\n",
    "            if len(cur_x) == 3 and y in vectors:\n",
    "                x_seq.append(cur_x)\n",
    "                y_seq.append(vectors.index.get_loc(y))\n",
    "\n",
    "        x_seq = np.array(x_seq)\n",
    "        y_seq = to_categorical(y_seq, num_classes=vectors.shape[0])\n",
    "        return x_seq, y_seq\n"
   ]
  },
  {
   "cell_type": "markdown",
   "id": "caroline-passion",
   "metadata": {},
   "source": [
    "#### Register model"
   ]
  },
  {
   "cell_type": "raw",
   "id": "e1af65e6",
   "metadata": {},
   "source": [
    "from copy import deepcopy\n",
    "\n",
    "framework_adapter = 'openfl.plugins.frameworks_adapters.keras_adapter.FrameworkAdapterPlugin'\n",
    "MI = ModelInterface(model=model, optimizer=optimizer, framework_plugin=framework_adapter)\n",
    "# Save the initial model state\n",
    "initial_model = deepcopy(model)"
   ]
  },
  {
   "cell_type": "markdown",
   "id": "portuguese-groove",
   "metadata": {},
   "source": [
    "### Define and register FL tasks"
   ]
  },
  {
   "cell_type": "code",
   "execution_count": 18,
   "id": "increasing-builder",
   "metadata": {},
   "outputs": [],
   "source": [
    "import tqdm\n",
    "\n",
    "# TI = TaskInterface()\n",
    "\n",
    "# @TI.register_fl_task(model='model', data_loader='train_loader', device='device')\n",
    "def train(model, train_loader, device=''):  # https://www.tensorflow.org/guide/keras/customizing_what_happens_in_fit\n",
    "    if tf.test.is_gpu_available():\n",
    "        device = tf.device('/gpu:0')\n",
    "    else:\n",
    "        device = tf.device('/cpu:0')\n",
    "\n",
    "    with device:\n",
    "#         train_loader = tqdm.tqdm(train_loader, desc='train')\n",
    "\n",
    "        # Unpack the data\n",
    "        x, y = train_loader\n",
    "        y = tf.convert_to_tensor(y)\n",
    "        with tf.GradientTape() as tape:\n",
    "            y_pred = model(x, training=True)  # Forward pass\n",
    "            # Compute the loss value\n",
    "            # (the loss function is configured in `compile()`)\n",
    "            loss = model.compiled_loss(y, y_pred, regularization_losses=model.losses)\n",
    "\n",
    "        # Compute gradients\n",
    "        trainable_vars = model.trainable_variables\n",
    "        gradients = tape.gradient(loss, trainable_vars)\n",
    "\n",
    "        # Update weights\n",
    "        model.optimizer.apply_gradients(zip(gradients, trainable_vars))\n",
    "\n",
    "        # Update metrics (includes the metric that tracks the loss)\n",
    "        model.compiled_metrics.update_state(y, y_pred)\n",
    "    # Return a dict mapping metric names to current value\n",
    "    return {m.name: m.result() for m in model.metrics}\n",
    "\n",
    "\n",
    "# @TI.register_fl_task(model='model', data_loader='val_loader', device='device')\n",
    "def validate(model, val_loader, device=''):\n",
    "    if tf.test.is_gpu_available():\n",
    "        device = tf.device('/gpu:0')\n",
    "    else:\n",
    "        device = tf.device('/cpu:0')\n",
    "\n",
    "    with device:\n",
    "#         val_loader = tqdm.tqdm(val_loader, desc='validate')\n",
    "\n",
    "        # Unpack the data\n",
    "        x, y = val_loader\n",
    "        y = tf.convert_to_tensor(y)\n",
    "        # Compute predictions\n",
    "        y_pred = model(x, training=False)\n",
    "        # Updates the metrics tracking the loss\n",
    "        model.compiled_loss(y, y_pred, regularization_losses=model.losses)\n",
    "        # Update the metrics.\n",
    "        model.compiled_metrics.update_state(y, y_pred)\n",
    "        # Return a dict mapping metric names to current value.\n",
    "    # Note that it will include the loss (tracked in self.metrics).\n",
    "    return {m.name: m.result() for m in model.metrics}"
   ]
  },
  {
   "cell_type": "code",
   "execution_count": 19,
   "id": "535725c0",
   "metadata": {
    "scrolled": true
   },
   "outputs": [
    {
     "name": "stdout",
     "output_type": "stream",
     "text": [
      "Epoch 0 train {'loss': 10.798113, 'categorical_accuracy': 0.0}\n",
      "Epoch 0 validate {'loss': 10.791787, 'categorical_accuracy': 0.015625}\n",
      "Epoch 1 train {'loss': 10.79166, 'categorical_accuracy': 0.015625}\n",
      "Epoch 1 validate {'loss': 10.785787, 'categorical_accuracy': 0.014756944}\n",
      "Epoch 2 train {'loss': 10.78552, 'categorical_accuracy': 0.014802632}\n",
      "Epoch 2 validate {'loss': 10.772667, 'categorical_accuracy': 0.011574074}\n",
      "Epoch 3 train {'loss': 10.771158, 'categorical_accuracy': 0.01171875}\n",
      "Epoch 3 validate {'loss': 10.745472, 'categorical_accuracy': 0.010850694}\n",
      "Epoch 4 train {'loss': 10.742561, 'categorical_accuracy': 0.011402027}\n",
      "Epoch 4 validate {'loss': 10.668691, 'categorical_accuracy': 0.011111111}\n",
      "Epoch 5 train {'loss': 10.662229, 'categorical_accuracy': 0.011209239}\n",
      "Epoch 5 validate {'loss': 10.528828, 'categorical_accuracy': 0.010416667}\n",
      "Epoch 6 train {'loss': 10.509809, 'categorical_accuracy': 0.010511364}\n",
      "Epoch 6 validate {'loss': 10.324217, 'categorical_accuracy': 0.011160715}\n",
      "Epoch 7 train {'loss': 10.308299, 'categorical_accuracy': 0.011230469}\n",
      "Epoch 7 validate {'loss': 10.123147, 'categorical_accuracy': 0.01171875}\n",
      "Epoch 8 train {'loss': 10.093739, 'categorical_accuracy': 0.011986301}\n",
      "Epoch 8 validate {'loss': 10.036859, 'categorical_accuracy': 0.012435233}\n",
      "Epoch 9 train {'loss': 10.014627, 'categorical_accuracy': 0.012272448}\n",
      "Epoch 9 validate {'loss': 10.014627, 'categorical_accuracy': 0.012272448}\n",
      "Epoch 10 train {'loss': 9.989731, 'categorical_accuracy': 0.012517666}\n",
      "Epoch 10 validate {'loss': 9.989731, 'categorical_accuracy': 0.012517666}\n",
      "Epoch 11 train {'loss': 9.96896, 'categorical_accuracy': 0.012557305}\n",
      "Epoch 11 validate {'loss': 9.96896, 'categorical_accuracy': 0.012557305}\n",
      "Epoch 12 train {'loss': 9.94144, 'categorical_accuracy': 0.012792758}\n",
      "Epoch 12 validate {'loss': 9.94144, 'categorical_accuracy': 0.012792758}\n",
      "Epoch 13 train {'loss': 9.916304, 'categorical_accuracy': 0.013216715}\n",
      "Epoch 13 validate {'loss': 9.916304, 'categorical_accuracy': 0.013216715}\n",
      "Epoch 14 train {'loss': 9.907451, 'categorical_accuracy': 0.013054329}\n",
      "Epoch 14 validate {'loss': 9.907451, 'categorical_accuracy': 0.013054329}\n",
      "Epoch 15 train {'loss': 9.88398, 'categorical_accuracy': 0.012895885}\n",
      "Epoch 15 validate {'loss': 9.88398, 'categorical_accuracy': 0.012895885}\n",
      "Epoch 16 train {'loss': 9.859586, 'categorical_accuracy': 0.012741241}\n",
      "Epoch 16 validate {'loss': 9.859586, 'categorical_accuracy': 0.012741241}\n",
      "Epoch 17 train {'loss': 9.847101, 'categorical_accuracy': 0.012775412}\n",
      "Epoch 17 validate {'loss': 9.847101, 'categorical_accuracy': 0.012775412}\n",
      "Epoch 18 train {'loss': 9.8359785, 'categorical_accuracy': 0.0129917655}\n",
      "Epoch 18 validate {'loss': 9.8359785, 'categorical_accuracy': 0.0129917655}\n",
      "Epoch 19 train {'loss': 9.824781, 'categorical_accuracy': 0.013383975}\n",
      "Epoch 19 validate {'loss': 9.824781, 'categorical_accuracy': 0.013383975}\n",
      "Epoch 20 train {'loss': 9.797434, 'categorical_accuracy': 0.013409619}\n",
      "Epoch 20 validate {'loss': 9.797434, 'categorical_accuracy': 0.013409619}\n",
      "Epoch 21 train {'loss': 9.78087, 'categorical_accuracy': 0.0132579105}\n",
      "Epoch 21 validate {'loss': 9.78087, 'categorical_accuracy': 0.0132579105}\n",
      "Epoch 22 train {'loss': 9.763761, 'categorical_accuracy': 0.013109596}\n",
      "Epoch 22 validate {'loss': 9.763761, 'categorical_accuracy': 0.013109596}\n",
      "Epoch 23 train {'loss': 9.740265, 'categorical_accuracy': 0.012964563}\n",
      "Epoch 23 validate {'loss': 9.740265, 'categorical_accuracy': 0.012964563}\n",
      "Epoch 24 train {'loss': 9.7137785, 'categorical_accuracy': 0.012993674}\n",
      "Epoch 24 validate {'loss': 9.7137785, 'categorical_accuracy': 0.012993674}\n",
      "Epoch 25 train {'loss': 9.691044, 'categorical_accuracy': 0.01369863}\n",
      "Epoch 25 validate {'loss': 9.691044, 'categorical_accuracy': 0.01369863}\n",
      "Epoch 26 train {'loss': 9.668129, 'categorical_accuracy': 0.014053873}\n",
      "Epoch 26 validate {'loss': 9.668129, 'categorical_accuracy': 0.014053873}\n",
      "Epoch 27 train {'loss': 9.6503725, 'categorical_accuracy': 0.014567125}\n",
      "Epoch 27 validate {'loss': 9.6503725, 'categorical_accuracy': 0.014567125}\n",
      "Epoch 28 train {'loss': 9.622934, 'categorical_accuracy': 0.014905815}\n",
      "Epoch 28 validate {'loss': 9.622934, 'categorical_accuracy': 0.014905815}\n",
      "Epoch 29 train {'loss': 9.606664, 'categorical_accuracy': 0.015237478}\n",
      "Epoch 29 validate {'loss': 9.606664, 'categorical_accuracy': 0.015237478}\n",
      "Epoch 30 train {'loss': 9.58937, 'categorical_accuracy': 0.015722767}\n",
      "Epoch 30 validate {'loss': 9.58937, 'categorical_accuracy': 0.015722767}\n",
      "Epoch 31 train {'loss': 9.562513, 'categorical_accuracy': 0.016039385}\n",
      "Epoch 31 validate {'loss': 9.562513, 'categorical_accuracy': 0.016039385}\n",
      "Epoch 32 train {'loss': 9.540107, 'categorical_accuracy': 0.01634963}\n",
      "Epoch 32 validate {'loss': 9.540107, 'categorical_accuracy': 0.01634963}\n",
      "Epoch 33 train {'loss': 9.513196, 'categorical_accuracy': 0.016809339}\n",
      "Epoch 33 validate {'loss': 9.513196, 'categorical_accuracy': 0.016809339}\n",
      "Epoch 34 train {'loss': 9.498763, 'categorical_accuracy': 0.016797658}\n",
      "Epoch 34 validate {'loss': 9.498763, 'categorical_accuracy': 0.016797658}\n",
      "Epoch 35 train {'loss': 9.478217, 'categorical_accuracy': 0.017244011}\n",
      "Epoch 35 validate {'loss': 9.478217, 'categorical_accuracy': 0.017244011}\n",
      "Epoch 36 train {'loss': 9.463663, 'categorical_accuracy': 0.017681729}\n",
      "Epoch 36 validate {'loss': 9.463663, 'categorical_accuracy': 0.017681729}\n",
      "Epoch 37 train {'loss': 9.4502, 'categorical_accuracy': 0.01826074}\n",
      "Epoch 37 validate {'loss': 9.4502, 'categorical_accuracy': 0.01826074}\n",
      "Epoch 38 train {'loss': 9.435631, 'categorical_accuracy': 0.018532246}\n",
      "Epoch 38 validate {'loss': 9.435631, 'categorical_accuracy': 0.018532246}\n",
      "Epoch 39 train {'loss': 9.415997, 'categorical_accuracy': 0.019092377}\n",
      "Epoch 39 validate {'loss': 9.415997, 'categorical_accuracy': 0.019092377}\n",
      "Epoch 40 train {'loss': 9.39445, 'categorical_accuracy': 0.019351084}\n",
      "Epoch 40 validate {'loss': 9.39445, 'categorical_accuracy': 0.019351084}\n",
      "Epoch 41 train {'loss': 9.380392, 'categorical_accuracy': 0.02003748}\n",
      "Epoch 41 validate {'loss': 9.380392, 'categorical_accuracy': 0.02003748}\n",
      "Epoch 42 train {'loss': 9.359622, 'categorical_accuracy': 0.020425653}\n",
      "Epoch 42 validate {'loss': 9.359622, 'categorical_accuracy': 0.020425653}\n",
      "Epoch 43 train {'loss': 9.351922, 'categorical_accuracy': 0.020806795}\n",
      "Epoch 43 validate {'loss': 9.351922, 'categorical_accuracy': 0.020806795}\n",
      "Epoch 44 train {'loss': 9.34272, 'categorical_accuracy': 0.021461636}\n",
      "Epoch 44 validate {'loss': 9.34272, 'categorical_accuracy': 0.021461636}\n",
      "Epoch 45 train {'loss': 9.336855, 'categorical_accuracy': 0.021687752}\n",
      "Epoch 45 validate {'loss': 9.336855, 'categorical_accuracy': 0.021687752}\n",
      "Epoch 46 train {'loss': 9.310204, 'categorical_accuracy': 0.021772083}\n",
      "Epoch 46 validate {'loss': 9.310204, 'categorical_accuracy': 0.021772083}\n",
      "Epoch 47 train {'loss': 9.294505, 'categorical_accuracy': 0.021854937}\n",
      "Epoch 47 validate {'loss': 9.294505, 'categorical_accuracy': 0.021854937}\n",
      "Epoch 48 train {'loss': 9.272072, 'categorical_accuracy': 0.021936357}\n",
      "Epoch 48 validate {'loss': 9.272072, 'categorical_accuracy': 0.021936357}\n",
      "Epoch 49 train {'loss': 9.253001, 'categorical_accuracy': 0.021882132}\n",
      "Epoch 49 validate {'loss': 9.253001, 'categorical_accuracy': 0.021882132}\n",
      "Epoch 50 train {'loss': 9.229052, 'categorical_accuracy': 0.022095036}\n",
      "Epoch 50 validate {'loss': 9.229052, 'categorical_accuracy': 0.022095036}\n",
      "Epoch 51 train {'loss': 9.217008, 'categorical_accuracy': 0.022040386}\n",
      "Epoch 51 validate {'loss': 9.217008, 'categorical_accuracy': 0.022040386}\n",
      "Epoch 52 train {'loss': 9.20562, 'categorical_accuracy': 0.021855777}\n",
      "Epoch 52 validate {'loss': 9.20562, 'categorical_accuracy': 0.021855777}\n",
      "Epoch 53 train {'loss': 9.193242, 'categorical_accuracy': 0.021804024}\n",
      "Epoch 53 validate {'loss': 9.193242, 'categorical_accuracy': 0.021804024}\n",
      "Epoch 54 train {'loss': 9.187386, 'categorical_accuracy': 0.021881837}\n",
      "Epoch 54 validate {'loss': 9.187386, 'categorical_accuracy': 0.021881837}\n",
      "Epoch 55 train {'loss': 9.171182, 'categorical_accuracy': 0.021830717}\n",
      "Epoch 55 validate {'loss': 9.171182, 'categorical_accuracy': 0.021830717}\n",
      "Epoch 56 train {'loss': 9.152436, 'categorical_accuracy': 0.022540204}\n"
     ]
    },
    {
     "name": "stdout",
     "output_type": "stream",
     "text": [
      "Epoch 56 validate {'loss': 9.152436, 'categorical_accuracy': 0.022540204}\n",
      "Epoch 57 train {'loss': 9.137461, 'categorical_accuracy': 0.022735838}\n",
      "Epoch 57 validate {'loss': 9.137461, 'categorical_accuracy': 0.022735838}\n",
      "Epoch 58 train {'loss': 9.129047, 'categorical_accuracy': 0.02292835}\n",
      "Epoch 58 validate {'loss': 9.129047, 'categorical_accuracy': 0.02292835}\n",
      "Epoch 59 train {'loss': 9.110953, 'categorical_accuracy': 0.022746941}\n",
      "Epoch 59 validate {'loss': 9.110953, 'categorical_accuracy': 0.022746941}\n",
      "Epoch 60 train {'loss': 9.096177, 'categorical_accuracy': 0.02256838}\n",
      "Epoch 60 validate {'loss': 9.096177, 'categorical_accuracy': 0.02256838}\n",
      "Epoch 61 train {'loss': 9.087684, 'categorical_accuracy': 0.0225143}\n",
      "Epoch 61 validate {'loss': 9.087684, 'categorical_accuracy': 0.0225143}\n",
      "Epoch 62 train {'loss': 9.071761, 'categorical_accuracy': 0.022702573}\n",
      "Epoch 62 validate {'loss': 9.071761, 'categorical_accuracy': 0.022702573}\n",
      "Epoch 63 train {'loss': 9.056434, 'categorical_accuracy': 0.022768125}\n",
      "Epoch 63 validate {'loss': 9.056434, 'categorical_accuracy': 0.022768125}\n",
      "Epoch 64 train {'loss': 9.047397, 'categorical_accuracy': 0.02259484}\n",
      "Epoch 64 validate {'loss': 9.047397, 'categorical_accuracy': 0.02259484}\n",
      "Epoch 65 train {'loss': 9.037338, 'categorical_accuracy': 0.022896258}\n",
      "Epoch 65 validate {'loss': 9.037338, 'categorical_accuracy': 0.022896258}\n",
      "Epoch 66 train {'loss': 9.023049, 'categorical_accuracy': 0.02319316}\n",
      "Epoch 66 validate {'loss': 9.023049, 'categorical_accuracy': 0.02319316}\n",
      "Epoch 67 train {'loss': 9.011046, 'categorical_accuracy': 0.02325311}\n",
      "Epoch 67 validate {'loss': 9.011046, 'categorical_accuracy': 0.02325311}\n",
      "Epoch 68 train {'loss': 8.993831, 'categorical_accuracy': 0.02388921}\n",
      "Epoch 68 validate {'loss': 8.993831, 'categorical_accuracy': 0.02388921}\n",
      "Epoch 69 train {'loss': 8.983291, 'categorical_accuracy': 0.024630541}\n",
      "Epoch 69 validate {'loss': 8.983291, 'categorical_accuracy': 0.024630541}\n",
      "Epoch 70 train {'loss': 8.976335, 'categorical_accuracy': 0.025247356}\n",
      "Epoch 70 validate {'loss': 8.976335, 'categorical_accuracy': 0.025247356}\n",
      "Epoch 71 train {'loss': 8.96579, 'categorical_accuracy': 0.02551654}\n",
      "Epoch 71 validate {'loss': 8.96579, 'categorical_accuracy': 0.02551654}\n",
      "Epoch 72 train {'loss': 8.948034, 'categorical_accuracy': 0.026118148}\n",
      "Epoch 72 validate {'loss': 8.948034, 'categorical_accuracy': 0.026118148}\n",
      "Epoch 73 train {'loss': 8.929687, 'categorical_accuracy': 0.026154703}\n",
      "Epoch 73 validate {'loss': 8.929687, 'categorical_accuracy': 0.026154703}\n",
      "Epoch 74 train {'loss': 8.916866, 'categorical_accuracy': 0.02619074}\n",
      "Epoch 74 validate {'loss': 8.916866, 'categorical_accuracy': 0.02619074}\n",
      "Epoch 75 train {'loss': 8.912144, 'categorical_accuracy': 0.026226271}\n",
      "Epoch 75 validate {'loss': 8.912144, 'categorical_accuracy': 0.026226271}\n",
      "Epoch 76 train {'loss': 8.898875, 'categorical_accuracy': 0.026261305}\n",
      "Epoch 76 validate {'loss': 8.898875, 'categorical_accuracy': 0.026261305}\n",
      "Epoch 77 train {'loss': 8.897423, 'categorical_accuracy': 0.026728708}\n",
      "Epoch 77 validate {'loss': 8.897423, 'categorical_accuracy': 0.026728708}\n",
      "Epoch 78 train {'loss': 8.885919, 'categorical_accuracy': 0.027189683}\n",
      "Epoch 78 validate {'loss': 8.885919, 'categorical_accuracy': 0.027189683}\n",
      "Epoch 79 train {'loss': 8.872608, 'categorical_accuracy': 0.027751094}\n",
      "Epoch 79 validate {'loss': 8.872608, 'categorical_accuracy': 0.027751094}\n",
      "Epoch 80 train {'loss': 8.863369, 'categorical_accuracy': 0.027774833}\n",
      "Epoch 80 validate {'loss': 8.863369, 'categorical_accuracy': 0.027774833}\n",
      "Epoch 81 train {'loss': 8.855735, 'categorical_accuracy': 0.028008845}\n",
      "Epoch 81 validate {'loss': 8.855735, 'categorical_accuracy': 0.028008845}\n",
      "Epoch 82 train {'loss': 8.84819, 'categorical_accuracy': 0.02792595}\n",
      "Epoch 82 validate {'loss': 8.84819, 'categorical_accuracy': 0.02792595}\n",
      "Epoch 83 train {'loss': 8.842601, 'categorical_accuracy': 0.028155845}\n",
      "Epoch 83 validate {'loss': 8.842601, 'categorical_accuracy': 0.028155845}\n",
      "Epoch 84 train {'loss': 8.833999, 'categorical_accuracy': 0.028279493}\n",
      "Epoch 84 validate {'loss': 8.833999, 'categorical_accuracy': 0.028279493}\n",
      "Epoch 85 train {'loss': 8.83057, 'categorical_accuracy': 0.028196452}\n",
      "Epoch 85 validate {'loss': 8.83057, 'categorical_accuracy': 0.028196452}\n",
      "Epoch 86 train {'loss': 8.820089, 'categorical_accuracy': 0.02821636}\n",
      "Epoch 86 validate {'loss': 8.820089, 'categorical_accuracy': 0.02821636}\n",
      "Epoch 87 train {'loss': 8.811536, 'categorical_accuracy': 0.028134804}\n",
      "Epoch 87 validate {'loss': 8.811536, 'categorical_accuracy': 0.028134804}\n",
      "Epoch 88 train {'loss': 8.800773, 'categorical_accuracy': 0.028154852}\n",
      "Epoch 88 validate {'loss': 8.800773, 'categorical_accuracy': 0.028154852}\n",
      "Epoch 89 train {'loss': 8.791227, 'categorical_accuracy': 0.028074732}\n",
      "Epoch 89 validate {'loss': 8.791227, 'categorical_accuracy': 0.028074732}\n",
      "Epoch 90 train {'loss': 8.77854, 'categorical_accuracy': 0.027896356}\n",
      "Epoch 90 validate {'loss': 8.77854, 'categorical_accuracy': 0.027896356}\n",
      "Epoch 91 train {'loss': 8.767174, 'categorical_accuracy': 0.028213475}\n",
      "Epoch 91 validate {'loss': 8.767174, 'categorical_accuracy': 0.028213475}\n",
      "Epoch 92 train {'loss': 8.756962, 'categorical_accuracy': 0.028428586}\n",
      "Epoch 92 validate {'loss': 8.756962, 'categorical_accuracy': 0.028428586}\n",
      "Epoch 93 train {'loss': 8.745265, 'categorical_accuracy': 0.028446177}\n",
      "Epoch 93 validate {'loss': 8.745265, 'categorical_accuracy': 0.028446177}\n",
      "Epoch 94 train {'loss': 8.73828, 'categorical_accuracy': 0.028753994}\n",
      "Epoch 94 validate {'loss': 8.73828, 'categorical_accuracy': 0.028753994}\n",
      "Epoch 95 train {'loss': 8.730598, 'categorical_accuracy': 0.02915424}\n",
      "Epoch 95 validate {'loss': 8.730598, 'categorical_accuracy': 0.02915424}\n",
      "Epoch 96 train {'loss': 8.717823, 'categorical_accuracy': 0.029549584}\n",
      "Epoch 96 validate {'loss': 8.717823, 'categorical_accuracy': 0.029549584}\n",
      "Epoch 97 train {'loss': 8.711473, 'categorical_accuracy': 0.029845072}\n",
      "Epoch 97 validate {'loss': 8.711473, 'categorical_accuracy': 0.029845072}\n",
      "Epoch 98 train {'loss': 8.699979, 'categorical_accuracy': 0.029948039}\n",
      "Epoch 98 validate {'loss': 8.699979, 'categorical_accuracy': 0.029948039}\n",
      "Epoch 99 train {'loss': 8.692158, 'categorical_accuracy': 0.030425392}\n",
      "Epoch 99 validate {'loss': 8.692158, 'categorical_accuracy': 0.030425392}\n",
      "Epoch 100 train {'loss': 8.681729, 'categorical_accuracy': 0.030430319}\n",
      "Epoch 100 validate {'loss': 8.681729, 'categorical_accuracy': 0.030430319}\n",
      "Epoch 101 train {'loss': 8.670233, 'categorical_accuracy': 0.030435186}\n",
      "Epoch 101 validate {'loss': 8.670233, 'categorical_accuracy': 0.030435186}\n",
      "Epoch 102 train {'loss': 8.663056, 'categorical_accuracy': 0.030716723}\n",
      "Epoch 102 validate {'loss': 8.663056, 'categorical_accuracy': 0.030716723}\n",
      "Epoch 103 train {'loss': 8.65292, 'categorical_accuracy': 0.030903256}\n",
      "Epoch 103 validate {'loss': 8.65292, 'categorical_accuracy': 0.030903256}\n",
      "Epoch 104 train {'loss': 8.641989, 'categorical_accuracy': 0.030905278}\n",
      "Epoch 104 validate {'loss': 8.641989, 'categorical_accuracy': 0.030905278}\n",
      "Epoch 105 train {'loss': 8.630935, 'categorical_accuracy': 0.03081664}\n",
      "Epoch 105 validate {'loss': 8.630935, 'categorical_accuracy': 0.03081664}\n",
      "Epoch 106 train {'loss': 8.624816, 'categorical_accuracy': 0.03063891}\n",
      "Epoch 106 validate {'loss': 8.624816, 'categorical_accuracy': 0.03063891}\n",
      "Epoch 107 train {'loss': 8.6198015, 'categorical_accuracy': 0.03046322}\n",
      "Epoch 107 validate {'loss': 8.6198015, 'categorical_accuracy': 0.03046322}\n",
      "Epoch 108 train {'loss': 8.617401, 'categorical_accuracy': 0.030289533}\n",
      "Epoch 108 validate {'loss': 8.617401, 'categorical_accuracy': 0.030289533}\n",
      "Epoch 109 train {'loss': 8.608888, 'categorical_accuracy': 0.030383559}\n",
      "Epoch 109 validate {'loss': 8.608888, 'categorical_accuracy': 0.030383559}\n",
      "Epoch 110 train {'loss': 8.600614, 'categorical_accuracy': 0.030564608}\n",
      "Epoch 110 validate {'loss': 8.600614, 'categorical_accuracy': 0.030564608}\n",
      "Epoch 111 train {'loss': 8.591415, 'categorical_accuracy': 0.03065604}\n",
      "Epoch 111 validate {'loss': 8.591415, 'categorical_accuracy': 0.03065604}\n",
      "Epoch 112 train {'loss': 8.585443, 'categorical_accuracy': 0.03092065}\n",
      "Epoch 112 validate {'loss': 8.585443, 'categorical_accuracy': 0.03092065}\n"
     ]
    },
    {
     "name": "stdout",
     "output_type": "stream",
     "text": [
      "Epoch 113 train {'loss': 8.576842, 'categorical_accuracy': 0.030922478}\n",
      "Epoch 113 validate {'loss': 8.576842, 'categorical_accuracy': 0.030922478}\n",
      "Epoch 114 train {'loss': 8.569061, 'categorical_accuracy': 0.031096563}\n",
      "Epoch 114 validate {'loss': 8.569061, 'categorical_accuracy': 0.031096563}\n",
      "Epoch 115 train {'loss': 8.559064, 'categorical_accuracy': 0.031183071}\n",
      "Epoch 115 validate {'loss': 8.559064, 'categorical_accuracy': 0.031183071}\n",
      "Epoch 116 train {'loss': 8.549811, 'categorical_accuracy': 0.03169464}\n",
      "Epoch 116 validate {'loss': 8.549811, 'categorical_accuracy': 0.03169464}\n",
      "Epoch 117 train {'loss': 8.538726, 'categorical_accuracy': 0.03211592}\n",
      "Epoch 117 validate {'loss': 8.538726, 'categorical_accuracy': 0.03211592}\n",
      "Epoch 118 train {'loss': 8.529088, 'categorical_accuracy': 0.03202697}\n",
      "Epoch 118 validate {'loss': 8.529088, 'categorical_accuracy': 0.03202697}\n",
      "Epoch 119 train {'loss': 8.523621, 'categorical_accuracy': 0.0320228}\n",
      "Epoch 119 validate {'loss': 8.523621, 'categorical_accuracy': 0.0320228}\n",
      "Epoch 120 train {'loss': 8.513328, 'categorical_accuracy': 0.03210206}\n",
      "Epoch 120 validate {'loss': 8.513328, 'categorical_accuracy': 0.03210206}\n",
      "Epoch 121 train {'loss': 8.511329, 'categorical_accuracy': 0.032346357}\n",
      "Epoch 121 validate {'loss': 8.511329, 'categorical_accuracy': 0.032346357}\n",
      "Epoch 122 train {'loss': 8.504284, 'categorical_accuracy': 0.032340568}\n",
      "Epoch 122 validate {'loss': 8.504284, 'categorical_accuracy': 0.032340568}\n",
      "Epoch 123 train {'loss': 8.497212, 'categorical_accuracy': 0.032416906}\n",
      "Epoch 123 validate {'loss': 8.497212, 'categorical_accuracy': 0.032416906}\n",
      "Epoch 124 train {'loss': 8.491761, 'categorical_accuracy': 0.032492448}\n",
      "Epoch 124 validate {'loss': 8.491761, 'categorical_accuracy': 0.032492448}\n",
      "Epoch 125 train {'loss': 8.487368, 'categorical_accuracy': 0.032567207}\n",
      "Epoch 125 validate {'loss': 8.487368, 'categorical_accuracy': 0.032567207}\n",
      "Epoch 126 train {'loss': 8.488309, 'categorical_accuracy': 0.032560393}\n",
      "Epoch 126 validate {'loss': 8.488309, 'categorical_accuracy': 0.032560393}\n",
      "Epoch 127 train {'loss': 8.489194, 'categorical_accuracy': 0.032473274}\n",
      "Epoch 127 validate {'loss': 8.489194, 'categorical_accuracy': 0.032473274}\n",
      "Epoch 128 train {'loss': 8.479825, 'categorical_accuracy': 0.03246701}\n",
      "Epoch 128 validate {'loss': 8.479825, 'categorical_accuracy': 0.03246701}\n",
      "Epoch 129 train {'loss': 8.476878, 'categorical_accuracy': 0.03261994}\n",
      "Epoch 129 validate {'loss': 8.476878, 'categorical_accuracy': 0.03261994}\n",
      "Epoch 130 train {'loss': 8.468643, 'categorical_accuracy': 0.033087943}\n",
      "Epoch 130 validate {'loss': 8.468643, 'categorical_accuracy': 0.033087943}\n",
      "Epoch 131 train {'loss': 8.456985, 'categorical_accuracy': 0.03307868}\n",
      "Epoch 131 validate {'loss': 8.456985, 'categorical_accuracy': 0.03307868}\n",
      "Epoch 132 train {'loss': 8.448973, 'categorical_accuracy': 0.03306951}\n",
      "Epoch 132 validate {'loss': 8.448973, 'categorical_accuracy': 0.03306951}\n",
      "Epoch 133 train {'loss': 8.440741, 'categorical_accuracy': 0.033060428}\n",
      "Epoch 133 validate {'loss': 8.440741, 'categorical_accuracy': 0.033060428}\n",
      "Epoch 134 train {'loss': 8.434073, 'categorical_accuracy': 0.03289627}\n",
      "Epoch 134 validate {'loss': 8.434073, 'categorical_accuracy': 0.03289627}\n",
      "Epoch 135 train {'loss': 8.423497, 'categorical_accuracy': 0.03304254}\n",
      "Epoch 135 validate {'loss': 8.423497, 'categorical_accuracy': 0.03304254}\n",
      "Epoch 136 train {'loss': 8.419307, 'categorical_accuracy': 0.033033725}\n",
      "Epoch 136 validate {'loss': 8.419307, 'categorical_accuracy': 0.033033725}\n",
      "Epoch 137 train {'loss': 8.415005, 'categorical_accuracy': 0.03294855}\n",
      "Epoch 137 validate {'loss': 8.415005, 'categorical_accuracy': 0.03294855}\n",
      "Epoch 138 train {'loss': 8.409315, 'categorical_accuracy': 0.03278813}\n",
      "Epoch 138 validate {'loss': 8.409315, 'categorical_accuracy': 0.03278813}\n",
      "Epoch 139 train {'loss': 8.403231, 'categorical_accuracy': 0.03293209}\n",
      "Epoch 139 validate {'loss': 8.403231, 'categorical_accuracy': 0.03293209}\n",
      "Epoch 140 train {'loss': 8.396838, 'categorical_accuracy': 0.03292398}\n",
      "Epoch 140 validate {'loss': 8.396838, 'categorical_accuracy': 0.03292398}\n",
      "Epoch 141 train {'loss': 8.394018, 'categorical_accuracy': 0.032840967}\n",
      "Epoch 141 validate {'loss': 8.394018, 'categorical_accuracy': 0.032840967}\n",
      "Epoch 142 train {'loss': 8.385153, 'categorical_accuracy': 0.03283337}\n",
      "Epoch 142 validate {'loss': 8.385153, 'categorical_accuracy': 0.03283337}\n",
      "Epoch 143 train {'loss': 8.381157, 'categorical_accuracy': 0.03267731}\n",
      "Epoch 143 validate {'loss': 8.381157, 'categorical_accuracy': 0.03267731}\n",
      "Epoch 144 train {'loss': 8.373724, 'categorical_accuracy': 0.032596644}\n",
      "Epoch 144 validate {'loss': 8.373724, 'categorical_accuracy': 0.032596644}\n",
      "Epoch 145 train {'loss': 8.371859, 'categorical_accuracy': 0.03266387}\n",
      "Epoch 145 validate {'loss': 8.371859, 'categorical_accuracy': 0.03266387}\n",
      "Epoch 146 train {'loss': 8.361185, 'categorical_accuracy': 0.032803692}\n",
      "Epoch 146 validate {'loss': 8.361185, 'categorical_accuracy': 0.032803692}\n",
      "Epoch 147 train {'loss': 8.358785, 'categorical_accuracy': 0.032650683}\n",
      "Epoch 147 validate {'loss': 8.358785, 'categorical_accuracy': 0.032650683}\n",
      "Epoch 148 train {'loss': 8.353458, 'categorical_accuracy': 0.032499094}\n",
      "Epoch 148 validate {'loss': 8.353458, 'categorical_accuracy': 0.032499094}\n",
      "Epoch 149 train {'loss': 8.352094, 'categorical_accuracy': 0.032348905}\n",
      "Epoch 149 validate {'loss': 8.352094, 'categorical_accuracy': 0.032348905}\n",
      "Epoch 150 train {'loss': 8.344227, 'categorical_accuracy': 0.03234385}\n",
      "Epoch 150 validate {'loss': 8.344227, 'categorical_accuracy': 0.03234385}\n",
      "Epoch 151 train {'loss': 8.338876, 'categorical_accuracy': 0.032267295}\n",
      "Epoch 151 validate {'loss': 8.338876, 'categorical_accuracy': 0.032267295}\n",
      "Epoch 152 train {'loss': 8.335226, 'categorical_accuracy': 0.03233388}\n",
      "Epoch 152 validate {'loss': 8.335226, 'categorical_accuracy': 0.03233388}\n",
      "Epoch 153 train {'loss': 8.327931, 'categorical_accuracy': 0.032470755}\n",
      "Epoch 153 validate {'loss': 8.327931, 'categorical_accuracy': 0.032470755}\n",
      "Epoch 154 train {'loss': 8.32059, 'categorical_accuracy': 0.03246524}\n",
      "Epoch 154 validate {'loss': 8.32059, 'categorical_accuracy': 0.03246524}\n",
      "Epoch 155 train {'loss': 8.3160715, 'categorical_accuracy': 0.032530036}\n",
      "Epoch 155 validate {'loss': 8.3160715, 'categorical_accuracy': 0.032530036}\n",
      "Epoch 156 train {'loss': 8.316087, 'categorical_accuracy': 0.032594252}\n",
      "Epoch 156 validate {'loss': 8.316087, 'categorical_accuracy': 0.032594252}\n",
      "Epoch 157 train {'loss': 8.313076, 'categorical_accuracy': 0.03286679}\n",
      "Epoch 157 validate {'loss': 8.313076, 'categorical_accuracy': 0.03286679}\n",
      "Epoch 158 train {'loss': 8.307708, 'categorical_accuracy': 0.032928944}\n",
      "Epoch 158 validate {'loss': 8.307708, 'categorical_accuracy': 0.032928944}\n",
      "Epoch 159 train {'loss': 8.303209, 'categorical_accuracy': 0.033335634}\n",
      "Epoch 159 validate {'loss': 8.303209, 'categorical_accuracy': 0.033335634}\n",
      "Epoch 160 train {'loss': 8.296167, 'categorical_accuracy': 0.033532605}\n",
      "Epoch 160 validate {'loss': 8.296167, 'categorical_accuracy': 0.033532605}\n",
      "Epoch 161 train {'loss': 8.2889185, 'categorical_accuracy': 0.03352261}\n",
      "Epoch 161 validate {'loss': 8.2889185, 'categorical_accuracy': 0.03352261}\n",
      "Epoch 162 train {'loss': 8.281308, 'categorical_accuracy': 0.033648934}\n",
      "Epoch 162 validate {'loss': 8.281308, 'categorical_accuracy': 0.033648934}\n",
      "Epoch 163 train {'loss': 8.275081, 'categorical_accuracy': 0.03377416}\n",
      "Epoch 163 validate {'loss': 8.275081, 'categorical_accuracy': 0.03377416}\n",
      "Epoch 164 train {'loss': 8.27018, 'categorical_accuracy': 0.033898305}\n",
      "Epoch 164 validate {'loss': 8.27018, 'categorical_accuracy': 0.033898305}\n",
      "Epoch 165 train {'loss': 8.261167, 'categorical_accuracy': 0.033954144}\n",
      "Epoch 165 validate {'loss': 8.261167, 'categorical_accuracy': 0.033954144}\n",
      "Epoch 166 train {'loss': 8.254373, 'categorical_accuracy': 0.033942558}\n",
      "Epoch 166 validate {'loss': 8.254373, 'categorical_accuracy': 0.033942558}\n",
      "Epoch 167 train {'loss': 8.247623, 'categorical_accuracy': 0.033997733}\n",
      "Epoch 167 validate {'loss': 8.247623, 'categorical_accuracy': 0.033997733}\n",
      "Epoch 168 train {'loss': 8.241385, 'categorical_accuracy': 0.03391968}\n",
      "Epoch 168 validate {'loss': 8.241385, 'categorical_accuracy': 0.03391968}\n"
     ]
    },
    {
     "name": "stdout",
     "output_type": "stream",
     "text": [
      "Epoch 169 train {'loss': 8.236413, 'categorical_accuracy': 0.03377619}\n",
      "Epoch 169 validate {'loss': 8.236413, 'categorical_accuracy': 0.03377619}\n",
      "Epoch 170 train {'loss': 8.2325, 'categorical_accuracy': 0.03376555}\n",
      "Epoch 170 validate {'loss': 8.2325, 'categorical_accuracy': 0.03376555}\n",
      "Epoch 171 train {'loss': 8.22683, 'categorical_accuracy': 0.033689454}\n",
      "Epoch 171 validate {'loss': 8.22683, 'categorical_accuracy': 0.033689454}\n",
      "Epoch 172 train {'loss': 8.220504, 'categorical_accuracy': 0.033613995}\n",
      "Epoch 172 validate {'loss': 8.220504, 'categorical_accuracy': 0.033613995}\n",
      "Epoch 173 train {'loss': 8.217168, 'categorical_accuracy': 0.033474162}\n",
      "Epoch 173 validate {'loss': 8.217168, 'categorical_accuracy': 0.033474162}\n",
      "Epoch 174 train {'loss': 8.213457, 'categorical_accuracy': 0.033529676}\n",
      "Epoch 174 validate {'loss': 8.213457, 'categorical_accuracy': 0.033529676}\n",
      "Epoch 175 train {'loss': 8.206165, 'categorical_accuracy': 0.033520274}\n",
      "Epoch 175 validate {'loss': 8.206165, 'categorical_accuracy': 0.033520274}\n",
      "Epoch 176 train {'loss': 8.203499, 'categorical_accuracy': 0.033446748}\n",
      "Epoch 176 validate {'loss': 8.203499, 'categorical_accuracy': 0.033446748}\n",
      "Epoch 177 train {'loss': 8.197371, 'categorical_accuracy': 0.033501696}\n",
      "Epoch 177 validate {'loss': 8.197371, 'categorical_accuracy': 0.033501696}\n",
      "Epoch 178 train {'loss': 8.189101, 'categorical_accuracy': 0.033428844}\n",
      "Epoch 178 validate {'loss': 8.189101, 'categorical_accuracy': 0.033428844}\n",
      "Epoch 179 train {'loss': 8.184348, 'categorical_accuracy': 0.03354683}\n",
      "Epoch 179 validate {'loss': 8.184348, 'categorical_accuracy': 0.03354683}\n",
      "Epoch 180 train {'loss': 8.181672, 'categorical_accuracy': 0.033537548}\n",
      "Epoch 180 validate {'loss': 8.181672, 'categorical_accuracy': 0.033537548}\n",
      "Epoch 181 train {'loss': 8.172781, 'categorical_accuracy': 0.03377996}\n",
      "Epoch 181 validate {'loss': 8.172781, 'categorical_accuracy': 0.03377996}\n",
      "Epoch 182 train {'loss': 8.168025, 'categorical_accuracy': 0.033832468}\n",
      "Epoch 182 validate {'loss': 8.168025, 'categorical_accuracy': 0.033832468}\n",
      "Epoch 183 train {'loss': 8.164081, 'categorical_accuracy': 0.033946957}\n",
      "Epoch 183 validate {'loss': 8.164081, 'categorical_accuracy': 0.033946957}\n",
      "Epoch 184 train {'loss': 8.16087, 'categorical_accuracy': 0.034122694}\n",
      "Epoch 184 validate {'loss': 8.16087, 'categorical_accuracy': 0.034122694}\n",
      "Epoch 185 train {'loss': 8.156645, 'categorical_accuracy': 0.034049403}\n",
      "Epoch 185 validate {'loss': 8.156645, 'categorical_accuracy': 0.034049403}\n",
      "Epoch 186 train {'loss': 8.148876, 'categorical_accuracy': 0.03410002}\n",
      "Epoch 186 validate {'loss': 8.148876, 'categorical_accuracy': 0.03410002}\n",
      "Epoch 187 train {'loss': 8.146214, 'categorical_accuracy': 0.03396597}\n",
      "Epoch 187 validate {'loss': 8.146214, 'categorical_accuracy': 0.03396597}\n",
      "Epoch 188 train {'loss': 8.139386, 'categorical_accuracy': 0.03389416}\n",
      "Epoch 188 validate {'loss': 8.139386, 'categorical_accuracy': 0.03389416}\n",
      "Epoch 189 train {'loss': 8.135621, 'categorical_accuracy': 0.03376196}\n",
      "Epoch 189 validate {'loss': 8.135621, 'categorical_accuracy': 0.03376196}\n",
      "Epoch 190 train {'loss': 8.127427, 'categorical_accuracy': 0.033691496}\n",
      "Epoch 190 validate {'loss': 8.127427, 'categorical_accuracy': 0.033691496}\n",
      "Epoch 191 train {'loss': 8.120595, 'categorical_accuracy': 0.033742517}\n",
      "Epoch 191 validate {'loss': 8.120595, 'categorical_accuracy': 0.033742517}\n",
      "Epoch 192 train {'loss': 8.115586, 'categorical_accuracy': 0.033612434}\n",
      "Epoch 192 validate {'loss': 8.115586, 'categorical_accuracy': 0.033612434}\n",
      "Epoch 193 train {'loss': 8.111939, 'categorical_accuracy': 0.033543356}\n",
      "Epoch 193 validate {'loss': 8.111939, 'categorical_accuracy': 0.033543356}\n",
      "Epoch 194 train {'loss': 8.106348, 'categorical_accuracy': 0.033474803}\n",
      "Epoch 194 validate {'loss': 8.106348, 'categorical_accuracy': 0.033474803}\n",
      "Epoch 195 train {'loss': 8.103287, 'categorical_accuracy': 0.033466324}\n",
      "Epoch 195 validate {'loss': 8.103287, 'categorical_accuracy': 0.033466324}\n",
      "Epoch 196 train {'loss': 8.100088, 'categorical_accuracy': 0.033398587}\n",
      "Epoch 196 validate {'loss': 8.100088, 'categorical_accuracy': 0.033398587}\n",
      "Epoch 197 train {'loss': 8.097821, 'categorical_accuracy': 0.03350866}\n",
      "Epoch 197 validate {'loss': 8.097821, 'categorical_accuracy': 0.03350866}\n",
      "Epoch 198 train {'loss': 8.093863, 'categorical_accuracy': 0.033500146}\n",
      "Epoch 198 validate {'loss': 8.093863, 'categorical_accuracy': 0.033500146}\n",
      "Epoch 199 train {'loss': 8.090085, 'categorical_accuracy': 0.0334917}\n",
      "Epoch 199 validate {'loss': 8.090085, 'categorical_accuracy': 0.0334917}\n",
      "Epoch 200 train {'loss': 8.08903, 'categorical_accuracy': 0.033658624}\n",
      "Epoch 200 validate {'loss': 8.08903, 'categorical_accuracy': 0.033658624}\n",
      "Epoch 201 train {'loss': 8.084888, 'categorical_accuracy': 0.033707865}\n",
      "Epoch 201 validate {'loss': 8.084888, 'categorical_accuracy': 0.033707865}\n",
      "Epoch 202 train {'loss': 8.084305, 'categorical_accuracy': 0.033756744}\n",
      "Epoch 202 validate {'loss': 8.084305, 'categorical_accuracy': 0.033756744}\n",
      "Epoch 203 train {'loss': 8.077681, 'categorical_accuracy': 0.033747472}\n",
      "Epoch 203 validate {'loss': 8.077681, 'categorical_accuracy': 0.033747472}\n",
      "Epoch 204 train {'loss': 8.074731, 'categorical_accuracy': 0.03362312}\n",
      "Epoch 204 validate {'loss': 8.074731, 'categorical_accuracy': 0.03362312}\n",
      "Epoch 205 train {'loss': 8.070398, 'categorical_accuracy': 0.03361441}\n",
      "Epoch 205 validate {'loss': 8.070398, 'categorical_accuracy': 0.03361441}\n",
      "Epoch 206 train {'loss': 8.065692, 'categorical_accuracy': 0.033491455}\n",
      "Epoch 206 validate {'loss': 8.065692, 'categorical_accuracy': 0.033491455}\n",
      "Epoch 207 train {'loss': 8.057297, 'categorical_accuracy': 0.0333694}\n",
      "Epoch 207 validate {'loss': 8.057297, 'categorical_accuracy': 0.0333694}\n",
      "Epoch 208 train {'loss': 8.052333, 'categorical_accuracy': 0.033304963}\n",
      "Epoch 208 validate {'loss': 8.052333, 'categorical_accuracy': 0.033304963}\n",
      "Epoch 209 train {'loss': 8.048181, 'categorical_accuracy': 0.033467125}\n",
      "Epoch 209 validate {'loss': 8.048181, 'categorical_accuracy': 0.033467125}\n",
      "Epoch 210 train {'loss': 8.046049, 'categorical_accuracy': 0.033402804}\n",
      "Epoch 210 validate {'loss': 8.046049, 'categorical_accuracy': 0.033402804}\n",
      "Epoch 211 train {'loss': 8.045973, 'categorical_accuracy': 0.033619575}\n",
      "Epoch 211 validate {'loss': 8.045973, 'categorical_accuracy': 0.033619575}\n",
      "Epoch 212 train {'loss': 8.051823, 'categorical_accuracy': 0.033722945}\n",
      "Epoch 212 validate {'loss': 8.051823, 'categorical_accuracy': 0.033722945}\n",
      "Epoch 213 train {'loss': 8.050841, 'categorical_accuracy': 0.033881303}\n",
      "Epoch 213 validate {'loss': 8.050841, 'categorical_accuracy': 0.033881303}\n",
      "Epoch 214 train {'loss': 8.045679, 'categorical_accuracy': 0.033983007}\n",
      "Epoch 214 validate {'loss': 8.045679, 'categorical_accuracy': 0.033983007}\n",
      "Epoch 215 train {'loss': 8.04248, 'categorical_accuracy': 0.03397333}\n",
      "Epoch 215 validate {'loss': 8.04248, 'categorical_accuracy': 0.03397333}\n",
      "Epoch 216 train {'loss': 8.041945, 'categorical_accuracy': 0.033908583}\n",
      "Epoch 216 validate {'loss': 8.041945, 'categorical_accuracy': 0.033908583}\n",
      "Epoch 217 train {'loss': 8.042203, 'categorical_accuracy': 0.033844296}\n",
      "Epoch 217 validate {'loss': 8.042203, 'categorical_accuracy': 0.033844296}\n",
      "Epoch 218 train {'loss': 8.045142, 'categorical_accuracy': 0.033725705}\n",
      "Epoch 218 validate {'loss': 8.045142, 'categorical_accuracy': 0.033725705}\n",
      "Epoch 219 train {'loss': 8.042681, 'categorical_accuracy': 0.03377162}\n",
      "Epoch 219 validate {'loss': 8.042681, 'categorical_accuracy': 0.03377162}\n",
      "Epoch 220 train {'loss': 8.040093, 'categorical_accuracy': 0.03365411}\n",
      "Epoch 220 validate {'loss': 8.040093, 'categorical_accuracy': 0.03365411}\n",
      "Epoch 221 train {'loss': 8.03799, 'categorical_accuracy': 0.03359159}\n",
      "Epoch 221 validate {'loss': 8.03799, 'categorical_accuracy': 0.03359159}\n",
      "Epoch 222 train {'loss': 8.03729, 'categorical_accuracy': 0.033475515}\n",
      "Epoch 222 validate {'loss': 8.03729, 'categorical_accuracy': 0.033475515}\n",
      "Epoch 223 train {'loss': 8.033402, 'categorical_accuracy': 0.03346785}\n",
      "Epoch 223 validate {'loss': 8.033402, 'categorical_accuracy': 0.03346785}\n",
      "Epoch 224 train {'loss': 8.030836, 'categorical_accuracy': 0.033406615}\n",
      "Epoch 224 validate {'loss': 8.030836, 'categorical_accuracy': 0.033406615}\n"
     ]
    },
    {
     "name": "stdout",
     "output_type": "stream",
     "text": [
      "Epoch 225 train {'loss': 8.031443, 'categorical_accuracy': 0.033399243}\n",
      "Epoch 225 validate {'loss': 8.031443, 'categorical_accuracy': 0.033399243}\n",
      "Epoch 226 train {'loss': 8.029438, 'categorical_accuracy': 0.033391915}\n",
      "Epoch 226 validate {'loss': 8.029438, 'categorical_accuracy': 0.033391915}\n",
      "Epoch 227 train {'loss': 8.027628, 'categorical_accuracy': 0.033437714}\n",
      "Epoch 227 validate {'loss': 8.027628, 'categorical_accuracy': 0.033437714}\n",
      "Epoch 228 train {'loss': 8.025127, 'categorical_accuracy': 0.033324517}\n",
      "Epoch 228 validate {'loss': 8.025127, 'categorical_accuracy': 0.033324517}\n",
      "Epoch 229 train {'loss': 8.019341, 'categorical_accuracy': 0.03368654}\n",
      "Epoch 229 validate {'loss': 8.019341, 'categorical_accuracy': 0.03368654}\n",
      "Epoch 230 train {'loss': 8.016454, 'categorical_accuracy': 0.033730887}\n",
      "Epoch 230 validate {'loss': 8.016454, 'categorical_accuracy': 0.033730887}\n",
      "Epoch 231 train {'loss': 8.01351, 'categorical_accuracy': 0.03367021}\n",
      "Epoch 231 validate {'loss': 8.01351, 'categorical_accuracy': 0.03367021}\n",
      "Epoch 232 train {'loss': 8.009767, 'categorical_accuracy': 0.033609938}\n",
      "Epoch 232 validate {'loss': 8.009767, 'categorical_accuracy': 0.033609938}\n",
      "Epoch 233 train {'loss': 8.008735, 'categorical_accuracy': 0.033550065}\n",
      "Epoch 233 validate {'loss': 8.008735, 'categorical_accuracy': 0.033550065}\n",
      "Epoch 234 train {'loss': 8.007598, 'categorical_accuracy': 0.033438746}\n",
      "Epoch 234 validate {'loss': 8.007598, 'categorical_accuracy': 0.033438746}\n",
      "Epoch 235 train {'loss': 8.006588, 'categorical_accuracy': 0.033379838}\n",
      "Epoch 235 validate {'loss': 8.006588, 'categorical_accuracy': 0.033379838}\n",
      "Epoch 236 train {'loss': 8.005875, 'categorical_accuracy': 0.033269815}\n",
      "Epoch 236 validate {'loss': 8.005875, 'categorical_accuracy': 0.033269815}\n",
      "Epoch 237 train {'loss': 8.000684, 'categorical_accuracy': 0.033365842}\n",
      "Epoch 237 validate {'loss': 8.000684, 'categorical_accuracy': 0.033365842}\n",
      "Epoch 238 train {'loss': 7.998071, 'categorical_accuracy': 0.03341008}\n",
      "Epoch 238 validate {'loss': 7.998071, 'categorical_accuracy': 0.03341008}\n",
      "Epoch 239 train {'loss': 7.9957957, 'categorical_accuracy': 0.033658013}\n",
      "Epoch 239 validate {'loss': 7.9957957, 'categorical_accuracy': 0.033658013}\n",
      "Epoch 240 train {'loss': 7.992153, 'categorical_accuracy': 0.03359935}\n",
      "Epoch 240 validate {'loss': 7.992153, 'categorical_accuracy': 0.03359935}\n",
      "Epoch 241 train {'loss': 7.9881206, 'categorical_accuracy': 0.033642396}\n",
      "Epoch 241 validate {'loss': 7.9881206, 'categorical_accuracy': 0.033642396}\n",
      "Epoch 242 train {'loss': 7.9854293, 'categorical_accuracy': 0.033685166}\n",
      "Epoch 242 validate {'loss': 7.9854293, 'categorical_accuracy': 0.033685166}\n",
      "Epoch 243 train {'loss': 7.983137, 'categorical_accuracy': 0.033778}\n",
      "Epoch 243 validate {'loss': 7.983137, 'categorical_accuracy': 0.033778}\n",
      "Epoch 244 train {'loss': 7.9791675, 'categorical_accuracy': 0.033820063}\n",
      "Epoch 244 validate {'loss': 7.9791675, 'categorical_accuracy': 0.033820063}\n",
      "Epoch 245 train {'loss': 7.975587, 'categorical_accuracy': 0.03391187}\n",
      "Epoch 245 validate {'loss': 7.975587, 'categorical_accuracy': 0.03391187}\n",
      "Epoch 246 train {'loss': 7.972603, 'categorical_accuracy': 0.033953235}\n",
      "Epoch 246 validate {'loss': 7.972603, 'categorical_accuracy': 0.033953235}\n",
      "Epoch 247 train {'loss': 7.969303, 'categorical_accuracy': 0.033944637}\n",
      "Epoch 247 validate {'loss': 7.969303, 'categorical_accuracy': 0.033944637}\n",
      "Epoch 248 train {'loss': 7.9670043, 'categorical_accuracy': 0.033886548}\n",
      "Epoch 248 validate {'loss': 7.9670043, 'categorical_accuracy': 0.033886548}\n",
      "Epoch 249 train {'loss': 7.9648237, 'categorical_accuracy': 0.033878215}\n",
      "Epoch 249 validate {'loss': 7.9648237, 'categorical_accuracy': 0.033878215}\n",
      "Epoch 250 train {'loss': 7.9644833, 'categorical_accuracy': 0.033771478}\n",
      "Epoch 250 validate {'loss': 7.9644833, 'categorical_accuracy': 0.033771478}\n",
      "Epoch 251 train {'loss': 7.9614778, 'categorical_accuracy': 0.03371448}\n",
      "Epoch 251 validate {'loss': 7.9614778, 'categorical_accuracy': 0.03371448}\n",
      "Epoch 252 train {'loss': 7.9576006, 'categorical_accuracy': 0.033657845}\n",
      "Epoch 252 validate {'loss': 7.9576006, 'categorical_accuracy': 0.033657845}\n",
      "Epoch 253 train {'loss': 7.954483, 'categorical_accuracy': 0.0336991}\n",
      "Epoch 253 validate {'loss': 7.954483, 'categorical_accuracy': 0.0336991}\n",
      "Epoch 254 train {'loss': 7.950989, 'categorical_accuracy': 0.033642862}\n",
      "Epoch 254 validate {'loss': 7.950989, 'categorical_accuracy': 0.033642862}\n",
      "Epoch 255 train {'loss': 7.9503374, 'categorical_accuracy': 0.03358697}\n",
      "Epoch 255 validate {'loss': 7.9503374, 'categorical_accuracy': 0.03358697}\n",
      "Epoch 256 train {'loss': 7.951187, 'categorical_accuracy': 0.03362806}\n",
      "Epoch 256 validate {'loss': 7.951187, 'categorical_accuracy': 0.03362806}\n",
      "Epoch 257 train {'loss': 7.947521, 'categorical_accuracy': 0.033861566}\n",
      "Epoch 257 validate {'loss': 7.947521, 'categorical_accuracy': 0.033861566}\n",
      "Epoch 258 train {'loss': 7.9445047, 'categorical_accuracy': 0.033805523}\n",
      "Epoch 258 validate {'loss': 7.9445047, 'categorical_accuracy': 0.033805523}\n",
      "Epoch 259 train {'loss': 7.9394717, 'categorical_accuracy': 0.03398918}\n",
      "Epoch 259 validate {'loss': 7.9394717, 'categorical_accuracy': 0.03398918}\n",
      "Epoch 260 train {'loss': 7.933137, 'categorical_accuracy': 0.03426717}\n",
      "Epoch 260 validate {'loss': 7.933137, 'categorical_accuracy': 0.03426717}\n",
      "Epoch 261 train {'loss': 7.9330354, 'categorical_accuracy': 0.034448303}\n",
      "Epoch 261 validate {'loss': 7.9330354, 'categorical_accuracy': 0.034448303}\n",
      "Epoch 262 train {'loss': 7.9329653, 'categorical_accuracy': 0.0345809}\n",
      "Epoch 262 validate {'loss': 7.9329653, 'categorical_accuracy': 0.0345809}\n",
      "Epoch 263 train {'loss': 7.9294662, 'categorical_accuracy': 0.03475999}\n",
      "Epoch 263 validate {'loss': 7.9294662, 'categorical_accuracy': 0.03475999}\n",
      "Epoch 264 train {'loss': 7.928924, 'categorical_accuracy': 0.03470225}\n",
      "Epoch 264 validate {'loss': 7.928924, 'categorical_accuracy': 0.03470225}\n",
      "Epoch 265 train {'loss': 7.929091, 'categorical_accuracy': 0.03469215}\n",
      "Epoch 265 validate {'loss': 7.929091, 'categorical_accuracy': 0.03469215}\n",
      "Epoch 266 train {'loss': 7.929091, 'categorical_accuracy': 0.03469215}\n",
      "Epoch 266 validate {'loss': 7.929091, 'categorical_accuracy': 0.03469215}\n",
      "Epoch 267 train {'loss': 7.929091, 'categorical_accuracy': 0.03469215}\n",
      "Epoch 267 validate {'loss': 7.929091, 'categorical_accuracy': 0.03469215}\n",
      "Epoch 268 train {'loss': 7.929091, 'categorical_accuracy': 0.03469215}\n",
      "Epoch 268 validate {'loss': 7.929091, 'categorical_accuracy': 0.03469215}\n",
      "Epoch 269 train {'loss': 7.929091, 'categorical_accuracy': 0.03469215}\n",
      "Epoch 269 validate {'loss': 7.929091, 'categorical_accuracy': 0.03469215}\n",
      "Epoch 270 train {'loss': 7.929091, 'categorical_accuracy': 0.03469215}\n",
      "Epoch 270 validate {'loss': 7.929091, 'categorical_accuracy': 0.03469215}\n",
      "Epoch 271 train {'loss': 7.929091, 'categorical_accuracy': 0.03469215}\n",
      "Epoch 271 validate {'loss': 7.929091, 'categorical_accuracy': 0.03469215}\n",
      "Epoch 272 train {'loss': 7.929091, 'categorical_accuracy': 0.03469215}\n",
      "Epoch 272 validate {'loss': 7.929091, 'categorical_accuracy': 0.03469215}\n",
      "Epoch 273 train {'loss': 7.929091, 'categorical_accuracy': 0.03469215}\n",
      "Epoch 273 validate {'loss': 7.929091, 'categorical_accuracy': 0.03469215}\n",
      "Epoch 274 train {'loss': 7.929091, 'categorical_accuracy': 0.03469215}\n",
      "Epoch 274 validate {'loss': 7.929091, 'categorical_accuracy': 0.03469215}\n",
      "Epoch 275 train {'loss': 7.929091, 'categorical_accuracy': 0.03469215}\n",
      "Epoch 275 validate {'loss': 7.929091, 'categorical_accuracy': 0.03469215}\n",
      "Epoch 276 train {'loss': 7.929091, 'categorical_accuracy': 0.03469215}\n",
      "Epoch 276 validate {'loss': 7.929091, 'categorical_accuracy': 0.03469215}\n",
      "Epoch 277 train {'loss': 7.929091, 'categorical_accuracy': 0.03469215}\n",
      "Epoch 277 validate {'loss': 7.929091, 'categorical_accuracy': 0.03469215}\n",
      "Epoch 278 train {'loss': 7.929091, 'categorical_accuracy': 0.03469215}\n",
      "Epoch 278 validate {'loss': 7.929091, 'categorical_accuracy': 0.03469215}\n",
      "Epoch 279 train {'loss': 7.929091, 'categorical_accuracy': 0.03469215}\n",
      "Epoch 279 validate {'loss': 7.929091, 'categorical_accuracy': 0.03469215}\n",
      "Epoch 280 train {'loss': 7.929091, 'categorical_accuracy': 0.03469215}\n",
      "Epoch 280 validate {'loss': 7.929091, 'categorical_accuracy': 0.03469215}\n"
     ]
    },
    {
     "name": "stdout",
     "output_type": "stream",
     "text": [
      "Epoch 281 train {'loss': 7.929091, 'categorical_accuracy': 0.03469215}\n",
      "Epoch 281 validate {'loss': 7.929091, 'categorical_accuracy': 0.03469215}\n",
      "Epoch 282 train {'loss': 7.929091, 'categorical_accuracy': 0.03469215}\n",
      "Epoch 282 validate {'loss': 7.929091, 'categorical_accuracy': 0.03469215}\n",
      "Epoch 283 train {'loss': 7.929091, 'categorical_accuracy': 0.03469215}\n",
      "Epoch 283 validate {'loss': 7.929091, 'categorical_accuracy': 0.03469215}\n",
      "Epoch 284 train {'loss': 7.929091, 'categorical_accuracy': 0.03469215}\n",
      "Epoch 284 validate {'loss': 7.929091, 'categorical_accuracy': 0.03469215}\n",
      "Epoch 285 train {'loss': 7.929091, 'categorical_accuracy': 0.03469215}\n",
      "Epoch 285 validate {'loss': 7.929091, 'categorical_accuracy': 0.03469215}\n",
      "Epoch 286 train {'loss': 7.929091, 'categorical_accuracy': 0.03469215}\n",
      "Epoch 286 validate {'loss': 7.929091, 'categorical_accuracy': 0.03469215}\n",
      "Epoch 287 train {'loss': 7.929091, 'categorical_accuracy': 0.03469215}\n",
      "Epoch 287 validate {'loss': 7.929091, 'categorical_accuracy': 0.03469215}\n",
      "Epoch 288 train {'loss': 7.929091, 'categorical_accuracy': 0.03469215}\n",
      "Epoch 288 validate {'loss': 7.929091, 'categorical_accuracy': 0.03469215}\n",
      "Epoch 289 train {'loss': 7.929091, 'categorical_accuracy': 0.03469215}\n",
      "Epoch 289 validate {'loss': 7.929091, 'categorical_accuracy': 0.03469215}\n",
      "Epoch 290 train {'loss': 7.929091, 'categorical_accuracy': 0.03469215}\n",
      "Epoch 290 validate {'loss': 7.929091, 'categorical_accuracy': 0.03469215}\n",
      "Epoch 291 train {'loss': 7.929091, 'categorical_accuracy': 0.03469215}\n",
      "Epoch 291 validate {'loss': 7.929091, 'categorical_accuracy': 0.03469215}\n",
      "Epoch 292 train {'loss': 7.929091, 'categorical_accuracy': 0.03469215}\n",
      "Epoch 292 validate {'loss': 7.929091, 'categorical_accuracy': 0.03469215}\n",
      "Epoch 293 train {'loss': 7.929091, 'categorical_accuracy': 0.03469215}\n",
      "Epoch 293 validate {'loss': 7.929091, 'categorical_accuracy': 0.03469215}\n",
      "Epoch 294 train {'loss': 7.929091, 'categorical_accuracy': 0.03469215}\n",
      "Epoch 294 validate {'loss': 7.929091, 'categorical_accuracy': 0.03469215}\n",
      "Epoch 295 train {'loss': 7.929091, 'categorical_accuracy': 0.03469215}\n",
      "Epoch 295 validate {'loss': 7.929091, 'categorical_accuracy': 0.03469215}\n",
      "Epoch 296 train {'loss': 7.929091, 'categorical_accuracy': 0.03469215}\n",
      "Epoch 296 validate {'loss': 7.929091, 'categorical_accuracy': 0.03469215}\n",
      "Epoch 297 train {'loss': 7.929091, 'categorical_accuracy': 0.03469215}\n",
      "Epoch 297 validate {'loss': 7.929091, 'categorical_accuracy': 0.03469215}\n",
      "Epoch 298 train {'loss': 7.929091, 'categorical_accuracy': 0.03469215}\n",
      "Epoch 298 validate {'loss': 7.929091, 'categorical_accuracy': 0.03469215}\n",
      "Epoch 299 train {'loss': 7.929091, 'categorical_accuracy': 0.03469215}\n",
      "Epoch 299 validate {'loss': 7.929091, 'categorical_accuracy': 0.03469215}\n",
      "Epoch 300 train {'loss': 7.929091, 'categorical_accuracy': 0.03469215}\n",
      "Epoch 300 validate {'loss': 7.929091, 'categorical_accuracy': 0.03469215}\n",
      "Epoch 301 train {'loss': 7.929091, 'categorical_accuracy': 0.03469215}\n",
      "Epoch 301 validate {'loss': 7.929091, 'categorical_accuracy': 0.03469215}\n",
      "Epoch 302 train {'loss': 7.929091, 'categorical_accuracy': 0.03469215}\n",
      "Epoch 302 validate {'loss': 7.929091, 'categorical_accuracy': 0.03469215}\n",
      "Epoch 303 train {'loss': 7.929091, 'categorical_accuracy': 0.03469215}\n",
      "Epoch 303 validate {'loss': 7.929091, 'categorical_accuracy': 0.03469215}\n",
      "Epoch 304 train {'loss': 7.929091, 'categorical_accuracy': 0.03469215}\n",
      "Epoch 304 validate {'loss': 7.929091, 'categorical_accuracy': 0.03469215}\n",
      "Epoch 305 train {'loss': 7.929091, 'categorical_accuracy': 0.03469215}\n",
      "Epoch 305 validate {'loss': 7.929091, 'categorical_accuracy': 0.03469215}\n",
      "Epoch 306 train {'loss': 7.929091, 'categorical_accuracy': 0.03469215}\n",
      "Epoch 306 validate {'loss': 7.929091, 'categorical_accuracy': 0.03469215}\n",
      "Epoch 307 train {'loss': 7.929091, 'categorical_accuracy': 0.03469215}\n",
      "Epoch 307 validate {'loss': 7.929091, 'categorical_accuracy': 0.03469215}\n",
      "Epoch 308 train {'loss': 7.929091, 'categorical_accuracy': 0.03469215}\n",
      "Epoch 308 validate {'loss': 7.929091, 'categorical_accuracy': 0.03469215}\n",
      "Epoch 309 train {'loss': 7.929091, 'categorical_accuracy': 0.03469215}\n",
      "Epoch 309 validate {'loss': 7.929091, 'categorical_accuracy': 0.03469215}\n",
      "Epoch 310 train {'loss': 7.929091, 'categorical_accuracy': 0.03469215}\n",
      "Epoch 310 validate {'loss': 7.929091, 'categorical_accuracy': 0.03469215}\n",
      "Epoch 311 train {'loss': 7.929091, 'categorical_accuracy': 0.03469215}\n",
      "Epoch 311 validate {'loss': 7.929091, 'categorical_accuracy': 0.03469215}\n",
      "Epoch 312 train {'loss': 7.929091, 'categorical_accuracy': 0.03469215}\n",
      "Epoch 312 validate {'loss': 7.929091, 'categorical_accuracy': 0.03469215}\n",
      "Epoch 313 train {'loss': 7.929091, 'categorical_accuracy': 0.03469215}\n",
      "Epoch 313 validate {'loss': 7.929091, 'categorical_accuracy': 0.03469215}\n",
      "Epoch 314 train {'loss': 7.929091, 'categorical_accuracy': 0.03469215}\n",
      "Epoch 314 validate {'loss': 7.929091, 'categorical_accuracy': 0.03469215}\n",
      "Epoch 315 train {'loss': 7.929091, 'categorical_accuracy': 0.03469215}\n",
      "Epoch 315 validate {'loss': 7.929091, 'categorical_accuracy': 0.03469215}\n",
      "Epoch 316 train {'loss': 7.929091, 'categorical_accuracy': 0.03469215}\n",
      "Epoch 316 validate {'loss': 7.929091, 'categorical_accuracy': 0.03469215}\n",
      "Epoch 317 train {'loss': 7.929091, 'categorical_accuracy': 0.03469215}\n",
      "Epoch 317 validate {'loss': 7.929091, 'categorical_accuracy': 0.03469215}\n",
      "Epoch 318 train {'loss': 7.929091, 'categorical_accuracy': 0.03469215}\n",
      "Epoch 318 validate {'loss': 7.929091, 'categorical_accuracy': 0.03469215}\n",
      "Epoch 319 train {'loss': 7.929091, 'categorical_accuracy': 0.03469215}\n",
      "Epoch 319 validate {'loss': 7.929091, 'categorical_accuracy': 0.03469215}\n",
      "Epoch 320 train {'loss': 7.929091, 'categorical_accuracy': 0.03469215}\n",
      "Epoch 320 validate {'loss': 7.929091, 'categorical_accuracy': 0.03469215}\n",
      "Epoch 321 train {'loss': 7.929091, 'categorical_accuracy': 0.03469215}\n",
      "Epoch 321 validate {'loss': 7.929091, 'categorical_accuracy': 0.03469215}\n",
      "Epoch 322 train {'loss': 7.929091, 'categorical_accuracy': 0.03469215}\n",
      "Epoch 322 validate {'loss': 7.929091, 'categorical_accuracy': 0.03469215}\n",
      "Epoch 323 train {'loss': 7.929091, 'categorical_accuracy': 0.03469215}\n",
      "Epoch 323 validate {'loss': 7.929091, 'categorical_accuracy': 0.03469215}\n",
      "Epoch 324 train {'loss': 7.929091, 'categorical_accuracy': 0.03469215}\n",
      "Epoch 324 validate {'loss': 7.929091, 'categorical_accuracy': 0.03469215}\n",
      "Epoch 325 train {'loss': 7.929091, 'categorical_accuracy': 0.03469215}\n",
      "Epoch 325 validate {'loss': 7.929091, 'categorical_accuracy': 0.03469215}\n",
      "Epoch 326 train {'loss': 7.929091, 'categorical_accuracy': 0.03469215}\n",
      "Epoch 326 validate {'loss': 7.929091, 'categorical_accuracy': 0.03469215}\n",
      "Epoch 327 train {'loss': 7.929091, 'categorical_accuracy': 0.03469215}\n",
      "Epoch 327 validate {'loss': 7.929091, 'categorical_accuracy': 0.03469215}\n",
      "Epoch 328 train {'loss': 7.929091, 'categorical_accuracy': 0.03469215}\n",
      "Epoch 328 validate {'loss': 7.929091, 'categorical_accuracy': 0.03469215}\n",
      "Epoch 329 train {'loss': 7.929091, 'categorical_accuracy': 0.03469215}\n",
      "Epoch 329 validate {'loss': 7.929091, 'categorical_accuracy': 0.03469215}\n",
      "Epoch 330 train {'loss': 7.929091, 'categorical_accuracy': 0.03469215}\n",
      "Epoch 330 validate {'loss': 7.929091, 'categorical_accuracy': 0.03469215}\n",
      "Epoch 331 train {'loss': 7.929091, 'categorical_accuracy': 0.03469215}\n",
      "Epoch 331 validate {'loss': 7.929091, 'categorical_accuracy': 0.03469215}\n",
      "Epoch 332 train {'loss': 7.929091, 'categorical_accuracy': 0.03469215}\n",
      "Epoch 332 validate {'loss': 7.929091, 'categorical_accuracy': 0.03469215}\n",
      "Epoch 333 train {'loss': 7.929091, 'categorical_accuracy': 0.03469215}\n",
      "Epoch 333 validate {'loss': 7.929091, 'categorical_accuracy': 0.03469215}\n",
      "Epoch 334 train {'loss': 7.929091, 'categorical_accuracy': 0.03469215}\n",
      "Epoch 334 validate {'loss': 7.929091, 'categorical_accuracy': 0.03469215}\n",
      "Epoch 335 train {'loss': 7.929091, 'categorical_accuracy': 0.03469215}\n",
      "Epoch 335 validate {'loss': 7.929091, 'categorical_accuracy': 0.03469215}\n",
      "Epoch 336 train {'loss': 7.929091, 'categorical_accuracy': 0.03469215}\n",
      "Epoch 336 validate {'loss': 7.929091, 'categorical_accuracy': 0.03469215}\n",
      "Epoch 337 train {'loss': 7.929091, 'categorical_accuracy': 0.03469215}\n"
     ]
    },
    {
     "name": "stdout",
     "output_type": "stream",
     "text": [
      "Epoch 337 validate {'loss': 7.929091, 'categorical_accuracy': 0.03469215}\n",
      "Epoch 338 train {'loss': 7.929091, 'categorical_accuracy': 0.03469215}\n",
      "Epoch 338 validate {'loss': 7.929091, 'categorical_accuracy': 0.03469215}\n",
      "Epoch 339 train {'loss': 7.929091, 'categorical_accuracy': 0.03469215}\n",
      "Epoch 339 validate {'loss': 7.929091, 'categorical_accuracy': 0.03469215}\n",
      "Epoch 340 train {'loss': 7.929091, 'categorical_accuracy': 0.03469215}\n",
      "Epoch 340 validate {'loss': 7.929091, 'categorical_accuracy': 0.03469215}\n",
      "Epoch 341 train {'loss': 7.929091, 'categorical_accuracy': 0.03469215}\n",
      "Epoch 341 validate {'loss': 7.929091, 'categorical_accuracy': 0.03469215}\n",
      "Epoch 342 train {'loss': 7.929091, 'categorical_accuracy': 0.03469215}\n",
      "Epoch 342 validate {'loss': 7.929091, 'categorical_accuracy': 0.03469215}\n",
      "Epoch 343 train {'loss': 7.929091, 'categorical_accuracy': 0.03469215}\n",
      "Epoch 343 validate {'loss': 7.929091, 'categorical_accuracy': 0.03469215}\n",
      "Epoch 344 train {'loss': 7.929091, 'categorical_accuracy': 0.03469215}\n",
      "Epoch 344 validate {'loss': 7.929091, 'categorical_accuracy': 0.03469215}\n",
      "Epoch 345 train {'loss': 7.929091, 'categorical_accuracy': 0.03469215}\n",
      "Epoch 345 validate {'loss': 7.929091, 'categorical_accuracy': 0.03469215}\n",
      "Epoch 346 train {'loss': 7.929091, 'categorical_accuracy': 0.03469215}\n",
      "Epoch 346 validate {'loss': 7.929091, 'categorical_accuracy': 0.03469215}\n",
      "Epoch 347 train {'loss': 7.929091, 'categorical_accuracy': 0.03469215}\n",
      "Epoch 347 validate {'loss': 7.929091, 'categorical_accuracy': 0.03469215}\n"
     ]
    },
    {
     "ename": "KeyboardInterrupt",
     "evalue": "",
     "output_type": "error",
     "traceback": [
      "\u001b[1;31m---------------------------------------------------------------------------\u001b[0m",
      "\u001b[1;31mKeyboardInterrupt\u001b[0m                         Traceback (most recent call last)",
      "\u001b[1;32m~\\AppData\\Local\\Temp/ipykernel_16788/1939419782.py\u001b[0m in \u001b[0;36m<module>\u001b[1;34m\u001b[0m\n\u001b[0;32m      3\u001b[0m \u001b[1;32mfor\u001b[0m \u001b[0mepoch\u001b[0m \u001b[1;32min\u001b[0m \u001b[0mrange\u001b[0m\u001b[1;33m(\u001b[0m\u001b[1;36m1000\u001b[0m\u001b[1;33m)\u001b[0m\u001b[1;33m:\u001b[0m\u001b[1;33m\u001b[0m\u001b[1;33m\u001b[0m\u001b[0m\n\u001b[0;32m      4\u001b[0m     \u001b[0mtrain_loader\u001b[0m \u001b[1;33m=\u001b[0m \u001b[0mfed_dataset\u001b[0m\u001b[1;33m.\u001b[0m\u001b[0mget_train_loader\u001b[0m\u001b[1;33m(\u001b[0m\u001b[1;33m)\u001b[0m\u001b[1;33m[\u001b[0m\u001b[0mepoch\u001b[0m\u001b[1;33m]\u001b[0m\u001b[1;33m\u001b[0m\u001b[1;33m\u001b[0m\u001b[0m\n\u001b[1;32m----> 5\u001b[1;33m     \u001b[0mmetrics\u001b[0m \u001b[1;33m=\u001b[0m \u001b[0mtrain\u001b[0m\u001b[1;33m(\u001b[0m\u001b[0mmodel\u001b[0m\u001b[1;33m,\u001b[0m \u001b[0mtrain_loader\u001b[0m\u001b[1;33m)\u001b[0m\u001b[1;33m\u001b[0m\u001b[1;33m\u001b[0m\u001b[0m\n\u001b[0m\u001b[0;32m      6\u001b[0m     \u001b[0mm\u001b[0m \u001b[1;33m=\u001b[0m \u001b[1;33m{\u001b[0m\u001b[0mkey\u001b[0m\u001b[1;33m:\u001b[0m \u001b[0mvalue\u001b[0m\u001b[1;33m.\u001b[0m\u001b[0mnumpy\u001b[0m\u001b[1;33m(\u001b[0m\u001b[1;33m)\u001b[0m \u001b[1;32mfor\u001b[0m \u001b[0mkey\u001b[0m\u001b[1;33m,\u001b[0m \u001b[0mvalue\u001b[0m \u001b[1;32min\u001b[0m \u001b[0mmetrics\u001b[0m\u001b[1;33m.\u001b[0m\u001b[0mitems\u001b[0m\u001b[1;33m(\u001b[0m\u001b[1;33m)\u001b[0m\u001b[1;33m}\u001b[0m\u001b[1;33m\u001b[0m\u001b[1;33m\u001b[0m\u001b[0m\n\u001b[0;32m      7\u001b[0m     \u001b[0mprint\u001b[0m\u001b[1;33m(\u001b[0m\u001b[1;34mf'Epoch {epoch} train {m}'\u001b[0m\u001b[1;33m)\u001b[0m\u001b[1;33m\u001b[0m\u001b[1;33m\u001b[0m\u001b[0m\n",
      "\u001b[1;32m~\\AppData\\Local\\Temp/ipykernel_16788/1527421686.py\u001b[0m in \u001b[0;36mtrain\u001b[1;34m(model, train_loader, device)\u001b[0m\n\u001b[0;32m     27\u001b[0m \u001b[1;33m\u001b[0m\u001b[0m\n\u001b[0;32m     28\u001b[0m         \u001b[1;31m# Update weights\u001b[0m\u001b[1;33m\u001b[0m\u001b[1;33m\u001b[0m\u001b[1;33m\u001b[0m\u001b[0m\n\u001b[1;32m---> 29\u001b[1;33m         \u001b[0mmodel\u001b[0m\u001b[1;33m.\u001b[0m\u001b[0moptimizer\u001b[0m\u001b[1;33m.\u001b[0m\u001b[0mapply_gradients\u001b[0m\u001b[1;33m(\u001b[0m\u001b[0mzip\u001b[0m\u001b[1;33m(\u001b[0m\u001b[0mgradients\u001b[0m\u001b[1;33m,\u001b[0m \u001b[0mtrainable_vars\u001b[0m\u001b[1;33m)\u001b[0m\u001b[1;33m)\u001b[0m\u001b[1;33m\u001b[0m\u001b[1;33m\u001b[0m\u001b[0m\n\u001b[0m\u001b[0;32m     30\u001b[0m \u001b[1;33m\u001b[0m\u001b[0m\n\u001b[0;32m     31\u001b[0m         \u001b[1;31m# Update metrics (includes the metric that tracks the loss)\u001b[0m\u001b[1;33m\u001b[0m\u001b[1;33m\u001b[0m\u001b[1;33m\u001b[0m\u001b[0m\n",
      "\u001b[1;32mc:\\users\\merkulov\\documents\\git\\venv_openfl\\lib\\site-packages\\tensorflow\\python\\keras\\optimizer_v2\\optimizer_v2.py\u001b[0m in \u001b[0;36mapply_gradients\u001b[1;34m(self, grads_and_vars, name, experimental_aggregate_gradients)\u001b[0m\n\u001b[0;32m    658\u001b[0m             \"ParameterServerStrategy and CentralStorageStrategy\")\n\u001b[0;32m    659\u001b[0m \u001b[1;33m\u001b[0m\u001b[0m\n\u001b[1;32m--> 660\u001b[1;33m       \u001b[0mapply_state\u001b[0m \u001b[1;33m=\u001b[0m \u001b[0mself\u001b[0m\u001b[1;33m.\u001b[0m\u001b[0m_prepare\u001b[0m\u001b[1;33m(\u001b[0m\u001b[0mvar_list\u001b[0m\u001b[1;33m)\u001b[0m\u001b[1;33m\u001b[0m\u001b[1;33m\u001b[0m\u001b[0m\n\u001b[0m\u001b[0;32m    661\u001b[0m       \u001b[1;32mif\u001b[0m \u001b[0mexperimental_aggregate_gradients\u001b[0m\u001b[1;33m:\u001b[0m\u001b[1;33m\u001b[0m\u001b[1;33m\u001b[0m\u001b[0m\n\u001b[0;32m    662\u001b[0m         \u001b[0mgrads_and_vars\u001b[0m \u001b[1;33m=\u001b[0m \u001b[0mself\u001b[0m\u001b[1;33m.\u001b[0m\u001b[0m_transform_unaggregated_gradients\u001b[0m\u001b[1;33m(\u001b[0m\u001b[0mgrads_and_vars\u001b[0m\u001b[1;33m)\u001b[0m\u001b[1;33m\u001b[0m\u001b[1;33m\u001b[0m\u001b[0m\n",
      "\u001b[1;32mc:\\users\\merkulov\\documents\\git\\venv_openfl\\lib\\site-packages\\tensorflow\\python\\keras\\optimizer_v2\\optimizer_v2.py\u001b[0m in \u001b[0;36m_prepare\u001b[1;34m(self, var_list)\u001b[0m\n\u001b[0;32m    940\u001b[0m       \u001b[0mapply_state\u001b[0m\u001b[1;33m[\u001b[0m\u001b[1;33m(\u001b[0m\u001b[0mvar_device\u001b[0m\u001b[1;33m,\u001b[0m \u001b[0mvar_dtype\u001b[0m\u001b[1;33m)\u001b[0m\u001b[1;33m]\u001b[0m \u001b[1;33m=\u001b[0m \u001b[1;33m{\u001b[0m\u001b[1;33m}\u001b[0m\u001b[1;33m\u001b[0m\u001b[1;33m\u001b[0m\u001b[0m\n\u001b[0;32m    941\u001b[0m       \u001b[1;32mwith\u001b[0m \u001b[0mops\u001b[0m\u001b[1;33m.\u001b[0m\u001b[0mdevice\u001b[0m\u001b[1;33m(\u001b[0m\u001b[0mvar_device\u001b[0m\u001b[1;33m)\u001b[0m\u001b[1;33m:\u001b[0m\u001b[1;33m\u001b[0m\u001b[1;33m\u001b[0m\u001b[0m\n\u001b[1;32m--> 942\u001b[1;33m         \u001b[0mself\u001b[0m\u001b[1;33m.\u001b[0m\u001b[0m_prepare_local\u001b[0m\u001b[1;33m(\u001b[0m\u001b[0mvar_device\u001b[0m\u001b[1;33m,\u001b[0m \u001b[0mvar_dtype\u001b[0m\u001b[1;33m,\u001b[0m \u001b[0mapply_state\u001b[0m\u001b[1;33m)\u001b[0m\u001b[1;33m\u001b[0m\u001b[1;33m\u001b[0m\u001b[0m\n\u001b[0m\u001b[0;32m    943\u001b[0m \u001b[1;33m\u001b[0m\u001b[0m\n\u001b[0;32m    944\u001b[0m     \u001b[1;32mreturn\u001b[0m \u001b[0mapply_state\u001b[0m\u001b[1;33m\u001b[0m\u001b[1;33m\u001b[0m\u001b[0m\n",
      "\u001b[1;32mc:\\users\\merkulov\\documents\\git\\venv_openfl\\lib\\site-packages\\tensorflow\\python\\keras\\optimizer_v2\\adam.py\u001b[0m in \u001b[0;36m_prepare_local\u001b[1;34m(self, var_device, var_dtype, apply_state)\u001b[0m\n\u001b[0;32m    130\u001b[0m \u001b[1;33m\u001b[0m\u001b[0m\n\u001b[0;32m    131\u001b[0m   \u001b[1;32mdef\u001b[0m \u001b[0m_prepare_local\u001b[0m\u001b[1;33m(\u001b[0m\u001b[0mself\u001b[0m\u001b[1;33m,\u001b[0m \u001b[0mvar_device\u001b[0m\u001b[1;33m,\u001b[0m \u001b[0mvar_dtype\u001b[0m\u001b[1;33m,\u001b[0m \u001b[0mapply_state\u001b[0m\u001b[1;33m)\u001b[0m\u001b[1;33m:\u001b[0m\u001b[1;33m\u001b[0m\u001b[1;33m\u001b[0m\u001b[0m\n\u001b[1;32m--> 132\u001b[1;33m     \u001b[0msuper\u001b[0m\u001b[1;33m(\u001b[0m\u001b[0mAdam\u001b[0m\u001b[1;33m,\u001b[0m \u001b[0mself\u001b[0m\u001b[1;33m)\u001b[0m\u001b[1;33m.\u001b[0m\u001b[0m_prepare_local\u001b[0m\u001b[1;33m(\u001b[0m\u001b[0mvar_device\u001b[0m\u001b[1;33m,\u001b[0m \u001b[0mvar_dtype\u001b[0m\u001b[1;33m,\u001b[0m \u001b[0mapply_state\u001b[0m\u001b[1;33m)\u001b[0m\u001b[1;33m\u001b[0m\u001b[1;33m\u001b[0m\u001b[0m\n\u001b[0m\u001b[0;32m    133\u001b[0m \u001b[1;33m\u001b[0m\u001b[0m\n\u001b[0;32m    134\u001b[0m     \u001b[0mlocal_step\u001b[0m \u001b[1;33m=\u001b[0m \u001b[0mmath_ops\u001b[0m\u001b[1;33m.\u001b[0m\u001b[0mcast\u001b[0m\u001b[1;33m(\u001b[0m\u001b[0mself\u001b[0m\u001b[1;33m.\u001b[0m\u001b[0miterations\u001b[0m \u001b[1;33m+\u001b[0m \u001b[1;36m1\u001b[0m\u001b[1;33m,\u001b[0m \u001b[0mvar_dtype\u001b[0m\u001b[1;33m)\u001b[0m\u001b[1;33m\u001b[0m\u001b[1;33m\u001b[0m\u001b[0m\n",
      "\u001b[1;32mc:\\users\\merkulov\\documents\\git\\venv_openfl\\lib\\site-packages\\tensorflow\\python\\keras\\optimizer_v2\\optimizer_v2.py\u001b[0m in \u001b[0;36m_prepare_local\u001b[1;34m(self, var_device, var_dtype, apply_state)\u001b[0m\n\u001b[0;32m    946\u001b[0m   \u001b[1;32mdef\u001b[0m \u001b[0m_prepare_local\u001b[0m\u001b[1;33m(\u001b[0m\u001b[0mself\u001b[0m\u001b[1;33m,\u001b[0m \u001b[0mvar_device\u001b[0m\u001b[1;33m,\u001b[0m \u001b[0mvar_dtype\u001b[0m\u001b[1;33m,\u001b[0m \u001b[0mapply_state\u001b[0m\u001b[1;33m)\u001b[0m\u001b[1;33m:\u001b[0m\u001b[1;33m\u001b[0m\u001b[1;33m\u001b[0m\u001b[0m\n\u001b[0;32m    947\u001b[0m     \u001b[1;32mif\u001b[0m \u001b[1;34m\"learning_rate\"\u001b[0m \u001b[1;32min\u001b[0m \u001b[0mself\u001b[0m\u001b[1;33m.\u001b[0m\u001b[0m_hyper\u001b[0m\u001b[1;33m:\u001b[0m\u001b[1;33m\u001b[0m\u001b[1;33m\u001b[0m\u001b[0m\n\u001b[1;32m--> 948\u001b[1;33m       \u001b[0mlr_t\u001b[0m \u001b[1;33m=\u001b[0m \u001b[0marray_ops\u001b[0m\u001b[1;33m.\u001b[0m\u001b[0midentity\u001b[0m\u001b[1;33m(\u001b[0m\u001b[0mself\u001b[0m\u001b[1;33m.\u001b[0m\u001b[0m_decayed_lr\u001b[0m\u001b[1;33m(\u001b[0m\u001b[0mvar_dtype\u001b[0m\u001b[1;33m)\u001b[0m\u001b[1;33m)\u001b[0m\u001b[1;33m\u001b[0m\u001b[1;33m\u001b[0m\u001b[0m\n\u001b[0m\u001b[0;32m    949\u001b[0m       \u001b[0mapply_state\u001b[0m\u001b[1;33m[\u001b[0m\u001b[1;33m(\u001b[0m\u001b[0mvar_device\u001b[0m\u001b[1;33m,\u001b[0m \u001b[0mvar_dtype\u001b[0m\u001b[1;33m)\u001b[0m\u001b[1;33m]\u001b[0m\u001b[1;33m[\u001b[0m\u001b[1;34m\"lr_t\"\u001b[0m\u001b[1;33m]\u001b[0m \u001b[1;33m=\u001b[0m \u001b[0mlr_t\u001b[0m\u001b[1;33m\u001b[0m\u001b[1;33m\u001b[0m\u001b[0m\n\u001b[0;32m    950\u001b[0m \u001b[1;33m\u001b[0m\u001b[0m\n",
      "\u001b[1;32mc:\\users\\merkulov\\documents\\git\\venv_openfl\\lib\\site-packages\\tensorflow\\python\\util\\dispatch.py\u001b[0m in \u001b[0;36mwrapper\u001b[1;34m(*args, **kwargs)\u001b[0m\n\u001b[0;32m    204\u001b[0m     \u001b[1;34m\"\"\"Call target, and fall back on dispatchers if there is a TypeError.\"\"\"\u001b[0m\u001b[1;33m\u001b[0m\u001b[1;33m\u001b[0m\u001b[0m\n\u001b[0;32m    205\u001b[0m     \u001b[1;32mtry\u001b[0m\u001b[1;33m:\u001b[0m\u001b[1;33m\u001b[0m\u001b[1;33m\u001b[0m\u001b[0m\n\u001b[1;32m--> 206\u001b[1;33m       \u001b[1;32mreturn\u001b[0m \u001b[0mtarget\u001b[0m\u001b[1;33m(\u001b[0m\u001b[1;33m*\u001b[0m\u001b[0margs\u001b[0m\u001b[1;33m,\u001b[0m \u001b[1;33m**\u001b[0m\u001b[0mkwargs\u001b[0m\u001b[1;33m)\u001b[0m\u001b[1;33m\u001b[0m\u001b[1;33m\u001b[0m\u001b[0m\n\u001b[0m\u001b[0;32m    207\u001b[0m     \u001b[1;32mexcept\u001b[0m \u001b[1;33m(\u001b[0m\u001b[0mTypeError\u001b[0m\u001b[1;33m,\u001b[0m \u001b[0mValueError\u001b[0m\u001b[1;33m)\u001b[0m\u001b[1;33m:\u001b[0m\u001b[1;33m\u001b[0m\u001b[1;33m\u001b[0m\u001b[0m\n\u001b[0;32m    208\u001b[0m       \u001b[1;31m# Note: convert_to_eager_tensor currently raises a ValueError, not a\u001b[0m\u001b[1;33m\u001b[0m\u001b[1;33m\u001b[0m\u001b[1;33m\u001b[0m\u001b[0m\n",
      "\u001b[1;32mc:\\users\\merkulov\\documents\\git\\venv_openfl\\lib\\site-packages\\tensorflow\\python\\ops\\array_ops.py\u001b[0m in \u001b[0;36midentity\u001b[1;34m(input, name)\u001b[0m\n\u001b[0;32m    285\u001b[0m     \u001b[1;31m# Make sure we get an input with handle data attached from resource\u001b[0m\u001b[1;33m\u001b[0m\u001b[1;33m\u001b[0m\u001b[1;33m\u001b[0m\u001b[0m\n\u001b[0;32m    286\u001b[0m     \u001b[1;31m# variables. Variables have correct handle data when graph building.\u001b[0m\u001b[1;33m\u001b[0m\u001b[1;33m\u001b[0m\u001b[1;33m\u001b[0m\u001b[0m\n\u001b[1;32m--> 287\u001b[1;33m     \u001b[0minput\u001b[0m \u001b[1;33m=\u001b[0m \u001b[0mops\u001b[0m\u001b[1;33m.\u001b[0m\u001b[0mconvert_to_tensor\u001b[0m\u001b[1;33m(\u001b[0m\u001b[0minput\u001b[0m\u001b[1;33m)\u001b[0m\u001b[1;33m\u001b[0m\u001b[1;33m\u001b[0m\u001b[0m\n\u001b[0m\u001b[0;32m    288\u001b[0m   \u001b[0mret\u001b[0m \u001b[1;33m=\u001b[0m \u001b[0mgen_array_ops\u001b[0m\u001b[1;33m.\u001b[0m\u001b[0midentity\u001b[0m\u001b[1;33m(\u001b[0m\u001b[0minput\u001b[0m\u001b[1;33m,\u001b[0m \u001b[0mname\u001b[0m\u001b[1;33m=\u001b[0m\u001b[0mname\u001b[0m\u001b[1;33m)\u001b[0m\u001b[1;33m\u001b[0m\u001b[1;33m\u001b[0m\u001b[0m\n\u001b[0;32m    289\u001b[0m   \u001b[1;31m# Propagate handle data for happier shape inference for resource variables.\u001b[0m\u001b[1;33m\u001b[0m\u001b[1;33m\u001b[0m\u001b[1;33m\u001b[0m\u001b[0m\n",
      "\u001b[1;32mc:\\users\\merkulov\\documents\\git\\venv_openfl\\lib\\site-packages\\tensorflow\\python\\profiler\\trace.py\u001b[0m in \u001b[0;36mwrapped\u001b[1;34m(*args, **kwargs)\u001b[0m\n\u001b[0;32m    161\u001b[0m         \u001b[1;32mwith\u001b[0m \u001b[0mTrace\u001b[0m\u001b[1;33m(\u001b[0m\u001b[0mtrace_name\u001b[0m\u001b[1;33m,\u001b[0m \u001b[1;33m**\u001b[0m\u001b[0mtrace_kwargs\u001b[0m\u001b[1;33m)\u001b[0m\u001b[1;33m:\u001b[0m\u001b[1;33m\u001b[0m\u001b[1;33m\u001b[0m\u001b[0m\n\u001b[0;32m    162\u001b[0m           \u001b[1;32mreturn\u001b[0m \u001b[0mfunc\u001b[0m\u001b[1;33m(\u001b[0m\u001b[1;33m*\u001b[0m\u001b[0margs\u001b[0m\u001b[1;33m,\u001b[0m \u001b[1;33m**\u001b[0m\u001b[0mkwargs\u001b[0m\u001b[1;33m)\u001b[0m\u001b[1;33m\u001b[0m\u001b[1;33m\u001b[0m\u001b[0m\n\u001b[1;32m--> 163\u001b[1;33m       \u001b[1;32mreturn\u001b[0m \u001b[0mfunc\u001b[0m\u001b[1;33m(\u001b[0m\u001b[1;33m*\u001b[0m\u001b[0margs\u001b[0m\u001b[1;33m,\u001b[0m \u001b[1;33m**\u001b[0m\u001b[0mkwargs\u001b[0m\u001b[1;33m)\u001b[0m\u001b[1;33m\u001b[0m\u001b[1;33m\u001b[0m\u001b[0m\n\u001b[0m\u001b[0;32m    164\u001b[0m \u001b[1;33m\u001b[0m\u001b[0m\n\u001b[0;32m    165\u001b[0m     \u001b[1;32mreturn\u001b[0m \u001b[0mwrapped\u001b[0m\u001b[1;33m\u001b[0m\u001b[1;33m\u001b[0m\u001b[0m\n",
      "\u001b[1;32mc:\\users\\merkulov\\documents\\git\\venv_openfl\\lib\\site-packages\\tensorflow\\python\\framework\\ops.py\u001b[0m in \u001b[0;36mconvert_to_tensor\u001b[1;34m(value, dtype, name, as_ref, preferred_dtype, dtype_hint, ctx, accepted_result_types)\u001b[0m\n\u001b[0;32m   1564\u001b[0m \u001b[1;33m\u001b[0m\u001b[0m\n\u001b[0;32m   1565\u001b[0m     \u001b[1;32mif\u001b[0m \u001b[0mret\u001b[0m \u001b[1;32mis\u001b[0m \u001b[1;32mNone\u001b[0m\u001b[1;33m:\u001b[0m\u001b[1;33m\u001b[0m\u001b[1;33m\u001b[0m\u001b[0m\n\u001b[1;32m-> 1566\u001b[1;33m       \u001b[0mret\u001b[0m \u001b[1;33m=\u001b[0m \u001b[0mconversion_func\u001b[0m\u001b[1;33m(\u001b[0m\u001b[0mvalue\u001b[0m\u001b[1;33m,\u001b[0m \u001b[0mdtype\u001b[0m\u001b[1;33m=\u001b[0m\u001b[0mdtype\u001b[0m\u001b[1;33m,\u001b[0m \u001b[0mname\u001b[0m\u001b[1;33m=\u001b[0m\u001b[0mname\u001b[0m\u001b[1;33m,\u001b[0m \u001b[0mas_ref\u001b[0m\u001b[1;33m=\u001b[0m\u001b[0mas_ref\u001b[0m\u001b[1;33m)\u001b[0m\u001b[1;33m\u001b[0m\u001b[1;33m\u001b[0m\u001b[0m\n\u001b[0m\u001b[0;32m   1567\u001b[0m \u001b[1;33m\u001b[0m\u001b[0m\n\u001b[0;32m   1568\u001b[0m     \u001b[1;32mif\u001b[0m \u001b[0mret\u001b[0m \u001b[1;32mis\u001b[0m \u001b[0mNotImplemented\u001b[0m\u001b[1;33m:\u001b[0m\u001b[1;33m\u001b[0m\u001b[1;33m\u001b[0m\u001b[0m\n",
      "\u001b[1;32mc:\\users\\merkulov\\documents\\git\\venv_openfl\\lib\\site-packages\\tensorflow\\python\\ops\\resource_variable_ops.py\u001b[0m in \u001b[0;36m_dense_var_to_tensor\u001b[1;34m(var, dtype, name, as_ref)\u001b[0m\n\u001b[0;32m   2003\u001b[0m \u001b[1;33m\u001b[0m\u001b[0m\n\u001b[0;32m   2004\u001b[0m \u001b[1;32mdef\u001b[0m \u001b[0m_dense_var_to_tensor\u001b[0m\u001b[1;33m(\u001b[0m\u001b[0mvar\u001b[0m\u001b[1;33m,\u001b[0m \u001b[0mdtype\u001b[0m\u001b[1;33m=\u001b[0m\u001b[1;32mNone\u001b[0m\u001b[1;33m,\u001b[0m \u001b[0mname\u001b[0m\u001b[1;33m=\u001b[0m\u001b[1;32mNone\u001b[0m\u001b[1;33m,\u001b[0m \u001b[0mas_ref\u001b[0m\u001b[1;33m=\u001b[0m\u001b[1;32mFalse\u001b[0m\u001b[1;33m)\u001b[0m\u001b[1;33m:\u001b[0m\u001b[1;33m\u001b[0m\u001b[1;33m\u001b[0m\u001b[0m\n\u001b[1;32m-> 2005\u001b[1;33m   \u001b[1;32mreturn\u001b[0m \u001b[0mvar\u001b[0m\u001b[1;33m.\u001b[0m\u001b[0m_dense_var_to_tensor\u001b[0m\u001b[1;33m(\u001b[0m\u001b[0mdtype\u001b[0m\u001b[1;33m=\u001b[0m\u001b[0mdtype\u001b[0m\u001b[1;33m,\u001b[0m \u001b[0mname\u001b[0m\u001b[1;33m=\u001b[0m\u001b[0mname\u001b[0m\u001b[1;33m,\u001b[0m \u001b[0mas_ref\u001b[0m\u001b[1;33m=\u001b[0m\u001b[0mas_ref\u001b[0m\u001b[1;33m)\u001b[0m  \u001b[1;31m# pylint: disable=protected-access\u001b[0m\u001b[1;33m\u001b[0m\u001b[1;33m\u001b[0m\u001b[0m\n\u001b[0m\u001b[0;32m   2006\u001b[0m \u001b[1;33m\u001b[0m\u001b[0m\n\u001b[0;32m   2007\u001b[0m \u001b[1;33m\u001b[0m\u001b[0m\n",
      "\u001b[1;32mc:\\users\\merkulov\\documents\\git\\venv_openfl\\lib\\site-packages\\tensorflow\\python\\ops\\resource_variable_ops.py\u001b[0m in \u001b[0;36m_dense_var_to_tensor\u001b[1;34m(***failed resolving arguments***)\u001b[0m\n\u001b[0;32m   1401\u001b[0m       \u001b[1;32mreturn\u001b[0m \u001b[0mself\u001b[0m\u001b[1;33m.\u001b[0m\u001b[0mread_value\u001b[0m\u001b[1;33m(\u001b[0m\u001b[1;33m)\u001b[0m\u001b[1;33m.\u001b[0m\u001b[0mop\u001b[0m\u001b[1;33m.\u001b[0m\u001b[0minputs\u001b[0m\u001b[1;33m[\u001b[0m\u001b[1;36m0\u001b[0m\u001b[1;33m]\u001b[0m\u001b[1;33m\u001b[0m\u001b[1;33m\u001b[0m\u001b[0m\n\u001b[0;32m   1402\u001b[0m     \u001b[1;32melse\u001b[0m\u001b[1;33m:\u001b[0m\u001b[1;33m\u001b[0m\u001b[1;33m\u001b[0m\u001b[0m\n\u001b[1;32m-> 1403\u001b[1;33m       \u001b[1;32mreturn\u001b[0m \u001b[0mself\u001b[0m\u001b[1;33m.\u001b[0m\u001b[0mvalue\u001b[0m\u001b[1;33m(\u001b[0m\u001b[1;33m)\u001b[0m\u001b[1;33m\u001b[0m\u001b[1;33m\u001b[0m\u001b[0m\n\u001b[0m\u001b[0;32m   1404\u001b[0m \u001b[1;33m\u001b[0m\u001b[0m\n\u001b[0;32m   1405\u001b[0m   \u001b[1;32mdef\u001b[0m \u001b[0m__iadd__\u001b[0m\u001b[1;33m(\u001b[0m\u001b[0mself\u001b[0m\u001b[1;33m,\u001b[0m \u001b[0munused_other\u001b[0m\u001b[1;33m)\u001b[0m\u001b[1;33m:\u001b[0m\u001b[1;33m\u001b[0m\u001b[1;33m\u001b[0m\u001b[0m\n",
      "\u001b[1;32mc:\\users\\merkulov\\documents\\git\\venv_openfl\\lib\\site-packages\\tensorflow\\python\\ops\\resource_variable_ops.py\u001b[0m in \u001b[0;36mvalue\u001b[1;34m(self)\u001b[0m\n\u001b[0;32m    573\u001b[0m       \u001b[1;32mreturn\u001b[0m \u001b[0mself\u001b[0m\u001b[1;33m.\u001b[0m\u001b[0m_cached_value\u001b[0m\u001b[1;33m\u001b[0m\u001b[1;33m\u001b[0m\u001b[0m\n\u001b[0;32m    574\u001b[0m     \u001b[1;32mwith\u001b[0m \u001b[0mops\u001b[0m\u001b[1;33m.\u001b[0m\u001b[0mcolocate_with\u001b[0m\u001b[1;33m(\u001b[0m\u001b[1;32mNone\u001b[0m\u001b[1;33m,\u001b[0m \u001b[0mignore_existing\u001b[0m\u001b[1;33m=\u001b[0m\u001b[1;32mTrue\u001b[0m\u001b[1;33m)\u001b[0m\u001b[1;33m:\u001b[0m\u001b[1;33m\u001b[0m\u001b[1;33m\u001b[0m\u001b[0m\n\u001b[1;32m--> 575\u001b[1;33m       \u001b[1;32mreturn\u001b[0m \u001b[0mself\u001b[0m\u001b[1;33m.\u001b[0m\u001b[0m_read_variable_op\u001b[0m\u001b[1;33m(\u001b[0m\u001b[1;33m)\u001b[0m\u001b[1;33m\u001b[0m\u001b[1;33m\u001b[0m\u001b[0m\n\u001b[0m\u001b[0;32m    576\u001b[0m \u001b[1;33m\u001b[0m\u001b[0m\n\u001b[0;32m    577\u001b[0m   \u001b[1;32mdef\u001b[0m \u001b[0m_as_graph_element\u001b[0m\u001b[1;33m(\u001b[0m\u001b[0mself\u001b[0m\u001b[1;33m)\u001b[0m\u001b[1;33m:\u001b[0m\u001b[1;33m\u001b[0m\u001b[1;33m\u001b[0m\u001b[0m\n",
      "\u001b[1;32mc:\\users\\merkulov\\documents\\git\\venv_openfl\\lib\\site-packages\\tensorflow\\python\\ops\\resource_variable_ops.py\u001b[0m in \u001b[0;36m_read_variable_op\u001b[1;34m(self)\u001b[0m\n\u001b[0;32m    680\u001b[0m           \u001b[0mresult\u001b[0m \u001b[1;33m=\u001b[0m \u001b[0mread_and_set_handle\u001b[0m\u001b[1;33m(\u001b[0m\u001b[1;33m)\u001b[0m\u001b[1;33m\u001b[0m\u001b[1;33m\u001b[0m\u001b[0m\n\u001b[0;32m    681\u001b[0m     \u001b[1;32melse\u001b[0m\u001b[1;33m:\u001b[0m\u001b[1;33m\u001b[0m\u001b[1;33m\u001b[0m\u001b[0m\n\u001b[1;32m--> 682\u001b[1;33m       \u001b[0mresult\u001b[0m \u001b[1;33m=\u001b[0m \u001b[0mread_and_set_handle\u001b[0m\u001b[1;33m(\u001b[0m\u001b[1;33m)\u001b[0m\u001b[1;33m\u001b[0m\u001b[1;33m\u001b[0m\u001b[0m\n\u001b[0m\u001b[0;32m    683\u001b[0m \u001b[1;33m\u001b[0m\u001b[0m\n\u001b[0;32m    684\u001b[0m     \u001b[1;32mif\u001b[0m \u001b[1;32mnot\u001b[0m \u001b[0mcontext\u001b[0m\u001b[1;33m.\u001b[0m\u001b[0mexecuting_eagerly\u001b[0m\u001b[1;33m(\u001b[0m\u001b[1;33m)\u001b[0m\u001b[1;33m:\u001b[0m\u001b[1;33m\u001b[0m\u001b[1;33m\u001b[0m\u001b[0m\n",
      "\u001b[1;32mc:\\users\\merkulov\\documents\\git\\venv_openfl\\lib\\site-packages\\tensorflow\\python\\ops\\resource_variable_ops.py\u001b[0m in \u001b[0;36mread_and_set_handle\u001b[1;34m()\u001b[0m\n\u001b[0;32m    671\u001b[0m     \u001b[1;32mdef\u001b[0m \u001b[0mread_and_set_handle\u001b[0m\u001b[1;33m(\u001b[0m\u001b[1;33m)\u001b[0m\u001b[1;33m:\u001b[0m\u001b[1;33m\u001b[0m\u001b[1;33m\u001b[0m\u001b[0m\n\u001b[0;32m    672\u001b[0m       result = gen_resource_variable_ops.read_variable_op(\n\u001b[1;32m--> 673\u001b[1;33m           self._handle, self._dtype)\n\u001b[0m\u001b[0;32m    674\u001b[0m       \u001b[0m_maybe_set_handle_data\u001b[0m\u001b[1;33m(\u001b[0m\u001b[0mself\u001b[0m\u001b[1;33m.\u001b[0m\u001b[0m_dtype\u001b[0m\u001b[1;33m,\u001b[0m \u001b[0mself\u001b[0m\u001b[1;33m.\u001b[0m\u001b[0m_handle\u001b[0m\u001b[1;33m,\u001b[0m \u001b[0mresult\u001b[0m\u001b[1;33m)\u001b[0m\u001b[1;33m\u001b[0m\u001b[1;33m\u001b[0m\u001b[0m\n\u001b[0;32m    675\u001b[0m       \u001b[1;32mreturn\u001b[0m \u001b[0mresult\u001b[0m\u001b[1;33m\u001b[0m\u001b[1;33m\u001b[0m\u001b[0m\n",
      "\u001b[1;32mc:\\users\\merkulov\\documents\\git\\venv_openfl\\lib\\site-packages\\tensorflow\\python\\ops\\gen_resource_variable_ops.py\u001b[0m in \u001b[0;36mread_variable_op\u001b[1;34m(resource, dtype, name)\u001b[0m\n\u001b[0;32m    468\u001b[0m     \u001b[1;32mtry\u001b[0m\u001b[1;33m:\u001b[0m\u001b[1;33m\u001b[0m\u001b[1;33m\u001b[0m\u001b[0m\n\u001b[0;32m    469\u001b[0m       _result = pywrap_tfe.TFE_Py_FastPathExecute(\n\u001b[1;32m--> 470\u001b[1;33m         _ctx, \"ReadVariableOp\", name, resource, \"dtype\", dtype)\n\u001b[0m\u001b[0;32m    471\u001b[0m       \u001b[1;32mreturn\u001b[0m \u001b[0m_result\u001b[0m\u001b[1;33m\u001b[0m\u001b[1;33m\u001b[0m\u001b[0m\n\u001b[0;32m    472\u001b[0m     \u001b[1;32mexcept\u001b[0m \u001b[0m_core\u001b[0m\u001b[1;33m.\u001b[0m\u001b[0m_NotOkStatusException\u001b[0m \u001b[1;32mas\u001b[0m \u001b[0me\u001b[0m\u001b[1;33m:\u001b[0m\u001b[1;33m\u001b[0m\u001b[1;33m\u001b[0m\u001b[0m\n",
      "\u001b[1;31mKeyboardInterrupt\u001b[0m: "
     ]
    }
   ],
   "source": [
    "fed_dataset.shard_descriptor = NextWordShardDescriptor(title='metamorphosis')\n",
    "\n",
    "for epoch in range(1000):\n",
    "    train_loader = fed_dataset.get_train_loader()[epoch]\n",
    "    metrics = train(model, train_loader)\n",
    "    m = {key: value.numpy() for key, value in metrics.items()}\n",
    "    print(f'Epoch {epoch} train {m}')\n",
    "    \n",
    "    val_loader = fed_dataset.get_valid_loader()[epoch]\n",
    "    metrics = validate(model, val_loader)\n",
    "    m = {key: value.numpy() for key, value in metrics.items()}\n",
    "    print(f'Epoch {epoch} validate {m}')"
   ]
  },
  {
   "cell_type": "markdown",
   "id": "derived-bride",
   "metadata": {},
   "source": [
    "## Time to start a federated learning experiment"
   ]
  },
  {
   "cell_type": "code",
   "execution_count": 12,
   "id": "mature-renewal",
   "metadata": {},
   "outputs": [],
   "source": [
    "# create an experimnet in federation\n",
    "experiment_name = 'word_prediction_test_experiment'\n",
    "fl_experiment = FLExperiment(federation=federation, experiment_name=experiment_name)"
   ]
  },
  {
   "cell_type": "code",
   "execution_count": 13,
   "id": "lightweight-causing",
   "metadata": {
    "scrolled": false
   },
   "outputs": [
    {
     "data": {
      "text/html": [
       "<pre style=\"white-space:pre;overflow-x:auto;line-height:normal;font-family:Menlo,'DejaVu Sans Mono',consolas,'Courier New',monospace\"><span style=\"color: #7fbfbf\">[16:30:12] </span><span style=\"color: #000080\">INFO</span>     Building <span style=\"color: #800000\">🡆</span> Object <span style=\"color: #800000\">CloudpickleSerializer</span> from <span style=\"color: #800000\">openfl.plugins.interface_serializer.cloudpickle_serializer</span> Module.                  <a href=\"file:///home/merkulov/openfl/openfl/federated/plan/plan.py\"><span style=\"color: #7f7f7f\">plan.py</span></a><span style=\"color: #7f7f7f\">:172</span>\n",
       "</pre>\n"
      ],
      "text/plain": [
       "<rich.jupyter.JupyterRenderable at 0x7f4837b852d0>"
      ]
     },
     "metadata": {},
     "output_type": "display_data"
    },
    {
     "data": {
      "text/html": [
       "<pre style=\"white-space:pre;overflow-x:auto;line-height:normal;font-family:Menlo,'DejaVu Sans Mono',consolas,'Courier New',monospace\"><span style=\"color: #7fbfbf\">           </span><span style=\"color: #000080\">INFO</span>     Settings <span style=\"color: #800000\">🡆</span> <span style=\"font-weight: bold\">{}</span>                                                                                                                    <a href=\"file:///home/merkulov/openfl/openfl/federated/plan/plan.py\"><span style=\"color: #7f7f7f\">plan.py</span></a><span style=\"color: #7f7f7f\">:174</span>\n",
       "</pre>\n"
      ],
      "text/plain": [
       "<rich.jupyter.JupyterRenderable at 0x7f4828709210>"
      ]
     },
     "metadata": {},
     "output_type": "display_data"
    },
    {
     "data": {
      "text/html": [
       "<pre style=\"white-space:pre;overflow-x:auto;line-height:normal;font-family:Menlo,'DejaVu Sans Mono',consolas,'Courier New',monospace\"><span style=\"color: #7fbfbf\">           </span><span style=\"color: #000080\">INFO</span>     Override <span style=\"color: #800000\">🡆</span> <span style=\"font-weight: bold\">{}</span>                                                                                                                    <a href=\"file:///home/merkulov/openfl/openfl/federated/plan/plan.py\"><span style=\"color: #7f7f7f\">plan.py</span></a><span style=\"color: #7f7f7f\">:176</span>\n",
       "</pre>\n"
      ],
      "text/plain": [
       "<rich.jupyter.JupyterRenderable at 0x7f4828732c50>"
      ]
     },
     "metadata": {},
     "output_type": "display_data"
    },
    {
     "data": {
      "text/html": [
       "<pre style=\"white-space:pre;overflow-x:auto;line-height:normal;font-family:Menlo,'DejaVu Sans Mono',consolas,'Courier New',monospace\"><span style=\"color: #7fbfbf\">           </span><span style=\"color: #000080\">INFO</span>     Building <span style=\"color: #800000\">🡆</span> Object <span style=\"color: #800000\">FrameworkAdapterPlugin</span> from <span style=\"color: #800000\">openfl.plugins.frameworks_adapters.keras_adapter</span> Module.                           <a href=\"file:///home/merkulov/openfl/openfl/federated/plan/plan.py\"><span style=\"color: #7f7f7f\">plan.py</span></a><span style=\"color: #7f7f7f\">:172</span>\n",
       "</pre>\n"
      ],
      "text/plain": [
       "<rich.jupyter.JupyterRenderable at 0x7f4837b88610>"
      ]
     },
     "metadata": {},
     "output_type": "display_data"
    },
    {
     "data": {
      "text/html": [
       "<pre style=\"white-space:pre;overflow-x:auto;line-height:normal;font-family:Menlo,'DejaVu Sans Mono',consolas,'Courier New',monospace\"><span style=\"color: #7fbfbf\">           </span><span style=\"color: #000080\">INFO</span>     Settings <span style=\"color: #800000\">🡆</span> <span style=\"font-weight: bold\">{}</span>                                                                                                                    <a href=\"file:///home/merkulov/openfl/openfl/federated/plan/plan.py\"><span style=\"color: #7f7f7f\">plan.py</span></a><span style=\"color: #7f7f7f\">:174</span>\n",
       "</pre>\n"
      ],
      "text/plain": [
       "<rich.jupyter.JupyterRenderable at 0x7f482871aed0>"
      ]
     },
     "metadata": {},
     "output_type": "display_data"
    },
    {
     "data": {
      "text/html": [
       "<pre style=\"white-space:pre;overflow-x:auto;line-height:normal;font-family:Menlo,'DejaVu Sans Mono',consolas,'Courier New',monospace\"><span style=\"color: #7fbfbf\">           </span><span style=\"color: #000080\">INFO</span>     Override <span style=\"color: #800000\">🡆</span> <span style=\"font-weight: bold\">{}</span>                                                                                                                    <a href=\"file:///home/merkulov/openfl/openfl/federated/plan/plan.py\"><span style=\"color: #7f7f7f\">plan.py</span></a><span style=\"color: #7f7f7f\">:176</span>\n",
       "</pre>\n"
      ],
      "text/plain": [
       "<rich.jupyter.JupyterRenderable at 0x7f482871af10>"
      ]
     },
     "metadata": {},
     "output_type": "display_data"
    },
    {
     "data": {
      "text/html": [
       "<pre style=\"white-space:pre;overflow-x:auto;line-height:normal;font-family:Menlo,'DejaVu Sans Mono',consolas,'Courier New',monospace\"><span style=\"color: #7fbfbf\">           </span><span style=\"color: #000080\">INFO</span>     Starting experiment!                                                                                                       <a href=\"file:///home/merkulov/openfl/openfl/interface/interactive_api/experiment.py\"><span style=\"color: #7f7f7f\">experiment.py</span></a><span style=\"color: #7f7f7f\">:155</span>\n",
       "</pre>\n"
      ],
      "text/plain": [
       "<rich.jupyter.JupyterRenderable at 0x7f4820755d50>"
      ]
     },
     "metadata": {},
     "output_type": "display_data"
    },
    {
     "data": {
      "text/html": [
       "<pre style=\"white-space:pre;overflow-x:auto;line-height:normal;font-family:Menlo,'DejaVu Sans Mono',consolas,'Courier New',monospace\"><span style=\"color: #7fbfbf\">           </span><span style=\"color: #000080\">INFO</span>     FL-Plan hash is <span style=\"color: #000080\">3d3aace0bfd76cbb5309f4f2301b673d487a3162b1fd7624f3d1f3b51e495b6e618eb1a2f12530555e57029cce44eec3</span>                 <a href=\"file:///home/merkulov/openfl/openfl/federated/plan/plan.py\"><span style=\"color: #7f7f7f\">plan.py</span></a><span style=\"color: #7f7f7f\">:232</span>\n",
       "</pre>\n"
      ],
      "text/plain": [
       "<rich.jupyter.JupyterRenderable at 0x7f482806dad0>"
      ]
     },
     "metadata": {},
     "output_type": "display_data"
    },
    {
     "data": {
      "text/html": [
       "<pre style=\"white-space:pre;overflow-x:auto;line-height:normal;font-family:Menlo,'DejaVu Sans Mono',consolas,'Courier New',monospace\"><span style=\"color: #7fbfbf\">           </span><span style=\"color: #000080\">INFO</span>     FL-Plan hash is <span style=\"color: #000080\">3d3aace0bfd76cbb5309f4f2301b673d487a3162b1fd7624f3d1f3b51e495b6e618eb1a2f12530555e57029cce44eec3</span>                 <a href=\"file:///home/merkulov/openfl/openfl/federated/plan/plan.py\"><span style=\"color: #7f7f7f\">plan.py</span></a><span style=\"color: #7f7f7f\">:232</span>\n",
       "</pre>\n"
      ],
      "text/plain": [
       "<rich.jupyter.JupyterRenderable at 0x7f4820720810>"
      ]
     },
     "metadata": {},
     "output_type": "display_data"
    },
    {
     "data": {
      "text/html": [
       "<pre style=\"white-space:pre;overflow-x:auto;line-height:normal;font-family:Menlo,'DejaVu Sans Mono',consolas,'Courier New',monospace\"><span style=\"color: #7fbfbf\">           </span><span style=\"color: #000080\">INFO</span>     Building <span style=\"color: #800000\">🡆</span> Object <span style=\"color: #800000\">CoreTaskRunner</span> from <span style=\"color: #800000\">openfl.federated.task.task_runner</span> Module.                                                  <a href=\"file:///home/merkulov/openfl/openfl/federated/plan/plan.py\"><span style=\"color: #7f7f7f\">plan.py</span></a><span style=\"color: #7f7f7f\">:172</span>\n",
       "</pre>\n"
      ],
      "text/plain": [
       "<rich.jupyter.JupyterRenderable at 0x7f4820720910>"
      ]
     },
     "metadata": {},
     "output_type": "display_data"
    },
    {
     "data": {
      "text/html": [
       "<pre style=\"white-space:pre;overflow-x:auto;line-height:normal;font-family:Menlo,'DejaVu Sans Mono',consolas,'Courier New',monospace\"><span style=\"color: #7fbfbf\">           </span><span style=\"color: #000080\">INFO</span>     Settings <span style=\"color: #800000\">🡆</span> <span style=\"font-weight: bold\">{}</span>                                                                                                                    <a href=\"file:///home/merkulov/openfl/openfl/federated/plan/plan.py\"><span style=\"color: #7f7f7f\">plan.py</span></a><span style=\"color: #7f7f7f\">:174</span>\n",
       "</pre>\n"
      ],
      "text/plain": [
       "<rich.jupyter.JupyterRenderable at 0x7f4820720850>"
      ]
     },
     "metadata": {},
     "output_type": "display_data"
    },
    {
     "data": {
      "text/html": [
       "<pre style=\"white-space:pre;overflow-x:auto;line-height:normal;font-family:Menlo,'DejaVu Sans Mono',consolas,'Courier New',monospace\"><span style=\"color: #7fbfbf\">           </span><span style=\"color: #000080\">INFO</span>     Override <span style=\"color: #800000\">🡆</span> <span style=\"font-weight: bold\">{</span><span style=\"color: #008000\">'required_plugin_components'</span>: <span style=\"font-weight: bold\">{</span><span style=\"color: #008000\">'framework_adapters'</span>:                                                                 <a href=\"file:///home/merkulov/openfl/openfl/federated/plan/plan.py\"><span style=\"color: #7f7f7f\">plan.py</span></a><span style=\"color: #7f7f7f\">:176</span>\n",
       "                    <span style=\"color: #008000\">'openfl.plugins.frameworks_adapters.keras_adapter.FrameworkAdapterPlugin'</span><span style=\"font-weight: bold\">}}</span>                                                                 \n",
       "</pre>\n"
      ],
      "text/plain": [
       "<rich.jupyter.JupyterRenderable at 0x7f4820720950>"
      ]
     },
     "metadata": {},
     "output_type": "display_data"
    },
    {
     "data": {
      "text/html": [
       "<pre style=\"white-space:pre;overflow-x:auto;line-height:normal;font-family:Menlo,'DejaVu Sans Mono',consolas,'Courier New',monospace\"><span style=\"color: #7fbfbf\">           </span><span style=\"color: #000080\">INFO</span>     Building <span style=\"color: #800000\">🡆</span> Object <span style=\"color: #800000\">FrameworkAdapterPlugin</span> from <span style=\"color: #800000\">openfl.plugins.frameworks_adapters.keras_adapter</span> Module.                           <a href=\"file:///home/merkulov/openfl/openfl/federated/plan/plan.py\"><span style=\"color: #7f7f7f\">plan.py</span></a><span style=\"color: #7f7f7f\">:172</span>\n",
       "</pre>\n"
      ],
      "text/plain": [
       "<rich.jupyter.JupyterRenderable at 0x7f4820755c50>"
      ]
     },
     "metadata": {},
     "output_type": "display_data"
    },
    {
     "data": {
      "text/html": [
       "<pre style=\"white-space:pre;overflow-x:auto;line-height:normal;font-family:Menlo,'DejaVu Sans Mono',consolas,'Courier New',monospace\"><span style=\"color: #7fbfbf\">           </span><span style=\"color: #000080\">INFO</span>     Settings <span style=\"color: #800000\">🡆</span> <span style=\"font-weight: bold\">{}</span>                                                                                                                    <a href=\"file:///home/merkulov/openfl/openfl/federated/plan/plan.py\"><span style=\"color: #7f7f7f\">plan.py</span></a><span style=\"color: #7f7f7f\">:174</span>\n",
       "</pre>\n"
      ],
      "text/plain": [
       "<rich.jupyter.JupyterRenderable at 0x7f48207200d0>"
      ]
     },
     "metadata": {},
     "output_type": "display_data"
    },
    {
     "data": {
      "text/html": [
       "<pre style=\"white-space:pre;overflow-x:auto;line-height:normal;font-family:Menlo,'DejaVu Sans Mono',consolas,'Courier New',monospace\"><span style=\"color: #7fbfbf\">           </span><span style=\"color: #000080\">INFO</span>     Override <span style=\"color: #800000\">🡆</span> <span style=\"font-weight: bold\">{}</span>                                                                                                                    <a href=\"file:///home/merkulov/openfl/openfl/federated/plan/plan.py\"><span style=\"color: #7f7f7f\">plan.py</span></a><span style=\"color: #7f7f7f\">:176</span>\n",
       "</pre>\n"
      ],
      "text/plain": [
       "<rich.jupyter.JupyterRenderable at 0x7f48207749d0>"
      ]
     },
     "metadata": {},
     "output_type": "display_data"
    },
    {
     "data": {
      "text/html": [
       "<pre style=\"white-space:pre;overflow-x:auto;line-height:normal;font-family:Menlo,'DejaVu Sans Mono',consolas,'Courier New',monospace\"><span style=\"color: #7fbfbf\">           </span><span style=\"color: #800000\">WARNING</span>  tried to remove tensor: __opt_state_needed not present in the tensor dict                                                       <a href=\"file:///home/merkulov/openfl/openfl/utilities/utils.py\"><span style=\"color: #7f7f7f\">utils.py</span></a><span style=\"color: #7f7f7f\">:131</span>\n",
       "</pre>\n"
      ],
      "text/plain": [
       "<rich.jupyter.JupyterRenderable at 0x7f4820774f50>"
      ]
     },
     "metadata": {},
     "output_type": "display_data"
    },
    {
     "data": {
      "text/html": [
       "<pre style=\"white-space:pre;overflow-x:auto;line-height:normal;font-family:Menlo,'DejaVu Sans Mono',consolas,'Courier New',monospace\"><span style=\"color: #7fbfbf\">           </span><span style=\"color: #800000\">WARNING</span>  tried to remove tensor: __opt_state_needed not present in the tensor dict                                                       <a href=\"file:///home/merkulov/openfl/openfl/utilities/utils.py\"><span style=\"color: #7f7f7f\">utils.py</span></a><span style=\"color: #7f7f7f\">:131</span>\n",
       "</pre>\n"
      ],
      "text/plain": [
       "<rich.jupyter.JupyterRenderable at 0x7f4820774f50>"
      ]
     },
     "metadata": {},
     "output_type": "display_data"
    },
    {
     "data": {
      "text/html": [
       "<pre style=\"white-space:pre;overflow-x:auto;line-height:normal;font-family:Menlo,'DejaVu Sans Mono',consolas,'Courier New',monospace\"><span style=\"color: #7fbfbf\">           </span><span style=\"color: #000080\">INFO</span>     SetNewExperiment                                                                                                      <a href=\"file:///home/merkulov/openfl/openfl/transport/grpc/director_client.py\"><span style=\"color: #7f7f7f\">director_client.py</span></a><span style=\"color: #7f7f7f\">:152</span>\n",
       "</pre>\n"
      ],
      "text/plain": [
       "<rich.jupyter.JupyterRenderable at 0x7f4820774350>"
      ]
     },
     "metadata": {},
     "output_type": "display_data"
    },
    {
     "ename": "AttributeError",
     "evalue": "'NoneType' object has no attribute 'accepted'",
     "output_type": "error",
     "traceback": [
      "\u001b[0;31m---------------------------------------------------------------------------\u001b[0m",
      "\u001b[0;31mAttributeError\u001b[0m                            Traceback (most recent call last)",
      "\u001b[0;32m/tmp/ipykernel_602298/1603240789.py\u001b[0m in \u001b[0;36m<module>\u001b[0;34m\u001b[0m\n\u001b[1;32m      6\u001b[0m                     \u001b[0mdata_loader\u001b[0m\u001b[0;34m=\u001b[0m\u001b[0mfed_dataset\u001b[0m\u001b[0;34m,\u001b[0m\u001b[0;34m\u001b[0m\u001b[0;34m\u001b[0m\u001b[0m\n\u001b[1;32m      7\u001b[0m                     \u001b[0mrounds_to_train\u001b[0m\u001b[0;34m=\u001b[0m\u001b[0;36m2\u001b[0m\u001b[0;34m,\u001b[0m\u001b[0;34m\u001b[0m\u001b[0;34m\u001b[0m\u001b[0m\n\u001b[0;32m----> 8\u001b[0;31m                     opt_treatment='RESET')\n\u001b[0m",
      "\u001b[0;32m~/openfl/openfl/interface/interactive_api/experiment.py\u001b[0m in \u001b[0;36mstart\u001b[0;34m(self, model_provider, task_keeper, data_loader, rounds_to_train, delta_updates, opt_treatment)\u001b[0m\n\u001b[1;32m    166\u001b[0m             \u001b[0mself\u001b[0m\u001b[0;34m.\u001b[0m\u001b[0mremove_workspace_archive\u001b[0m\u001b[0;34m(\u001b[0m\u001b[0;34m)\u001b[0m\u001b[0;34m\u001b[0m\u001b[0;34m\u001b[0m\u001b[0m\n\u001b[1;32m    167\u001b[0m \u001b[0;34m\u001b[0m\u001b[0m\n\u001b[0;32m--> 168\u001b[0;31m         \u001b[0;32mif\u001b[0m \u001b[0mresponse\u001b[0m\u001b[0;34m.\u001b[0m\u001b[0maccepted\u001b[0m\u001b[0;34m:\u001b[0m\u001b[0;34m\u001b[0m\u001b[0;34m\u001b[0m\u001b[0m\n\u001b[0m\u001b[1;32m    169\u001b[0m             \u001b[0mself\u001b[0m\u001b[0;34m.\u001b[0m\u001b[0mlogger\u001b[0m\u001b[0;34m.\u001b[0m\u001b[0minfo\u001b[0m\u001b[0;34m(\u001b[0m\u001b[0;34m'Experiment was accepted and launched.'\u001b[0m\u001b[0;34m)\u001b[0m\u001b[0;34m\u001b[0m\u001b[0;34m\u001b[0m\u001b[0m\n\u001b[1;32m    170\u001b[0m             \u001b[0mself\u001b[0m\u001b[0;34m.\u001b[0m\u001b[0mexperiment_accepted\u001b[0m \u001b[0;34m=\u001b[0m \u001b[0;32mTrue\u001b[0m\u001b[0;34m\u001b[0m\u001b[0;34m\u001b[0m\u001b[0m\n",
      "\u001b[0;31mAttributeError\u001b[0m: 'NoneType' object has no attribute 'accepted'"
     ]
    }
   ],
   "source": [
    "# If I use autoreload I got a pickling error\n",
    "\n",
    "# The following command zips the workspace and python requirements to be transfered to collaborator nodes\n",
    "fl_experiment.start(model_provider=MI, \n",
    "                    task_keeper=TI,\n",
    "                    data_loader=fed_dataset,\n",
    "                    rounds_to_train=2,\n",
    "                    opt_treatment='RESET')"
   ]
  },
  {
   "cell_type": "code",
   "execution_count": null,
   "id": "bfc4f89c",
   "metadata": {},
   "outputs": [],
   "source": [
    "# If user want to stop IPython session, then reconnect and check how experiment is going \n",
    "# fl_experiment.restore_experiment_state(MI)\n",
    "\n",
    "fl_experiment.stream_metrics()"
   ]
  },
  {
   "cell_type": "code",
   "execution_count": null,
   "id": "0ca51d7e",
   "metadata": {
    "pycharm": {
     "name": "#%%\n"
    }
   },
   "outputs": [],
   "source": [
    "# todo: add testing on metamorphosis"
   ]
  }
 ],
 "metadata": {
  "kernelspec": {
   "display_name": "Python 3 (ipykernel)",
   "language": "python",
   "name": "python3"
  },
  "language_info": {
   "codemirror_mode": {
    "name": "ipython",
    "version": 3
   },
   "file_extension": ".py",
   "mimetype": "text/x-python",
   "name": "python",
   "nbconvert_exporter": "python",
   "pygments_lexer": "ipython3",
   "version": "3.7.9"
  }
 },
 "nbformat": 4,
 "nbformat_minor": 5
}
