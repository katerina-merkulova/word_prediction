{
 "cells": [
  {
   "cell_type": "markdown",
   "id": "liquid-jacket",
   "metadata": {},
   "source": [
    "# Federated Next Word Prediction with Director example\n",
    "## Using low-level Python API"
   ]
  },
  {
   "cell_type": "code",
   "execution_count": null,
   "id": "db949008",
   "metadata": {
    "pycharm": {
     "name": "#%%\n"
    }
   },
   "outputs": [],
   "source": [
    "# Install dependencies if not already installed\n",
    "# !pip install tensorflow==2.5.1"
   ]
  },
  {
   "cell_type": "markdown",
   "id": "16986f22",
   "metadata": {},
   "source": [
    "# Connect to the Federation"
   ]
  },
  {
   "cell_type": "code",
   "execution_count": null,
   "id": "a667294c",
   "metadata": {},
   "outputs": [],
   "source": [
    "# Create a federation\n",
    "from openfl.interface.interactive_api.federation import Federation\n",
    "\n",
    "# please use the same identificator that was used in signed certificate\n",
    "cliend_id = 'frontend'\n",
    "\n",
    "# 1) Run with API layer - Director mTLS \n",
    "# If the user wants to enable mTLS their must provide CA root chain, and signed key pair to the federation interface\n",
    "# cert_chain = 'cert/root_ca.crt'\n",
    "# API_certificate = 'cert/frontend.crt'\n",
    "# API_private_key = 'cert/frontend.key'\n",
    "\n",
    "# federation = Federation(client_id='frontend', director_node_fqdn='localhost', director_port='50051', disable_tls=False,\n",
    "#                        cert_chain=cert_chain, api_cert=API_certificate, api_private_key=API_private_key)\n",
    "\n",
    "# --------------------------------------------------------------------------------------------------------------------\n",
    "\n",
    "# 2) Run with TLS disabled (trusted environment)\n",
    "# Federation can also determine local fqdn automatically\n",
    "federation = Federation(client_id='frontend', director_node_fqdn='localhost', director_port='50051', tls=False)"
   ]
  },
  {
   "cell_type": "code",
   "execution_count": 3,
   "id": "e35802d5",
   "metadata": {
    "scrolled": true
   },
   "outputs": [
    {
     "data": {
      "text/plain": [
       "{'env_one': {'shard_info': node_info {\n",
       "    name: \"env_one\"\n",
       "  }\n",
       "  shard_description: \"Dataset from The Whisperer in Darkness by H. P. Lovecraft\"\n",
       "  n_samples: 22492\n",
       "  sample_shape: \"3\"\n",
       "  target_shape: \"1\",\n",
       "  'is_online': True,\n",
       "  'is_experiment_running': False,\n",
       "  'last_updated': '2021-08-25 16:30:02',\n",
       "  'current_time': '2021-08-25 16:30:10',\n",
       "  'valid_duration': seconds: 120}}"
      ]
     },
     "execution_count": 3,
     "metadata": {},
     "output_type": "execute_result"
    }
   ],
   "source": [
    "shard_registry = federation.get_shard_registry()\n",
    "shard_registry"
   ]
  },
  {
   "cell_type": "code",
   "execution_count": 4,
   "id": "67ae50de",
   "metadata": {},
   "outputs": [
    {
     "data": {
      "text/plain": [
       "['1']"
      ]
     },
     "execution_count": 4,
     "metadata": {},
     "output_type": "execute_result"
    }
   ],
   "source": [
    "federation.target_shape"
   ]
  },
  {
   "cell_type": "code",
   "execution_count": 5,
   "id": "b42efc49",
   "metadata": {},
   "outputs": [],
   "source": [
    "# First, request a dummy_shard_desc that holds information about the federated dataset \n",
    "dummy_shard_desc = federation.get_dummy_shard_descriptor(size=10)\n",
    "sample, target = dummy_shard_desc[0]"
   ]
  },
  {
   "cell_type": "markdown",
   "id": "obvious-tyler",
   "metadata": {},
   "source": [
    "## Creating a FL experiment using Interactive API"
   ]
  },
  {
   "cell_type": "code",
   "execution_count": 1,
   "id": "rubber-address",
   "metadata": {},
   "outputs": [],
   "source": [
    "# from openfl.interface.interactive_api.experiment import TaskInterface, DataInterface, ModelInterface, FLExperiment\n",
    "from openfl.interface.interactive_api.experiment import DataInterface"
   ]
  },
  {
   "cell_type": "markdown",
   "id": "sustainable-public",
   "metadata": {},
   "source": [
    "### Register dataset"
   ]
  },
  {
   "cell_type": "code",
   "execution_count": 2,
   "id": "64f37dcf",
   "metadata": {
    "scrolled": true
   },
   "outputs": [],
   "source": [
    "from tensorflow.keras.utils import Sequence\n",
    "\n",
    "class DataGenerator(Sequence):\n",
    "\n",
    "    def __init__(self, shard_descriptor, indices, batch_size):\n",
    "        self.shard_descriptor = shard_descriptor\n",
    "        self.batch_size = batch_size\n",
    "        self.indices = indices\n",
    "        self.on_epoch_end()\n",
    "\n",
    "    def __len__(self):\n",
    "        return len(self.indices) // self.batch_size\n",
    "\n",
    "    def __getitem__(self, index):\n",
    "        index = self.index[index * self.batch_size:(index + 1) * self.batch_size]\n",
    "        batch = [self.indices[k] for k in index]\n",
    "\n",
    "        X, y = self.shard_descriptor[batch]\n",
    "        return X, y\n",
    "\n",
    "    def on_epoch_end(self):\n",
    "        self.index = np.arange(len(self.indices))\n",
    "\n",
    "\n",
    "# Now you can implement you data loaders using dummy_shard_desc\n",
    "class NextWordSD(DataInterface):\n",
    "\n",
    "    def __init__(self, **kwargs):\n",
    "        super().__init__(**kwargs)\n",
    "\n",
    "    @property\n",
    "    def shard_descriptor(self):\n",
    "        return self._shard_descriptor\n",
    "\n",
    "    @shard_descriptor.setter\n",
    "    def shard_descriptor(self, shard_descriptor):\n",
    "        \"\"\"\n",
    "        Describe per-collaborator procedures or sharding.\n",
    "\n",
    "        This method will be called during a collaborator initialization.\n",
    "        Local shard_descriptor will be set by Envoy.\n",
    "        \"\"\"\n",
    "        self._shard_descriptor = shard_descriptor\n",
    "\n",
    "        train = round(len(self) * 0.8)\n",
    "        self.train_indeces = list(range(1, train))\n",
    "        self.valid_indeces = list(range(train, len(self)))\n",
    "\n",
    "    def __getitem__(self, index):\n",
    "        return self.shard_descriptor[index]\n",
    "\n",
    "    def __len__(self):\n",
    "        return len(self.shard_descriptor)\n",
    "\n",
    "    def get_train_loader(self):\n",
    "        \"\"\"\n",
    "        Output of this method will be provided to tasks with optimizer in contract\n",
    "        \"\"\"\n",
    "        if self.kwargs['train_bs']:\n",
    "            batch_size = self.kwargs['train_bs']\n",
    "        else:\n",
    "            batch_size = 64\n",
    "\n",
    "        return DataGenerator(self.shard_descriptor, self.train_indeces, batch_size=batch_size)\n",
    "\n",
    "    def get_valid_loader(self):\n",
    "        \"\"\"\n",
    "        Output of this method will be provided to tasks without optimizer in contract\n",
    "        \"\"\"\n",
    "        if self.kwargs['valid_bs']:\n",
    "            batch_size = self.kwargs['valid_bs']\n",
    "        else:\n",
    "            batch_size = 512\n",
    "\n",
    "        return DataGenerator(self.shard_descriptor, self.valid_indeces, batch_size=batch_size)\n",
    "\n",
    "    def get_train_data_size(self):\n",
    "        \"\"\"\n",
    "        Information for aggregation\n",
    "        \"\"\"\n",
    "        return len(self.train_indeces)\n",
    "\n",
    "    def get_valid_data_size(self):\n",
    "        \"\"\"\n",
    "        Information for aggregation\n",
    "        \"\"\"\n",
    "        return len(self.valid_indeces)\n"
   ]
  },
  {
   "cell_type": "code",
   "execution_count": 3,
   "id": "8cb6c73c",
   "metadata": {},
   "outputs": [],
   "source": [
    "fed_dataset = NextWordSD(train_bs=64, valid_bs=512)"
   ]
  },
  {
   "cell_type": "markdown",
   "id": "caring-distinction",
   "metadata": {},
   "source": [
    "### Describe a model and optimizer"
   ]
  },
  {
   "cell_type": "code",
   "execution_count": 16,
   "id": "11c3aa0b",
   "metadata": {
    "pycharm": {
     "name": "#%%\n"
    }
   },
   "outputs": [],
   "source": [
    "import tensorflow as tf\n",
    "from tensorflow.keras.layers import LSTM, Dense\n",
    "from tensorflow.keras.optimizers import Adam\n",
    "\n",
    "\n",
    "class Model(tf.keras.Model):\n",
    "    \"\"\"Model definition.\"\"\"\n",
    "\n",
    "    def __init__(self, **kwargs):\n",
    "        super().__init__()\n",
    "\n",
    "        vocab_size = 48904\n",
    "        self.lstm1 = LSTM(1000, return_sequences=True)\n",
    "        self.lstm2 = LSTM(1000)\n",
    "        self.d1 = Dense(1000, activation='tanh')\n",
    "        self.d2 = Dense(vocab_size, activation='softmax')\n",
    "\n",
    "    def call(self, x):\n",
    "        x = self.lstm1(x)\n",
    "        x = self.lstm2(x)\n",
    "        x = self.d1(x)\n",
    "        x = self.d2(x)\n",
    "        return x\n",
    "    \n",
    "    def get_config(self):\n",
    "        config = dict({'name': self.name})\n",
    "        config['layers'] = [\n",
    "            {'class_name': layer.__class__.__name__,\n",
    "             'config': layer.get_config()} \n",
    "            for layer in model._self_tracked_trackables\n",
    "        ]\n",
    "\n",
    "        return config\n",
    "\n",
    "# Construct an instance of Model\n",
    "model = Model()\n",
    "optimizer = Adam(learning_rate=0.001)\n",
    "model.compile(loss='categorical_crossentropy', optimizer=optimizer,\n",
    "              metrics=[tf.keras.metrics.CategoricalAccuracy()])"
   ]
  },
  {
   "cell_type": "code",
   "execution_count": 17,
   "id": "a0c31284",
   "metadata": {
    "pycharm": {
     "name": "#%%\n"
    }
   },
   "outputs": [],
   "source": [
    "# Copyright (C) 2020-2021 Intel Corporation\n",
    "# SPDX-License-Identifier: Apache-2.0\n",
    "\"\"\"Market shard descriptor.\"\"\"\n",
    "\n",
    "import re\n",
    "from pathlib import Path\n",
    "\n",
    "import numpy as np\n",
    "import pandas as pd\n",
    "from tensorflow.keras.utils import to_categorical\n",
    "\n",
    "from openfl.interface.interactive_api.shard_descriptor import ShardDescriptor\n",
    "\n",
    "\n",
    "class NextWordShardDescriptor(ShardDescriptor):\n",
    "    \"\"\"\"Data - any text.\"\"\"\n",
    "\n",
    "    def __init__(self, title: str = '', author: str = '') -> None:\n",
    "        \"\"\"Initialize NextWordShardDescriptor.\"\"\"\n",
    "        super().__init__()\n",
    "\n",
    "        self.title = title\n",
    "        self.author = author\n",
    "        self.dataset_dir = list(Path.cwd().rglob(f'{title}.txt'))[0]\n",
    "        self.data = self.load_data(self.dataset_dir)  # list of words\n",
    "        self.X, self.y = self.get_sequences(self.data)\n",
    "\n",
    "    def __len__(self):\n",
    "        \"\"\"Number of sequences.\"\"\"\n",
    "        return len(self.X)\n",
    "\n",
    "    def __getitem__(self, index: int):\n",
    "        \"\"\"Return an item by the index.\"\"\"\n",
    "        return self.X[index], self.y[index]\n",
    "\n",
    "    @property\n",
    "    def sample_shape(self):\n",
    "        \"\"\"Return the sample shape info.\"\"\"\n",
    "        return ['3', '96']  # three vectors\n",
    "\n",
    "    @property\n",
    "    def target_shape(self):\n",
    "        \"\"\"Return the target shape info.\"\"\"\n",
    "        return ['48904']  # row at one-hot matrix with n = vocab_size\n",
    "\n",
    "    @property\n",
    "    def dataset_description(self) -> str:\n",
    "        \"\"\"Return the dataset description.\"\"\"\n",
    "        return f'Dataset from {self.title} by {self.author}'\n",
    "\n",
    "    @staticmethod\n",
    "    def load_data(path):\n",
    "        \"\"\"Load text file, return list of words.\"\"\"\n",
    "        file = open(path, 'r', encoding='utf8').read()\n",
    "        data = re.findall(r'[a-z]+', file.lower())\n",
    "        return data\n",
    "\n",
    "    @staticmethod\n",
    "    def get_sequences(data):\n",
    "        \"\"\"\n",
    "        Transform words to sequences, for X transform to vectors as well.\n",
    "\n",
    "        To make vocab, clean it and get keyed vectors:\n",
    "            if not spacy.util.is_package('en_core_web_sm'):\n",
    "                spacy.cli.download('en_core_web_sm')\n",
    "            nlp = spacy.load('en_core_web_sm')\n",
    "            clean_vocab_list = [word for word in nlp.vocab.strings if re.fullmatch(r'[a-z]+', word)]\n",
    "\n",
    "            word_to_vector = pd.Series([], name='vector')\n",
    "            for word in clean_vocab_list:\n",
    "                word_to_vector[word] = nlp(word).vector\n",
    "            word_to_vector.to_pickle('keyed_vectors.pkl')\n",
    "        \"\"\"\n",
    "        # spacy en_core_web_sm vocab_size = 48904, vector_size = 96\n",
    "        x_seq = []\n",
    "        y_seq = []\n",
    "        vectors = pd.read_pickle('keyed_vectors.pkl')\n",
    "        for i in range(len(data) - 3):\n",
    "            x = data[i:i + 3]  # make 3-grams\n",
    "            y = data[i + 3]\n",
    "            cur_x = [vectors[word] for word in x if word in vectors]\n",
    "            if len(cur_x) == 3 and y in vectors:\n",
    "                x_seq.append(cur_x)\n",
    "                y_seq.append(vectors.index.get_loc(y))\n",
    "\n",
    "        x_seq = np.array(x_seq)\n",
    "        y_seq = to_categorical(y_seq, num_classes=vectors.shape[0])\n",
    "        return x_seq, y_seq\n"
   ]
  },
  {
   "cell_type": "markdown",
   "id": "caroline-passion",
   "metadata": {},
   "source": [
    "#### Register model"
   ]
  },
  {
   "cell_type": "raw",
   "id": "d6bff9f3",
   "metadata": {},
   "source": [
    "from copy import deepcopy\n",
    "\n",
    "framework_adapter = 'openfl.plugins.frameworks_adapters.keras_adapter.FrameworkAdapterPlugin'\n",
    "MI = ModelInterface(model=model, optimizer=optimizer, framework_plugin=framework_adapter)\n",
    "# Save the initial model state\n",
    "initial_model = deepcopy(model)"
   ]
  },
  {
   "cell_type": "markdown",
   "id": "portuguese-groove",
   "metadata": {},
   "source": [
    "### Define and register FL tasks"
   ]
  },
  {
   "cell_type": "code",
   "execution_count": 18,
   "id": "increasing-builder",
   "metadata": {},
   "outputs": [],
   "source": [
    "import tqdm\n",
    "\n",
    "# TI = TaskInterface()\n",
    "\n",
    "# @TI.register_fl_task(model='model', data_loader='train_loader', device='device')\n",
    "def train(model, train_loader, device=''):  # https://www.tensorflow.org/guide/keras/customizing_what_happens_in_fit\n",
    "    if tf.test.is_gpu_available():\n",
    "        device = tf.device('/gpu:0')\n",
    "    else:\n",
    "        device = tf.device('/cpu:0')\n",
    "\n",
    "    with device:\n",
    "#         train_loader = tqdm.tqdm(train_loader, desc='train')\n",
    "\n",
    "        # Unpack the data\n",
    "        x, y = train_loader\n",
    "        y = tf.convert_to_tensor(y)\n",
    "        with tf.GradientTape() as tape:\n",
    "            y_pred = model(x, training=True)  # Forward pass\n",
    "            # Compute the loss value\n",
    "            # (the loss function is configured in `compile()`)\n",
    "            loss = model.compiled_loss(y, y_pred, regularization_losses=model.losses)\n",
    "\n",
    "        # Compute gradients\n",
    "        trainable_vars = model.trainable_variables\n",
    "        gradients = tape.gradient(loss, trainable_vars)\n",
    "\n",
    "        # Update weights\n",
    "        model.optimizer.apply_gradients(zip(gradients, trainable_vars))\n",
    "\n",
    "        # Update metrics (includes the metric that tracks the loss)\n",
    "        model.compiled_metrics.update_state(y, y_pred)\n",
    "    # Return a dict mapping metric names to current value\n",
    "    return {m.name: m.result() for m in model.metrics}\n",
    "\n",
    "\n",
    "# @TI.register_fl_task(model='model', data_loader='val_loader', device='device')\n",
    "def validate(model, val_loader, device=''):\n",
    "    if tf.test.is_gpu_available():\n",
    "        device = tf.device('/gpu:0')\n",
    "    else:\n",
    "        device = tf.device('/cpu:0')\n",
    "\n",
    "    with device:\n",
    "#         val_loader = tqdm.tqdm(val_loader, desc='validate')\n",
    "\n",
    "        # Unpack the data\n",
    "        x, y = val_loader\n",
    "        y = tf.convert_to_tensor(y)\n",
    "        # Compute predictions\n",
    "        y_pred = model(x, training=False)\n",
    "        # Updates the metrics tracking the loss\n",
    "        model.compiled_loss(y, y_pred, regularization_losses=model.losses)\n",
    "        # Update the metrics.\n",
    "        model.compiled_metrics.update_state(y, y_pred)\n",
    "        # Return a dict mapping metric names to current value.\n",
    "    # Note that it will include the loss (tracked in self.metrics).\n",
    "    return {m.name: m.result() for m in model.metrics}"
   ]
  },
  {
   "cell_type": "code",
   "execution_count": null,
   "id": "535725c0",
   "metadata": {
    "scrolled": true
   },
   "outputs": [
    {
     "name": "stdout",
     "output_type": "stream",
     "text": [
      "Epoch 0 train {'loss': 10.798113, 'categorical_accuracy': 0.0}\n",
      "Epoch 0 validate {'loss': 10.791787, 'categorical_accuracy': 0.015625}\n",
      "Epoch 1 train {'loss': 10.79166, 'categorical_accuracy': 0.015625}\n",
      "Epoch 1 validate {'loss': 10.785787, 'categorical_accuracy': 0.014756944}\n",
      "Epoch 2 train {'loss': 10.78552, 'categorical_accuracy': 0.014802632}\n",
      "Epoch 2 validate {'loss': 10.772667, 'categorical_accuracy': 0.011574074}\n",
      "Epoch 3 train {'loss': 10.771158, 'categorical_accuracy': 0.01171875}\n",
      "Epoch 3 validate {'loss': 10.745472, 'categorical_accuracy': 0.010850694}\n",
      "Epoch 4 train {'loss': 10.742561, 'categorical_accuracy': 0.011402027}\n",
      "Epoch 4 validate {'loss': 10.668691, 'categorical_accuracy': 0.011111111}\n",
      "Epoch 5 train {'loss': 10.662229, 'categorical_accuracy': 0.011209239}\n",
      "Epoch 5 validate {'loss': 10.528828, 'categorical_accuracy': 0.010416667}\n",
      "Epoch 6 train {'loss': 10.509809, 'categorical_accuracy': 0.010511364}\n",
      "Epoch 6 validate {'loss': 10.324217, 'categorical_accuracy': 0.011160715}\n",
      "Epoch 7 train {'loss': 10.308299, 'categorical_accuracy': 0.011230469}\n",
      "Epoch 7 validate {'loss': 10.123147, 'categorical_accuracy': 0.01171875}\n",
      "Epoch 8 train {'loss': 10.093739, 'categorical_accuracy': 0.011986301}\n",
      "Epoch 8 validate {'loss': 10.036859, 'categorical_accuracy': 0.012435233}\n",
      "Epoch 9 train {'loss': 10.014627, 'categorical_accuracy': 0.012272448}\n",
      "Epoch 9 validate {'loss': 10.014627, 'categorical_accuracy': 0.012272448}\n",
      "Epoch 10 train {'loss': 9.989731, 'categorical_accuracy': 0.012517666}\n",
      "Epoch 10 validate {'loss': 9.989731, 'categorical_accuracy': 0.012517666}\n",
      "Epoch 11 train {'loss': 9.96896, 'categorical_accuracy': 0.012557305}\n",
      "Epoch 11 validate {'loss': 9.96896, 'categorical_accuracy': 0.012557305}\n",
      "Epoch 12 train {'loss': 9.94144, 'categorical_accuracy': 0.012792758}\n",
      "Epoch 12 validate {'loss': 9.94144, 'categorical_accuracy': 0.012792758}\n",
      "Epoch 13 train {'loss': 9.916304, 'categorical_accuracy': 0.013216715}\n",
      "Epoch 13 validate {'loss': 9.916304, 'categorical_accuracy': 0.013216715}\n",
      "Epoch 14 train {'loss': 9.907451, 'categorical_accuracy': 0.013054329}\n",
      "Epoch 14 validate {'loss': 9.907451, 'categorical_accuracy': 0.013054329}\n",
      "Epoch 15 train {'loss': 9.88398, 'categorical_accuracy': 0.012895885}\n",
      "Epoch 15 validate {'loss': 9.88398, 'categorical_accuracy': 0.012895885}\n",
      "Epoch 16 train {'loss': 9.859586, 'categorical_accuracy': 0.012741241}\n",
      "Epoch 16 validate {'loss': 9.859586, 'categorical_accuracy': 0.012741241}\n",
      "Epoch 17 train {'loss': 9.847101, 'categorical_accuracy': 0.012775412}\n",
      "Epoch 17 validate {'loss': 9.847101, 'categorical_accuracy': 0.012775412}\n",
      "Epoch 18 train {'loss': 9.8359785, 'categorical_accuracy': 0.0129917655}\n",
      "Epoch 18 validate {'loss': 9.8359785, 'categorical_accuracy': 0.0129917655}\n",
      "Epoch 19 train {'loss': 9.824781, 'categorical_accuracy': 0.013383975}\n",
      "Epoch 19 validate {'loss': 9.824781, 'categorical_accuracy': 0.013383975}\n",
      "Epoch 20 train {'loss': 9.797434, 'categorical_accuracy': 0.013409619}\n",
      "Epoch 20 validate {'loss': 9.797434, 'categorical_accuracy': 0.013409619}\n",
      "Epoch 21 train {'loss': 9.78087, 'categorical_accuracy': 0.0132579105}\n",
      "Epoch 21 validate {'loss': 9.78087, 'categorical_accuracy': 0.0132579105}\n",
      "Epoch 22 train {'loss': 9.763761, 'categorical_accuracy': 0.013109596}\n",
      "Epoch 22 validate {'loss': 9.763761, 'categorical_accuracy': 0.013109596}\n",
      "Epoch 23 train {'loss': 9.740265, 'categorical_accuracy': 0.012964563}\n",
      "Epoch 23 validate {'loss': 9.740265, 'categorical_accuracy': 0.012964563}\n",
      "Epoch 24 train {'loss': 9.7137785, 'categorical_accuracy': 0.012993674}\n",
      "Epoch 24 validate {'loss': 9.7137785, 'categorical_accuracy': 0.012993674}\n",
      "Epoch 25 train {'loss': 9.691044, 'categorical_accuracy': 0.01369863}\n",
      "Epoch 25 validate {'loss': 9.691044, 'categorical_accuracy': 0.01369863}\n",
      "Epoch 26 train {'loss': 9.668129, 'categorical_accuracy': 0.014053873}\n",
      "Epoch 26 validate {'loss': 9.668129, 'categorical_accuracy': 0.014053873}\n",
      "Epoch 27 train {'loss': 9.6503725, 'categorical_accuracy': 0.014567125}\n",
      "Epoch 27 validate {'loss': 9.6503725, 'categorical_accuracy': 0.014567125}\n",
      "Epoch 28 train {'loss': 9.622934, 'categorical_accuracy': 0.014905815}\n",
      "Epoch 28 validate {'loss': 9.622934, 'categorical_accuracy': 0.014905815}\n",
      "Epoch 29 train {'loss': 9.606664, 'categorical_accuracy': 0.015237478}\n",
      "Epoch 29 validate {'loss': 9.606664, 'categorical_accuracy': 0.015237478}\n",
      "Epoch 30 train {'loss': 9.58937, 'categorical_accuracy': 0.015722767}\n",
      "Epoch 30 validate {'loss': 9.58937, 'categorical_accuracy': 0.015722767}\n",
      "Epoch 31 train {'loss': 9.562513, 'categorical_accuracy': 0.016039385}\n",
      "Epoch 31 validate {'loss': 9.562513, 'categorical_accuracy': 0.016039385}\n",
      "Epoch 32 train {'loss': 9.540107, 'categorical_accuracy': 0.01634963}\n",
      "Epoch 32 validate {'loss': 9.540107, 'categorical_accuracy': 0.01634963}\n",
      "Epoch 33 train {'loss': 9.513196, 'categorical_accuracy': 0.016809339}\n",
      "Epoch 33 validate {'loss': 9.513196, 'categorical_accuracy': 0.016809339}\n",
      "Epoch 34 train {'loss': 9.498763, 'categorical_accuracy': 0.016797658}\n",
      "Epoch 34 validate {'loss': 9.498763, 'categorical_accuracy': 0.016797658}\n",
      "Epoch 35 train {'loss': 9.478217, 'categorical_accuracy': 0.017244011}\n",
      "Epoch 35 validate {'loss': 9.478217, 'categorical_accuracy': 0.017244011}\n",
      "Epoch 36 train {'loss': 9.463663, 'categorical_accuracy': 0.017681729}\n",
      "Epoch 36 validate {'loss': 9.463663, 'categorical_accuracy': 0.017681729}\n",
      "Epoch 37 train {'loss': 9.4502, 'categorical_accuracy': 0.01826074}\n",
      "Epoch 37 validate {'loss': 9.4502, 'categorical_accuracy': 0.01826074}\n",
      "Epoch 38 train {'loss': 9.435631, 'categorical_accuracy': 0.018532246}\n",
      "Epoch 38 validate {'loss': 9.435631, 'categorical_accuracy': 0.018532246}\n",
      "Epoch 39 train {'loss': 9.415997, 'categorical_accuracy': 0.019092377}\n",
      "Epoch 39 validate {'loss': 9.415997, 'categorical_accuracy': 0.019092377}\n",
      "Epoch 40 train {'loss': 9.39445, 'categorical_accuracy': 0.019351084}\n",
      "Epoch 40 validate {'loss': 9.39445, 'categorical_accuracy': 0.019351084}\n",
      "Epoch 41 train {'loss': 9.380392, 'categorical_accuracy': 0.02003748}\n",
      "Epoch 41 validate {'loss': 9.380392, 'categorical_accuracy': 0.02003748}\n",
      "Epoch 42 train {'loss': 9.359622, 'categorical_accuracy': 0.020425653}\n",
      "Epoch 42 validate {'loss': 9.359622, 'categorical_accuracy': 0.020425653}\n",
      "Epoch 43 train {'loss': 9.351922, 'categorical_accuracy': 0.020806795}\n",
      "Epoch 43 validate {'loss': 9.351922, 'categorical_accuracy': 0.020806795}\n",
      "Epoch 44 train {'loss': 9.34272, 'categorical_accuracy': 0.021461636}\n",
      "Epoch 44 validate {'loss': 9.34272, 'categorical_accuracy': 0.021461636}\n",
      "Epoch 45 train {'loss': 9.336855, 'categorical_accuracy': 0.021687752}\n",
      "Epoch 45 validate {'loss': 9.336855, 'categorical_accuracy': 0.021687752}\n",
      "Epoch 46 train {'loss': 9.310204, 'categorical_accuracy': 0.021772083}\n",
      "Epoch 46 validate {'loss': 9.310204, 'categorical_accuracy': 0.021772083}\n",
      "Epoch 47 train {'loss': 9.294505, 'categorical_accuracy': 0.021854937}\n",
      "Epoch 47 validate {'loss': 9.294505, 'categorical_accuracy': 0.021854937}\n",
      "Epoch 48 train {'loss': 9.272072, 'categorical_accuracy': 0.021936357}\n",
      "Epoch 48 validate {'loss': 9.272072, 'categorical_accuracy': 0.021936357}\n",
      "Epoch 49 train {'loss': 9.253001, 'categorical_accuracy': 0.021882132}\n",
      "Epoch 49 validate {'loss': 9.253001, 'categorical_accuracy': 0.021882132}\n",
      "Epoch 50 train {'loss': 9.229052, 'categorical_accuracy': 0.022095036}\n",
      "Epoch 50 validate {'loss': 9.229052, 'categorical_accuracy': 0.022095036}\n",
      "Epoch 51 train {'loss': 9.217008, 'categorical_accuracy': 0.022040386}\n",
      "Epoch 51 validate {'loss': 9.217008, 'categorical_accuracy': 0.022040386}\n",
      "Epoch 52 train {'loss': 9.20562, 'categorical_accuracy': 0.021855777}\n",
      "Epoch 52 validate {'loss': 9.20562, 'categorical_accuracy': 0.021855777}\n",
      "Epoch 53 train {'loss': 9.193242, 'categorical_accuracy': 0.021804024}\n",
      "Epoch 53 validate {'loss': 9.193242, 'categorical_accuracy': 0.021804024}\n",
      "Epoch 54 train {'loss': 9.187386, 'categorical_accuracy': 0.021881837}\n",
      "Epoch 54 validate {'loss': 9.187386, 'categorical_accuracy': 0.021881837}\n",
      "Epoch 55 train {'loss': 9.171182, 'categorical_accuracy': 0.021830717}\n",
      "Epoch 55 validate {'loss': 9.171182, 'categorical_accuracy': 0.021830717}\n",
      "Epoch 56 train {'loss': 9.152436, 'categorical_accuracy': 0.022540204}\n"
     ]
    },
    {
     "name": "stdout",
     "output_type": "stream",
     "text": [
      "Epoch 56 validate {'loss': 9.152436, 'categorical_accuracy': 0.022540204}\n",
      "Epoch 57 train {'loss': 9.137461, 'categorical_accuracy': 0.022735838}\n",
      "Epoch 57 validate {'loss': 9.137461, 'categorical_accuracy': 0.022735838}\n",
      "Epoch 58 train {'loss': 9.129047, 'categorical_accuracy': 0.02292835}\n",
      "Epoch 58 validate {'loss': 9.129047, 'categorical_accuracy': 0.02292835}\n",
      "Epoch 59 train {'loss': 9.110953, 'categorical_accuracy': 0.022746941}\n",
      "Epoch 59 validate {'loss': 9.110953, 'categorical_accuracy': 0.022746941}\n",
      "Epoch 60 train {'loss': 9.096177, 'categorical_accuracy': 0.02256838}\n",
      "Epoch 60 validate {'loss': 9.096177, 'categorical_accuracy': 0.02256838}\n",
      "Epoch 61 train {'loss': 9.087684, 'categorical_accuracy': 0.0225143}\n",
      "Epoch 61 validate {'loss': 9.087684, 'categorical_accuracy': 0.0225143}\n",
      "Epoch 62 train {'loss': 9.071761, 'categorical_accuracy': 0.022702573}\n",
      "Epoch 62 validate {'loss': 9.071761, 'categorical_accuracy': 0.022702573}\n",
      "Epoch 63 train {'loss': 9.056434, 'categorical_accuracy': 0.022768125}\n",
      "Epoch 63 validate {'loss': 9.056434, 'categorical_accuracy': 0.022768125}\n",
      "Epoch 64 train {'loss': 9.047397, 'categorical_accuracy': 0.02259484}\n",
      "Epoch 64 validate {'loss': 9.047397, 'categorical_accuracy': 0.02259484}\n",
      "Epoch 65 train {'loss': 9.037338, 'categorical_accuracy': 0.022896258}\n",
      "Epoch 65 validate {'loss': 9.037338, 'categorical_accuracy': 0.022896258}\n",
      "Epoch 66 train {'loss': 9.023049, 'categorical_accuracy': 0.02319316}\n",
      "Epoch 66 validate {'loss': 9.023049, 'categorical_accuracy': 0.02319316}\n",
      "Epoch 67 train {'loss': 9.011046, 'categorical_accuracy': 0.02325311}\n",
      "Epoch 67 validate {'loss': 9.011046, 'categorical_accuracy': 0.02325311}\n",
      "Epoch 68 train {'loss': 8.993831, 'categorical_accuracy': 0.02388921}\n",
      "Epoch 68 validate {'loss': 8.993831, 'categorical_accuracy': 0.02388921}\n",
      "Epoch 69 train {'loss': 8.983291, 'categorical_accuracy': 0.024630541}\n",
      "Epoch 69 validate {'loss': 8.983291, 'categorical_accuracy': 0.024630541}\n",
      "Epoch 70 train {'loss': 8.976335, 'categorical_accuracy': 0.025247356}\n",
      "Epoch 70 validate {'loss': 8.976335, 'categorical_accuracy': 0.025247356}\n",
      "Epoch 71 train {'loss': 8.96579, 'categorical_accuracy': 0.02551654}\n",
      "Epoch 71 validate {'loss': 8.96579, 'categorical_accuracy': 0.02551654}\n",
      "Epoch 72 train {'loss': 8.948034, 'categorical_accuracy': 0.026118148}\n",
      "Epoch 72 validate {'loss': 8.948034, 'categorical_accuracy': 0.026118148}\n",
      "Epoch 73 train {'loss': 8.929687, 'categorical_accuracy': 0.026154703}\n",
      "Epoch 73 validate {'loss': 8.929687, 'categorical_accuracy': 0.026154703}\n",
      "Epoch 74 train {'loss': 8.916866, 'categorical_accuracy': 0.02619074}\n",
      "Epoch 74 validate {'loss': 8.916866, 'categorical_accuracy': 0.02619074}\n",
      "Epoch 75 train {'loss': 8.912144, 'categorical_accuracy': 0.026226271}\n",
      "Epoch 75 validate {'loss': 8.912144, 'categorical_accuracy': 0.026226271}\n",
      "Epoch 76 train {'loss': 8.898875, 'categorical_accuracy': 0.026261305}\n",
      "Epoch 76 validate {'loss': 8.898875, 'categorical_accuracy': 0.026261305}\n",
      "Epoch 77 train {'loss': 8.897423, 'categorical_accuracy': 0.026728708}\n",
      "Epoch 77 validate {'loss': 8.897423, 'categorical_accuracy': 0.026728708}\n",
      "Epoch 78 train {'loss': 8.885919, 'categorical_accuracy': 0.027189683}\n",
      "Epoch 78 validate {'loss': 8.885919, 'categorical_accuracy': 0.027189683}\n",
      "Epoch 79 train {'loss': 8.872608, 'categorical_accuracy': 0.027751094}\n",
      "Epoch 79 validate {'loss': 8.872608, 'categorical_accuracy': 0.027751094}\n",
      "Epoch 80 train {'loss': 8.863369, 'categorical_accuracy': 0.027774833}\n",
      "Epoch 80 validate {'loss': 8.863369, 'categorical_accuracy': 0.027774833}\n",
      "Epoch 81 train {'loss': 8.855735, 'categorical_accuracy': 0.028008845}\n",
      "Epoch 81 validate {'loss': 8.855735, 'categorical_accuracy': 0.028008845}\n",
      "Epoch 82 train {'loss': 8.84819, 'categorical_accuracy': 0.02792595}\n",
      "Epoch 82 validate {'loss': 8.84819, 'categorical_accuracy': 0.02792595}\n",
      "Epoch 83 train {'loss': 8.842601, 'categorical_accuracy': 0.028155845}\n",
      "Epoch 83 validate {'loss': 8.842601, 'categorical_accuracy': 0.028155845}\n",
      "Epoch 84 train {'loss': 8.833999, 'categorical_accuracy': 0.028279493}\n",
      "Epoch 84 validate {'loss': 8.833999, 'categorical_accuracy': 0.028279493}\n",
      "Epoch 85 train {'loss': 8.83057, 'categorical_accuracy': 0.028196452}\n",
      "Epoch 85 validate {'loss': 8.83057, 'categorical_accuracy': 0.028196452}\n",
      "Epoch 86 train {'loss': 8.820089, 'categorical_accuracy': 0.02821636}\n",
      "Epoch 86 validate {'loss': 8.820089, 'categorical_accuracy': 0.02821636}\n",
      "Epoch 87 train {'loss': 8.811536, 'categorical_accuracy': 0.028134804}\n",
      "Epoch 87 validate {'loss': 8.811536, 'categorical_accuracy': 0.028134804}\n",
      "Epoch 88 train {'loss': 8.800773, 'categorical_accuracy': 0.028154852}\n",
      "Epoch 88 validate {'loss': 8.800773, 'categorical_accuracy': 0.028154852}\n",
      "Epoch 89 train {'loss': 8.791227, 'categorical_accuracy': 0.028074732}\n",
      "Epoch 89 validate {'loss': 8.791227, 'categorical_accuracy': 0.028074732}\n",
      "Epoch 90 train {'loss': 8.77854, 'categorical_accuracy': 0.027896356}\n",
      "Epoch 90 validate {'loss': 8.77854, 'categorical_accuracy': 0.027896356}\n",
      "Epoch 91 train {'loss': 8.767174, 'categorical_accuracy': 0.028213475}\n",
      "Epoch 91 validate {'loss': 8.767174, 'categorical_accuracy': 0.028213475}\n",
      "Epoch 92 train {'loss': 8.756962, 'categorical_accuracy': 0.028428586}\n",
      "Epoch 92 validate {'loss': 8.756962, 'categorical_accuracy': 0.028428586}\n",
      "Epoch 93 train {'loss': 8.745265, 'categorical_accuracy': 0.028446177}\n",
      "Epoch 93 validate {'loss': 8.745265, 'categorical_accuracy': 0.028446177}\n",
      "Epoch 94 train {'loss': 8.73828, 'categorical_accuracy': 0.028753994}\n",
      "Epoch 94 validate {'loss': 8.73828, 'categorical_accuracy': 0.028753994}\n",
      "Epoch 95 train {'loss': 8.730598, 'categorical_accuracy': 0.02915424}\n",
      "Epoch 95 validate {'loss': 8.730598, 'categorical_accuracy': 0.02915424}\n",
      "Epoch 96 train {'loss': 8.717823, 'categorical_accuracy': 0.029549584}\n",
      "Epoch 96 validate {'loss': 8.717823, 'categorical_accuracy': 0.029549584}\n",
      "Epoch 97 train {'loss': 8.711473, 'categorical_accuracy': 0.029845072}\n",
      "Epoch 97 validate {'loss': 8.711473, 'categorical_accuracy': 0.029845072}\n",
      "Epoch 98 train {'loss': 8.699979, 'categorical_accuracy': 0.029948039}\n",
      "Epoch 98 validate {'loss': 8.699979, 'categorical_accuracy': 0.029948039}\n",
      "Epoch 99 train {'loss': 8.692158, 'categorical_accuracy': 0.030425392}\n",
      "Epoch 99 validate {'loss': 8.692158, 'categorical_accuracy': 0.030425392}\n",
      "Epoch 100 train {'loss': 8.681729, 'categorical_accuracy': 0.030430319}\n",
      "Epoch 100 validate {'loss': 8.681729, 'categorical_accuracy': 0.030430319}\n",
      "Epoch 101 train {'loss': 8.670233, 'categorical_accuracy': 0.030435186}\n",
      "Epoch 101 validate {'loss': 8.670233, 'categorical_accuracy': 0.030435186}\n"
     ]
    }
   ],
   "source": [
    "fed_dataset.shard_descriptor = NextWordShardDescriptor(title='metamorphosis')\n",
    "\n",
    "for epoch in range(1000):\n",
    "    train_loader = fed_dataset.get_train_loader()[epoch]\n",
    "    metrics = train(model, train_loader)\n",
    "    m = {key: value.numpy() for key, value in metrics.items()}\n",
    "    print(f'Epoch {epoch} train {m}')\n",
    "    \n",
    "    val_loader = fed_dataset.get_valid_loader()[epoch]\n",
    "    metrics = validate(model, val_loader)\n",
    "    m = {key: value.numpy() for key, value in metrics.items()}\n",
    "    print(f'Epoch {epoch} validate {m}')"
   ]
  },
  {
   "cell_type": "markdown",
   "id": "derived-bride",
   "metadata": {},
   "source": [
    "## Time to start a federated learning experiment"
   ]
  },
  {
   "cell_type": "code",
   "execution_count": 12,
   "id": "mature-renewal",
   "metadata": {},
   "outputs": [],
   "source": [
    "# create an experimnet in federation\n",
    "experiment_name = 'word_prediction_test_experiment'\n",
    "fl_experiment = FLExperiment(federation=federation, experiment_name=experiment_name)"
   ]
  },
  {
   "cell_type": "code",
   "execution_count": 13,
   "id": "lightweight-causing",
   "metadata": {
    "scrolled": false
   },
   "outputs": [
    {
     "data": {
      "text/html": [
       "<pre style=\"white-space:pre;overflow-x:auto;line-height:normal;font-family:Menlo,'DejaVu Sans Mono',consolas,'Courier New',monospace\"><span style=\"color: #7fbfbf\">[16:30:12] </span><span style=\"color: #000080\">INFO</span>     Building <span style=\"color: #800000\">🡆</span> Object <span style=\"color: #800000\">CloudpickleSerializer</span> from <span style=\"color: #800000\">openfl.plugins.interface_serializer.cloudpickle_serializer</span> Module.                  <a href=\"file:///home/merkulov/openfl/openfl/federated/plan/plan.py\"><span style=\"color: #7f7f7f\">plan.py</span></a><span style=\"color: #7f7f7f\">:172</span>\n",
       "</pre>\n"
      ],
      "text/plain": [
       "<rich.jupyter.JupyterRenderable at 0x7f4837b852d0>"
      ]
     },
     "metadata": {},
     "output_type": "display_data"
    },
    {
     "data": {
      "text/html": [
       "<pre style=\"white-space:pre;overflow-x:auto;line-height:normal;font-family:Menlo,'DejaVu Sans Mono',consolas,'Courier New',monospace\"><span style=\"color: #7fbfbf\">           </span><span style=\"color: #000080\">INFO</span>     Settings <span style=\"color: #800000\">🡆</span> <span style=\"font-weight: bold\">{}</span>                                                                                                                    <a href=\"file:///home/merkulov/openfl/openfl/federated/plan/plan.py\"><span style=\"color: #7f7f7f\">plan.py</span></a><span style=\"color: #7f7f7f\">:174</span>\n",
       "</pre>\n"
      ],
      "text/plain": [
       "<rich.jupyter.JupyterRenderable at 0x7f4828709210>"
      ]
     },
     "metadata": {},
     "output_type": "display_data"
    },
    {
     "data": {
      "text/html": [
       "<pre style=\"white-space:pre;overflow-x:auto;line-height:normal;font-family:Menlo,'DejaVu Sans Mono',consolas,'Courier New',monospace\"><span style=\"color: #7fbfbf\">           </span><span style=\"color: #000080\">INFO</span>     Override <span style=\"color: #800000\">🡆</span> <span style=\"font-weight: bold\">{}</span>                                                                                                                    <a href=\"file:///home/merkulov/openfl/openfl/federated/plan/plan.py\"><span style=\"color: #7f7f7f\">plan.py</span></a><span style=\"color: #7f7f7f\">:176</span>\n",
       "</pre>\n"
      ],
      "text/plain": [
       "<rich.jupyter.JupyterRenderable at 0x7f4828732c50>"
      ]
     },
     "metadata": {},
     "output_type": "display_data"
    },
    {
     "data": {
      "text/html": [
       "<pre style=\"white-space:pre;overflow-x:auto;line-height:normal;font-family:Menlo,'DejaVu Sans Mono',consolas,'Courier New',monospace\"><span style=\"color: #7fbfbf\">           </span><span style=\"color: #000080\">INFO</span>     Building <span style=\"color: #800000\">🡆</span> Object <span style=\"color: #800000\">FrameworkAdapterPlugin</span> from <span style=\"color: #800000\">openfl.plugins.frameworks_adapters.keras_adapter</span> Module.                           <a href=\"file:///home/merkulov/openfl/openfl/federated/plan/plan.py\"><span style=\"color: #7f7f7f\">plan.py</span></a><span style=\"color: #7f7f7f\">:172</span>\n",
       "</pre>\n"
      ],
      "text/plain": [
       "<rich.jupyter.JupyterRenderable at 0x7f4837b88610>"
      ]
     },
     "metadata": {},
     "output_type": "display_data"
    },
    {
     "data": {
      "text/html": [
       "<pre style=\"white-space:pre;overflow-x:auto;line-height:normal;font-family:Menlo,'DejaVu Sans Mono',consolas,'Courier New',monospace\"><span style=\"color: #7fbfbf\">           </span><span style=\"color: #000080\">INFO</span>     Settings <span style=\"color: #800000\">🡆</span> <span style=\"font-weight: bold\">{}</span>                                                                                                                    <a href=\"file:///home/merkulov/openfl/openfl/federated/plan/plan.py\"><span style=\"color: #7f7f7f\">plan.py</span></a><span style=\"color: #7f7f7f\">:174</span>\n",
       "</pre>\n"
      ],
      "text/plain": [
       "<rich.jupyter.JupyterRenderable at 0x7f482871aed0>"
      ]
     },
     "metadata": {},
     "output_type": "display_data"
    },
    {
     "data": {
      "text/html": [
       "<pre style=\"white-space:pre;overflow-x:auto;line-height:normal;font-family:Menlo,'DejaVu Sans Mono',consolas,'Courier New',monospace\"><span style=\"color: #7fbfbf\">           </span><span style=\"color: #000080\">INFO</span>     Override <span style=\"color: #800000\">🡆</span> <span style=\"font-weight: bold\">{}</span>                                                                                                                    <a href=\"file:///home/merkulov/openfl/openfl/federated/plan/plan.py\"><span style=\"color: #7f7f7f\">plan.py</span></a><span style=\"color: #7f7f7f\">:176</span>\n",
       "</pre>\n"
      ],
      "text/plain": [
       "<rich.jupyter.JupyterRenderable at 0x7f482871af10>"
      ]
     },
     "metadata": {},
     "output_type": "display_data"
    },
    {
     "data": {
      "text/html": [
       "<pre style=\"white-space:pre;overflow-x:auto;line-height:normal;font-family:Menlo,'DejaVu Sans Mono',consolas,'Courier New',monospace\"><span style=\"color: #7fbfbf\">           </span><span style=\"color: #000080\">INFO</span>     Starting experiment!                                                                                                       <a href=\"file:///home/merkulov/openfl/openfl/interface/interactive_api/experiment.py\"><span style=\"color: #7f7f7f\">experiment.py</span></a><span style=\"color: #7f7f7f\">:155</span>\n",
       "</pre>\n"
      ],
      "text/plain": [
       "<rich.jupyter.JupyterRenderable at 0x7f4820755d50>"
      ]
     },
     "metadata": {},
     "output_type": "display_data"
    },
    {
     "data": {
      "text/html": [
       "<pre style=\"white-space:pre;overflow-x:auto;line-height:normal;font-family:Menlo,'DejaVu Sans Mono',consolas,'Courier New',monospace\"><span style=\"color: #7fbfbf\">           </span><span style=\"color: #000080\">INFO</span>     FL-Plan hash is <span style=\"color: #000080\">3d3aace0bfd76cbb5309f4f2301b673d487a3162b1fd7624f3d1f3b51e495b6e618eb1a2f12530555e57029cce44eec3</span>                 <a href=\"file:///home/merkulov/openfl/openfl/federated/plan/plan.py\"><span style=\"color: #7f7f7f\">plan.py</span></a><span style=\"color: #7f7f7f\">:232</span>\n",
       "</pre>\n"
      ],
      "text/plain": [
       "<rich.jupyter.JupyterRenderable at 0x7f482806dad0>"
      ]
     },
     "metadata": {},
     "output_type": "display_data"
    },
    {
     "data": {
      "text/html": [
       "<pre style=\"white-space:pre;overflow-x:auto;line-height:normal;font-family:Menlo,'DejaVu Sans Mono',consolas,'Courier New',monospace\"><span style=\"color: #7fbfbf\">           </span><span style=\"color: #000080\">INFO</span>     FL-Plan hash is <span style=\"color: #000080\">3d3aace0bfd76cbb5309f4f2301b673d487a3162b1fd7624f3d1f3b51e495b6e618eb1a2f12530555e57029cce44eec3</span>                 <a href=\"file:///home/merkulov/openfl/openfl/federated/plan/plan.py\"><span style=\"color: #7f7f7f\">plan.py</span></a><span style=\"color: #7f7f7f\">:232</span>\n",
       "</pre>\n"
      ],
      "text/plain": [
       "<rich.jupyter.JupyterRenderable at 0x7f4820720810>"
      ]
     },
     "metadata": {},
     "output_type": "display_data"
    },
    {
     "data": {
      "text/html": [
       "<pre style=\"white-space:pre;overflow-x:auto;line-height:normal;font-family:Menlo,'DejaVu Sans Mono',consolas,'Courier New',monospace\"><span style=\"color: #7fbfbf\">           </span><span style=\"color: #000080\">INFO</span>     Building <span style=\"color: #800000\">🡆</span> Object <span style=\"color: #800000\">CoreTaskRunner</span> from <span style=\"color: #800000\">openfl.federated.task.task_runner</span> Module.                                                  <a href=\"file:///home/merkulov/openfl/openfl/federated/plan/plan.py\"><span style=\"color: #7f7f7f\">plan.py</span></a><span style=\"color: #7f7f7f\">:172</span>\n",
       "</pre>\n"
      ],
      "text/plain": [
       "<rich.jupyter.JupyterRenderable at 0x7f4820720910>"
      ]
     },
     "metadata": {},
     "output_type": "display_data"
    },
    {
     "data": {
      "text/html": [
       "<pre style=\"white-space:pre;overflow-x:auto;line-height:normal;font-family:Menlo,'DejaVu Sans Mono',consolas,'Courier New',monospace\"><span style=\"color: #7fbfbf\">           </span><span style=\"color: #000080\">INFO</span>     Settings <span style=\"color: #800000\">🡆</span> <span style=\"font-weight: bold\">{}</span>                                                                                                                    <a href=\"file:///home/merkulov/openfl/openfl/federated/plan/plan.py\"><span style=\"color: #7f7f7f\">plan.py</span></a><span style=\"color: #7f7f7f\">:174</span>\n",
       "</pre>\n"
      ],
      "text/plain": [
       "<rich.jupyter.JupyterRenderable at 0x7f4820720850>"
      ]
     },
     "metadata": {},
     "output_type": "display_data"
    },
    {
     "data": {
      "text/html": [
       "<pre style=\"white-space:pre;overflow-x:auto;line-height:normal;font-family:Menlo,'DejaVu Sans Mono',consolas,'Courier New',monospace\"><span style=\"color: #7fbfbf\">           </span><span style=\"color: #000080\">INFO</span>     Override <span style=\"color: #800000\">🡆</span> <span style=\"font-weight: bold\">{</span><span style=\"color: #008000\">'required_plugin_components'</span>: <span style=\"font-weight: bold\">{</span><span style=\"color: #008000\">'framework_adapters'</span>:                                                                 <a href=\"file:///home/merkulov/openfl/openfl/federated/plan/plan.py\"><span style=\"color: #7f7f7f\">plan.py</span></a><span style=\"color: #7f7f7f\">:176</span>\n",
       "                    <span style=\"color: #008000\">'openfl.plugins.frameworks_adapters.keras_adapter.FrameworkAdapterPlugin'</span><span style=\"font-weight: bold\">}}</span>                                                                 \n",
       "</pre>\n"
      ],
      "text/plain": [
       "<rich.jupyter.JupyterRenderable at 0x7f4820720950>"
      ]
     },
     "metadata": {},
     "output_type": "display_data"
    },
    {
     "data": {
      "text/html": [
       "<pre style=\"white-space:pre;overflow-x:auto;line-height:normal;font-family:Menlo,'DejaVu Sans Mono',consolas,'Courier New',monospace\"><span style=\"color: #7fbfbf\">           </span><span style=\"color: #000080\">INFO</span>     Building <span style=\"color: #800000\">🡆</span> Object <span style=\"color: #800000\">FrameworkAdapterPlugin</span> from <span style=\"color: #800000\">openfl.plugins.frameworks_adapters.keras_adapter</span> Module.                           <a href=\"file:///home/merkulov/openfl/openfl/federated/plan/plan.py\"><span style=\"color: #7f7f7f\">plan.py</span></a><span style=\"color: #7f7f7f\">:172</span>\n",
       "</pre>\n"
      ],
      "text/plain": [
       "<rich.jupyter.JupyterRenderable at 0x7f4820755c50>"
      ]
     },
     "metadata": {},
     "output_type": "display_data"
    },
    {
     "data": {
      "text/html": [
       "<pre style=\"white-space:pre;overflow-x:auto;line-height:normal;font-family:Menlo,'DejaVu Sans Mono',consolas,'Courier New',monospace\"><span style=\"color: #7fbfbf\">           </span><span style=\"color: #000080\">INFO</span>     Settings <span style=\"color: #800000\">🡆</span> <span style=\"font-weight: bold\">{}</span>                                                                                                                    <a href=\"file:///home/merkulov/openfl/openfl/federated/plan/plan.py\"><span style=\"color: #7f7f7f\">plan.py</span></a><span style=\"color: #7f7f7f\">:174</span>\n",
       "</pre>\n"
      ],
      "text/plain": [
       "<rich.jupyter.JupyterRenderable at 0x7f48207200d0>"
      ]
     },
     "metadata": {},
     "output_type": "display_data"
    },
    {
     "data": {
      "text/html": [
       "<pre style=\"white-space:pre;overflow-x:auto;line-height:normal;font-family:Menlo,'DejaVu Sans Mono',consolas,'Courier New',monospace\"><span style=\"color: #7fbfbf\">           </span><span style=\"color: #000080\">INFO</span>     Override <span style=\"color: #800000\">🡆</span> <span style=\"font-weight: bold\">{}</span>                                                                                                                    <a href=\"file:///home/merkulov/openfl/openfl/federated/plan/plan.py\"><span style=\"color: #7f7f7f\">plan.py</span></a><span style=\"color: #7f7f7f\">:176</span>\n",
       "</pre>\n"
      ],
      "text/plain": [
       "<rich.jupyter.JupyterRenderable at 0x7f48207749d0>"
      ]
     },
     "metadata": {},
     "output_type": "display_data"
    },
    {
     "data": {
      "text/html": [
       "<pre style=\"white-space:pre;overflow-x:auto;line-height:normal;font-family:Menlo,'DejaVu Sans Mono',consolas,'Courier New',monospace\"><span style=\"color: #7fbfbf\">           </span><span style=\"color: #800000\">WARNING</span>  tried to remove tensor: __opt_state_needed not present in the tensor dict                                                       <a href=\"file:///home/merkulov/openfl/openfl/utilities/utils.py\"><span style=\"color: #7f7f7f\">utils.py</span></a><span style=\"color: #7f7f7f\">:131</span>\n",
       "</pre>\n"
      ],
      "text/plain": [
       "<rich.jupyter.JupyterRenderable at 0x7f4820774f50>"
      ]
     },
     "metadata": {},
     "output_type": "display_data"
    },
    {
     "data": {
      "text/html": [
       "<pre style=\"white-space:pre;overflow-x:auto;line-height:normal;font-family:Menlo,'DejaVu Sans Mono',consolas,'Courier New',monospace\"><span style=\"color: #7fbfbf\">           </span><span style=\"color: #800000\">WARNING</span>  tried to remove tensor: __opt_state_needed not present in the tensor dict                                                       <a href=\"file:///home/merkulov/openfl/openfl/utilities/utils.py\"><span style=\"color: #7f7f7f\">utils.py</span></a><span style=\"color: #7f7f7f\">:131</span>\n",
       "</pre>\n"
      ],
      "text/plain": [
       "<rich.jupyter.JupyterRenderable at 0x7f4820774f50>"
      ]
     },
     "metadata": {},
     "output_type": "display_data"
    },
    {
     "data": {
      "text/html": [
       "<pre style=\"white-space:pre;overflow-x:auto;line-height:normal;font-family:Menlo,'DejaVu Sans Mono',consolas,'Courier New',monospace\"><span style=\"color: #7fbfbf\">           </span><span style=\"color: #000080\">INFO</span>     SetNewExperiment                                                                                                      <a href=\"file:///home/merkulov/openfl/openfl/transport/grpc/director_client.py\"><span style=\"color: #7f7f7f\">director_client.py</span></a><span style=\"color: #7f7f7f\">:152</span>\n",
       "</pre>\n"
      ],
      "text/plain": [
       "<rich.jupyter.JupyterRenderable at 0x7f4820774350>"
      ]
     },
     "metadata": {},
     "output_type": "display_data"
    },
    {
     "ename": "AttributeError",
     "evalue": "'NoneType' object has no attribute 'accepted'",
     "output_type": "error",
     "traceback": [
      "\u001b[0;31m---------------------------------------------------------------------------\u001b[0m",
      "\u001b[0;31mAttributeError\u001b[0m                            Traceback (most recent call last)",
      "\u001b[0;32m/tmp/ipykernel_602298/1603240789.py\u001b[0m in \u001b[0;36m<module>\u001b[0;34m\u001b[0m\n\u001b[1;32m      6\u001b[0m                     \u001b[0mdata_loader\u001b[0m\u001b[0;34m=\u001b[0m\u001b[0mfed_dataset\u001b[0m\u001b[0;34m,\u001b[0m\u001b[0;34m\u001b[0m\u001b[0;34m\u001b[0m\u001b[0m\n\u001b[1;32m      7\u001b[0m                     \u001b[0mrounds_to_train\u001b[0m\u001b[0;34m=\u001b[0m\u001b[0;36m2\u001b[0m\u001b[0;34m,\u001b[0m\u001b[0;34m\u001b[0m\u001b[0;34m\u001b[0m\u001b[0m\n\u001b[0;32m----> 8\u001b[0;31m                     opt_treatment='RESET')\n\u001b[0m",
      "\u001b[0;32m~/openfl/openfl/interface/interactive_api/experiment.py\u001b[0m in \u001b[0;36mstart\u001b[0;34m(self, model_provider, task_keeper, data_loader, rounds_to_train, delta_updates, opt_treatment)\u001b[0m\n\u001b[1;32m    166\u001b[0m             \u001b[0mself\u001b[0m\u001b[0;34m.\u001b[0m\u001b[0mremove_workspace_archive\u001b[0m\u001b[0;34m(\u001b[0m\u001b[0;34m)\u001b[0m\u001b[0;34m\u001b[0m\u001b[0;34m\u001b[0m\u001b[0m\n\u001b[1;32m    167\u001b[0m \u001b[0;34m\u001b[0m\u001b[0m\n\u001b[0;32m--> 168\u001b[0;31m         \u001b[0;32mif\u001b[0m \u001b[0mresponse\u001b[0m\u001b[0;34m.\u001b[0m\u001b[0maccepted\u001b[0m\u001b[0;34m:\u001b[0m\u001b[0;34m\u001b[0m\u001b[0;34m\u001b[0m\u001b[0m\n\u001b[0m\u001b[1;32m    169\u001b[0m             \u001b[0mself\u001b[0m\u001b[0;34m.\u001b[0m\u001b[0mlogger\u001b[0m\u001b[0;34m.\u001b[0m\u001b[0minfo\u001b[0m\u001b[0;34m(\u001b[0m\u001b[0;34m'Experiment was accepted and launched.'\u001b[0m\u001b[0;34m)\u001b[0m\u001b[0;34m\u001b[0m\u001b[0;34m\u001b[0m\u001b[0m\n\u001b[1;32m    170\u001b[0m             \u001b[0mself\u001b[0m\u001b[0;34m.\u001b[0m\u001b[0mexperiment_accepted\u001b[0m \u001b[0;34m=\u001b[0m \u001b[0;32mTrue\u001b[0m\u001b[0;34m\u001b[0m\u001b[0;34m\u001b[0m\u001b[0m\n",
      "\u001b[0;31mAttributeError\u001b[0m: 'NoneType' object has no attribute 'accepted'"
     ]
    }
   ],
   "source": [
    "# If I use autoreload I got a pickling error\n",
    "\n",
    "# The following command zips the workspace and python requirements to be transfered to collaborator nodes\n",
    "fl_experiment.start(model_provider=MI, \n",
    "                    task_keeper=TI,\n",
    "                    data_loader=fed_dataset,\n",
    "                    rounds_to_train=2,\n",
    "                    opt_treatment='RESET')"
   ]
  },
  {
   "cell_type": "code",
   "execution_count": null,
   "id": "bfc4f89c",
   "metadata": {},
   "outputs": [],
   "source": [
    "# If user want to stop IPython session, then reconnect and check how experiment is going \n",
    "# fl_experiment.restore_experiment_state(MI)\n",
    "\n",
    "fl_experiment.stream_metrics()"
   ]
  },
  {
   "cell_type": "code",
   "execution_count": null,
   "id": "0ca51d7e",
   "metadata": {
    "pycharm": {
     "name": "#%%\n"
    }
   },
   "outputs": [],
   "source": [
    "# todo: add testing on metamorphosis"
   ]
  }
 ],
 "metadata": {
  "kernelspec": {
   "display_name": "Python 3 (ipykernel)",
   "language": "python",
   "name": "python3"
  },
  "language_info": {
   "codemirror_mode": {
    "name": "ipython",
    "version": 3
   },
   "file_extension": ".py",
   "mimetype": "text/x-python",
   "name": "python",
   "nbconvert_exporter": "python",
   "pygments_lexer": "ipython3",
   "version": "3.7.9"
  }
 },
 "nbformat": 4,
 "nbformat_minor": 5
}
