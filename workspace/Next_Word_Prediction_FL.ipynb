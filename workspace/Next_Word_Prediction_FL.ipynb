{
 "cells": [
  {
   "cell_type": "markdown",
   "id": "liquid-jacket",
   "metadata": {},
   "source": [
    "# Federated Next Word Prediction with Director example\n",
    "## Using low-level Python API"
   ]
  },
  {
   "cell_type": "code",
   "execution_count": 1,
   "id": "db949008",
   "metadata": {
    "pycharm": {
     "name": "#%%\n"
    }
   },
   "outputs": [],
   "source": [
    "# Install dependencies if not already installed\n",
    "# !pip install tensorflow==2.5.1"
   ]
  },
  {
   "cell_type": "markdown",
   "id": "16986f22",
   "metadata": {},
   "source": [
    "# Connect to the Federation"
   ]
  },
  {
   "cell_type": "code",
   "execution_count": 1,
   "id": "a667294c",
   "metadata": {},
   "outputs": [],
   "source": [
    "# Create a federation\n",
    "from openfl.interface.interactive_api.federation import Federation\n",
    "\n",
    "# please use the same identificator that was used in signed certificate\n",
    "cliend_id = 'frontend'\n",
    "\n",
    "# 1) Run with API layer - Director mTLS \n",
    "# If the user wants to enable mTLS their must provide CA root chain, and signed key pair to the federation interface\n",
    "# cert_chain = 'cert/root_ca.crt'\n",
    "# API_certificate = 'cert/frontend.crt'\n",
    "# API_private_key = 'cert/frontend.key'\n",
    "\n",
    "# federation = Federation(client_id='frontend', director_node_fqdn='localhost', director_port='50051', disable_tls=False,\n",
    "#                        cert_chain=cert_chain, api_cert=API_certificate, api_private_key=API_private_key)\n",
    "\n",
    "# --------------------------------------------------------------------------------------------------------------------\n",
    "\n",
    "# 2) Run with TLS disabled (trusted environment)\n",
    "# Federation can also determine local fqdn automatically\n",
    "federation = Federation(client_id='frontend', director_node_fqdn='localhost', director_port='50051', tls=False)"
   ]
  },
  {
   "cell_type": "code",
   "execution_count": 2,
   "id": "e35802d5",
   "metadata": {
    "scrolled": true
   },
   "outputs": [
    {
     "data": {
      "text/plain": [
       "{'env_one': {'shard_info': node_info {\n",
       "    name: \"env_one\"\n",
       "  }\n",
       "  shard_description: \"Dataset from The Whisperer in Darkness by H. P. Lovecraft\"\n",
       "  n_samples: 22492\n",
       "  sample_shape: \"3\"\n",
       "  sample_shape: \"96\"\n",
       "  target_shape: \"48904\",\n",
       "  'is_online': True,\n",
       "  'is_experiment_running': False,\n",
       "  'last_updated': '2021-09-02 18:02:15',\n",
       "  'current_time': '2021-09-02 18:02:55',\n",
       "  'valid_duration': seconds: 120}}"
      ]
     },
     "execution_count": 2,
     "metadata": {},
     "output_type": "execute_result"
    }
   ],
   "source": [
    "shard_registry = federation.get_shard_registry()\n",
    "shard_registry"
   ]
  },
  {
   "cell_type": "code",
   "execution_count": 3,
   "id": "67ae50de",
   "metadata": {},
   "outputs": [
    {
     "data": {
      "text/plain": [
       "['48904']"
      ]
     },
     "execution_count": 3,
     "metadata": {},
     "output_type": "execute_result"
    }
   ],
   "source": [
    "federation.target_shape"
   ]
  },
  {
   "cell_type": "code",
   "execution_count": 4,
   "id": "b42efc49",
   "metadata": {},
   "outputs": [],
   "source": [
    "# First, request a dummy_shard_desc that holds information about the federated dataset \n",
    "dummy_shard_desc = federation.get_dummy_shard_descriptor(size=10)\n",
    "sample, target = dummy_shard_desc[0]"
   ]
  },
  {
   "cell_type": "markdown",
   "id": "obvious-tyler",
   "metadata": {},
   "source": [
    "## Creating a FL experiment using Interactive API"
   ]
  },
  {
   "cell_type": "code",
   "execution_count": 5,
   "id": "rubber-address",
   "metadata": {},
   "outputs": [
    {
     "name": "stderr",
     "output_type": "stream",
     "text": [
      "2021-09-02 18:02:59.041885: I tensorflow/stream_executor/platform/default/dso_loader.cc:53] Successfully opened dynamic library libcudart.so.11.0\n"
     ]
    }
   ],
   "source": [
    "from openfl.interface.interactive_api.experiment import TaskInterface, DataInterface, ModelInterface, FLExperiment"
   ]
  },
  {
   "cell_type": "markdown",
   "id": "sustainable-public",
   "metadata": {},
   "source": [
    "### Register dataset"
   ]
  },
  {
   "cell_type": "code",
   "execution_count": 6,
   "id": "64f37dcf",
   "metadata": {
    "scrolled": true
   },
   "outputs": [],
   "source": [
    "from tensorflow.keras.utils import Sequence\n",
    "\n",
    "class DataGenerator(Sequence):\n",
    "\n",
    "    def __init__(self, shard_descriptor, indices, batch_size):\n",
    "        self.shard_descriptor = shard_descriptor\n",
    "        self.batch_size = batch_size\n",
    "        self.indices = indices\n",
    "        self.on_epoch_end()\n",
    "\n",
    "    def __len__(self):\n",
    "        return len(self.indices) // self.batch_size\n",
    "\n",
    "    def __getitem__(self, index):\n",
    "        index = self.index[index * self.batch_size:(index + 1) * self.batch_size]\n",
    "        batch = [self.indices[k] for k in index]\n",
    "\n",
    "        X, y = self.shard_descriptor[batch]\n",
    "        return X, y\n",
    "\n",
    "    def on_epoch_end(self):\n",
    "        self.index = np.arange(len(self.indices))\n",
    "\n",
    "\n",
    "# Now you can implement you data loaders using dummy_shard_desc\n",
    "class NextWordSD(DataInterface):\n",
    "\n",
    "    def __init__(self, **kwargs):\n",
    "        super().__init__(**kwargs)\n",
    "\n",
    "    @property\n",
    "    def shard_descriptor(self):\n",
    "        return self._shard_descriptor\n",
    "\n",
    "    @shard_descriptor.setter\n",
    "    def shard_descriptor(self, shard_descriptor):\n",
    "        \"\"\"\n",
    "        Describe per-collaborator procedures or sharding.\n",
    "\n",
    "        This method will be called during a collaborator initialization.\n",
    "        Local shard_descriptor will be set by Envoy.\n",
    "        \"\"\"\n",
    "        self._shard_descriptor = shard_descriptor\n",
    "\n",
    "        train = round(len(self) * 0.8)\n",
    "        self.train_indeces = list(range(1, train))\n",
    "        self.valid_indeces = list(range(train, len(self)))\n",
    "\n",
    "    def __getitem__(self, index):\n",
    "        return self.shard_descriptor[index]\n",
    "\n",
    "    def __len__(self):\n",
    "        return len(self.shard_descriptor)\n",
    "\n",
    "    def get_train_loader(self):\n",
    "        \"\"\"\n",
    "        Output of this method will be provided to tasks with optimizer in contract\n",
    "        \"\"\"\n",
    "        if self.kwargs['train_bs']:\n",
    "            batch_size = self.kwargs['train_bs']\n",
    "        else:\n",
    "            batch_size = 64\n",
    "\n",
    "        return DataGenerator(self.shard_descriptor, self.train_indeces, batch_size=batch_size)\n",
    "\n",
    "    def get_valid_loader(self):\n",
    "        \"\"\"\n",
    "        Output of this method will be provided to tasks without optimizer in contract\n",
    "        \"\"\"\n",
    "        if self.kwargs['valid_bs']:\n",
    "            batch_size = self.kwargs['valid_bs']\n",
    "        else:\n",
    "            batch_size = 512\n",
    "\n",
    "        return DataGenerator(self.shard_descriptor, self.valid_indeces, batch_size=batch_size)\n",
    "\n",
    "    def get_train_data_size(self):\n",
    "        \"\"\"\n",
    "        Information for aggregation\n",
    "        \"\"\"\n",
    "        return len(self.train_indeces)\n",
    "\n",
    "    def get_valid_data_size(self):\n",
    "        \"\"\"\n",
    "        Information for aggregation\n",
    "        \"\"\"\n",
    "        return len(self.valid_indeces)\n"
   ]
  },
  {
   "cell_type": "markdown",
   "id": "caring-distinction",
   "metadata": {},
   "source": [
    "### Describe a model and optimizer"
   ]
  },
  {
   "cell_type": "code",
   "execution_count": null,
   "id": "fa95c7c7",
   "metadata": {
    "pycharm": {
     "name": "#%%\n"
    }
   },
   "outputs": [],
   "source": [
    "# import tensorflow as tf\n",
    "# from tensorflow.keras.layers import LSTM, Dense\n",
    "# from tensorflow.keras.optimizers import Adam\n",
    "\n",
    "\n",
    "# class Model(tf.keras.Model):\n",
    "#     \"\"\"Model definition.\"\"\"\n",
    "\n",
    "#     def __init__(self, **kwargs):\n",
    "#         super().__init__()\n",
    "\n",
    "#         vocab_size = 48904\n",
    "#         self.lstm1 = LSTM(1000, return_sequences=True)\n",
    "#         self.lstm2 = LSTM(1000)\n",
    "#         self.d1 = Dense(1000, activation='tanh')\n",
    "#         self.d2 = Dense(vocab_size, activation='softmax')\n",
    "\n",
    "#     def call(self, x):\n",
    "#         x = self.lstm1(x)\n",
    "#         x = self.lstm2(x)\n",
    "#         x = self.d1(x)\n",
    "#         x = self.d2(x)\n",
    "#         return x\n",
    "    \n",
    "#     def get_config(self):\n",
    "#         config = dict({'name': self.name})\n",
    "#         config['layers'] = [\n",
    "#             {'class_name': layer.__class__.__name__,\n",
    "#              'config': layer.get_config()} \n",
    "#             for layer in model._self_tracked_trackables\n",
    "#         ]\n",
    "\n",
    "#         return config\n",
    "\n",
    "# # Construct an instance of Model\n",
    "# model = Model()\n",
    "# optimizer = Adam(learning_rate=0.001)\n",
    "# model.compile(loss='categorical_crossentropy', optimizer=optimizer,\n",
    "#               metrics=[tf.keras.metrics.CategoricalAccuracy()])\n",
    "# batch_size = 64\n",
    "# model.build(input_shape=[batch_size, 3, 96])"
   ]
  },
  {
   "cell_type": "code",
   "execution_count": 8,
   "id": "5c5b221d",
   "metadata": {},
   "outputs": [],
   "source": [
    "import tensorflow as tf\n",
    "from tensorflow.keras.layers import Masking, LSTM, Dense\n",
    "from tensorflow.keras.models import Sequential\n",
    "from tensorflow.keras.optimizers import Adam\n",
    "from tensorflow.keras.metrics import CategoricalAccuracy\n",
    "from tensorflow.keras.losses import CategoricalCrossentropy\n",
    "\n",
    "gpu_devices = tf.config.experimental.list_physical_devices(\"GPU\")\n",
    "for device in gpu_devices:\n",
    "    tf.config.experimental.set_memory_growth(device, True)\n",
    "\n",
    "model = Sequential()\n",
    "model.add(Masking(mask_value=0))\n",
    "# model.add(LSTM(1000, return_sequences=True))\n",
    "model.add(LSTM(20))\n",
    "model.add(Dense(50, activation='tanh'))\n",
    "model.add(Dense(48904, activation='softmax'))\n",
    "\n",
    "optimizer = Adam(learning_rate=0.001)\n",
    "loss_fn = CategoricalCrossentropy()\n",
    "train_acc_metric = CategoricalAccuracy()\n",
    "val_acc_metric = CategoricalAccuracy()\n",
    "\n",
    "batch_size = 64\n",
    "model.build(input_shape=[64, 3, 96])"
   ]
  },
  {
   "cell_type": "code",
   "execution_count": 9,
   "id": "8cb6c73c",
   "metadata": {},
   "outputs": [],
   "source": [
    "fed_dataset = NextWordSD(train_bs=64, valid_bs=512)"
   ]
  },
  {
   "cell_type": "markdown",
   "id": "portuguese-groove",
   "metadata": {},
   "source": [
    "### Define and register FL tasks"
   ]
  },
  {
   "cell_type": "code",
   "execution_count": 10,
   "id": "increasing-builder",
   "metadata": {},
   "outputs": [],
   "source": [
    "TI = TaskInterface()\n",
    "\n",
    "# https://www.tensorflow.org/guide/keras/customizing_what_happens_in_fit\n",
    "@TI.register_fl_task(model='model', data_loader='train_loader', device='device', optimizer='optimizer')\n",
    "def train(model, train_loader, device, optimizer, loss_fn=loss_fn):\n",
    "#     if tf.test.is_gpu_available():\n",
    "#         device = tf.device('/gpu:0')\n",
    "#     else:\n",
    "#         device = tf.device('/cpu:0')\n",
    "\n",
    "#     with device:\n",
    "    # Iterate over the batches of the dataset.\n",
    "    for step, (x_batch_train, y_batch_train) in enumerate(train_loader):\n",
    "#         train_loader = tqdm.tqdm(train_loader, desc='train')\n",
    "\n",
    "        y = tf.convert_to_tensor(y_batch_train)\n",
    "        with tf.GradientTape() as tape:\n",
    "            y_pred = model(x_batch_train, training=True)  # Forward pass\n",
    "            # Compute the loss value\n",
    "            # (the loss function is configured in `compile()`)\n",
    "            loss = loss_fn(y, y_pred)\n",
    "\n",
    "        # Compute gradients\n",
    "        trainable_vars = model.trainable_variables\n",
    "        gradients = tape.gradient(loss, trainable_vars)\n",
    "\n",
    "        # Update weights\n",
    "        optimizer.apply_gradients(zip(gradients, trainable_vars))\n",
    "\n",
    "        # Update metrics\n",
    "        train_acc_metric.update_state(y, y_pred)\n",
    "    \n",
    "    # Reset training metrics at the end of each epoch\n",
    "    train_acc = train_acc_metric.result()\n",
    "    train_acc_metric.reset_states()\n",
    "    return {'train_acc': train_acc, 'loss': loss}\n",
    "\n",
    "\n",
    "@TI.register_fl_task(model='model', data_loader='val_loader', device='device')\n",
    "def validate(model, val_loader, device=''):\n",
    "#     if tf.test.is_gpu_available():\n",
    "#         device = tf.device('/gpu:0')\n",
    "#     else:\n",
    "#         device = tf.device('/cpu:0')\n",
    "\n",
    "#     with device:\n",
    "    for x_batch_val, y_batch_val in val_loader:\n",
    "#         val_loader = tqdm.tqdm(val_loader, desc='validate')\n",
    "        y = tf.convert_to_tensor(y_batch_val)\n",
    "        # Compute predictions\n",
    "        y_pred = model(x_batch_val, training=False)\n",
    "        # Update the metrics.\n",
    "        val_acc_metric.update_state(y, y_pred)\n",
    "    val_acc = val_acc_metric.result()\n",
    "    val_acc_metric.reset_states()\n",
    "    return {'validation_accuracy': val_acc}"
   ]
  },
  {
   "cell_type": "markdown",
   "id": "caroline-passion",
   "metadata": {},
   "source": [
    "#### Register model"
   ]
  },
  {
   "cell_type": "code",
   "execution_count": 11,
   "id": "5ddb356e",
   "metadata": {},
   "outputs": [],
   "source": [
    "from copy import deepcopy\n",
    "\n",
    "framework_adapter = 'openfl.plugins.frameworks_adapters.keras_adapter.FrameworkAdapterPlugin'\n",
    "MI = ModelInterface(model=model, optimizer=optimizer, framework_plugin=framework_adapter)\n",
    "# Save the initial model state\n",
    "initial_model = deepcopy(model)"
   ]
  },
  {
   "cell_type": "markdown",
   "id": "derived-bride",
   "metadata": {},
   "source": [
    "## Time to start a federated learning experiment"
   ]
  },
  {
   "cell_type": "code",
   "execution_count": 12,
   "id": "mature-renewal",
   "metadata": {},
   "outputs": [],
   "source": [
    "# create an experimnet in federation\n",
    "experiment_name = 'word_prediction_test_experiment'\n",
    "fl_experiment = FLExperiment(federation=federation, experiment_name=experiment_name)"
   ]
  },
  {
   "cell_type": "code",
   "execution_count": 16,
   "id": "lightweight-causing",
   "metadata": {
    "scrolled": false
   },
   "outputs": [
    {
     "data": {
      "text/html": [
       "<pre style=\"white-space:pre;overflow-x:auto;line-height:normal;font-family:Menlo,'DejaVu Sans Mono',consolas,'Courier New',monospace\"><span style=\"color: #7fbfbf\">[18:06:54] </span><span style=\"color: #000080\">INFO</span>     Building <span style=\"color: #800000\">🡆</span> Object <span style=\"color: #800000\">CloudpickleSerializer</span> from <span style=\"color: #800000\">openfl.plugins.interface_serializer.cloudpickle_serializer</span> Module.                  <a href=\"file:///home/merkkerk/openfl/openfl/federated/plan/plan.py\"><span style=\"color: #7f7f7f\">plan.py</span></a><span style=\"color: #7f7f7f\">:172</span>\n",
       "</pre>\n"
      ],
      "text/plain": [
       "<rich.jupyter.JupyterRenderable at 0x7fd176e78610>"
      ]
     },
     "metadata": {},
     "output_type": "display_data"
    },
    {
     "data": {
      "text/html": [
       "<pre style=\"white-space:pre;overflow-x:auto;line-height:normal;font-family:Menlo,'DejaVu Sans Mono',consolas,'Courier New',monospace\"><span style=\"color: #7fbfbf\">           </span><span style=\"color: #000080\">INFO</span>     Settings <span style=\"color: #800000\">🡆</span> <span style=\"font-weight: bold\">{}</span>                                                                                                                    <a href=\"file:///home/merkkerk/openfl/openfl/federated/plan/plan.py\"><span style=\"color: #7f7f7f\">plan.py</span></a><span style=\"color: #7f7f7f\">:174</span>\n",
       "</pre>\n"
      ],
      "text/plain": [
       "<rich.jupyter.JupyterRenderable at 0x7fd1001419d0>"
      ]
     },
     "metadata": {},
     "output_type": "display_data"
    },
    {
     "data": {
      "text/html": [
       "<pre style=\"white-space:pre;overflow-x:auto;line-height:normal;font-family:Menlo,'DejaVu Sans Mono',consolas,'Courier New',monospace\"><span style=\"color: #7fbfbf\">           </span><span style=\"color: #000080\">INFO</span>     Override <span style=\"color: #800000\">🡆</span> <span style=\"font-weight: bold\">{}</span>                                                                                                                    <a href=\"file:///home/merkkerk/openfl/openfl/federated/plan/plan.py\"><span style=\"color: #7f7f7f\">plan.py</span></a><span style=\"color: #7f7f7f\">:176</span>\n",
       "</pre>\n"
      ],
      "text/plain": [
       "<rich.jupyter.JupyterRenderable at 0x7fd1001419d0>"
      ]
     },
     "metadata": {},
     "output_type": "display_data"
    },
    {
     "data": {
      "text/html": [
       "<pre style=\"white-space:pre;overflow-x:auto;line-height:normal;font-family:Menlo,'DejaVu Sans Mono',consolas,'Courier New',monospace\"><span style=\"color: #7fbfbf\">           </span><span style=\"color: #000080\">INFO</span>     Building <span style=\"color: #800000\">🡆</span> Object <span style=\"color: #800000\">FrameworkAdapterPlugin</span> from <span style=\"color: #800000\">openfl.plugins.frameworks_adapters.keras_adapter</span> Module.                           <a href=\"file:///home/merkkerk/openfl/openfl/federated/plan/plan.py\"><span style=\"color: #7f7f7f\">plan.py</span></a><span style=\"color: #7f7f7f\">:172</span>\n",
       "</pre>\n"
      ],
      "text/plain": [
       "<rich.jupyter.JupyterRenderable at 0x7fd0c870d6d0>"
      ]
     },
     "metadata": {},
     "output_type": "display_data"
    },
    {
     "data": {
      "text/html": [
       "<pre style=\"white-space:pre;overflow-x:auto;line-height:normal;font-family:Menlo,'DejaVu Sans Mono',consolas,'Courier New',monospace\"><span style=\"color: #7fbfbf\">           </span><span style=\"color: #000080\">INFO</span>     Settings <span style=\"color: #800000\">🡆</span> <span style=\"font-weight: bold\">{}</span>                                                                                                                    <a href=\"file:///home/merkkerk/openfl/openfl/federated/plan/plan.py\"><span style=\"color: #7f7f7f\">plan.py</span></a><span style=\"color: #7f7f7f\">:174</span>\n",
       "</pre>\n"
      ],
      "text/plain": [
       "<rich.jupyter.JupyterRenderable at 0x7fd0c870d6d0>"
      ]
     },
     "metadata": {},
     "output_type": "display_data"
    },
    {
     "data": {
      "text/html": [
       "<pre style=\"white-space:pre;overflow-x:auto;line-height:normal;font-family:Menlo,'DejaVu Sans Mono',consolas,'Courier New',monospace\"><span style=\"color: #7fbfbf\">           </span><span style=\"color: #000080\">INFO</span>     Override <span style=\"color: #800000\">🡆</span> <span style=\"font-weight: bold\">{}</span>                                                                                                                    <a href=\"file:///home/merkkerk/openfl/openfl/federated/plan/plan.py\"><span style=\"color: #7f7f7f\">plan.py</span></a><span style=\"color: #7f7f7f\">:176</span>\n",
       "</pre>\n"
      ],
      "text/plain": [
       "<rich.jupyter.JupyterRenderable at 0x7fd0c870d3d0>"
      ]
     },
     "metadata": {},
     "output_type": "display_data"
    },
    {
     "data": {
      "text/html": [
       "<pre style=\"white-space:pre;overflow-x:auto;line-height:normal;font-family:Menlo,'DejaVu Sans Mono',consolas,'Courier New',monospace\"><span style=\"color: #7fbfbf\">[18:07:19] </span><span style=\"color: #000080\">INFO</span>     Starting experiment!                                                                                                       <a href=\"file:///home/merkkerk/openfl/openfl/interface/interactive_api/experiment.py\"><span style=\"color: #7f7f7f\">experiment.py</span></a><span style=\"color: #7f7f7f\">:155</span>\n",
       "</pre>\n"
      ],
      "text/plain": [
       "<rich.jupyter.JupyterRenderable at 0x7fd0a85d1c90>"
      ]
     },
     "metadata": {},
     "output_type": "display_data"
    },
    {
     "data": {
      "text/html": [
       "<pre style=\"white-space:pre;overflow-x:auto;line-height:normal;font-family:Menlo,'DejaVu Sans Mono',consolas,'Courier New',monospace\"><span style=\"color: #7fbfbf\">           </span><span style=\"color: #000080\">INFO</span>     FL-Plan hash is <span style=\"color: #000080\">e2a462f4b1697f5c302cdb5f1c277ecc08e36653d2dc8f90315628e29b6e69d91227dec2244d8ee8cf5423b361c3a774</span>                 <a href=\"file:///home/merkkerk/openfl/openfl/federated/plan/plan.py\"><span style=\"color: #7f7f7f\">plan.py</span></a><span style=\"color: #7f7f7f\">:232</span>\n",
       "</pre>\n"
      ],
      "text/plain": [
       "<rich.jupyter.JupyterRenderable at 0x7fd0a85d1cd0>"
      ]
     },
     "metadata": {},
     "output_type": "display_data"
    },
    {
     "data": {
      "text/html": [
       "<pre style=\"white-space:pre;overflow-x:auto;line-height:normal;font-family:Menlo,'DejaVu Sans Mono',consolas,'Courier New',monospace\"><span style=\"color: #7fbfbf\">           </span><span style=\"color: #000080\">INFO</span>     FL-Plan hash is <span style=\"color: #000080\">e2a462f4b1697f5c302cdb5f1c277ecc08e36653d2dc8f90315628e29b6e69d91227dec2244d8ee8cf5423b361c3a774</span>                 <a href=\"file:///home/merkkerk/openfl/openfl/federated/plan/plan.py\"><span style=\"color: #7f7f7f\">plan.py</span></a><span style=\"color: #7f7f7f\">:232</span>\n",
       "</pre>\n"
      ],
      "text/plain": [
       "<rich.jupyter.JupyterRenderable at 0x7fd0a85d1cd0>"
      ]
     },
     "metadata": {},
     "output_type": "display_data"
    },
    {
     "data": {
      "text/html": [
       "<pre style=\"white-space:pre;overflow-x:auto;line-height:normal;font-family:Menlo,'DejaVu Sans Mono',consolas,'Courier New',monospace\"><span style=\"color: #7fbfbf\">           </span><span style=\"color: #000080\">INFO</span>     Building <span style=\"color: #800000\">🡆</span> Object <span style=\"color: #800000\">CoreTaskRunner</span> from <span style=\"color: #800000\">openfl.federated.task.task_runner</span> Module.                                                  <a href=\"file:///home/merkkerk/openfl/openfl/federated/plan/plan.py\"><span style=\"color: #7f7f7f\">plan.py</span></a><span style=\"color: #7f7f7f\">:172</span>\n",
       "</pre>\n"
      ],
      "text/plain": [
       "<rich.jupyter.JupyterRenderable at 0x7fd0a85d1bd0>"
      ]
     },
     "metadata": {},
     "output_type": "display_data"
    },
    {
     "data": {
      "text/html": [
       "<pre style=\"white-space:pre;overflow-x:auto;line-height:normal;font-family:Menlo,'DejaVu Sans Mono',consolas,'Courier New',monospace\"><span style=\"color: #7fbfbf\">           </span><span style=\"color: #000080\">INFO</span>     Settings <span style=\"color: #800000\">🡆</span> <span style=\"font-weight: bold\">{}</span>                                                                                                                    <a href=\"file:///home/merkkerk/openfl/openfl/federated/plan/plan.py\"><span style=\"color: #7f7f7f\">plan.py</span></a><span style=\"color: #7f7f7f\">:174</span>\n",
       "</pre>\n"
      ],
      "text/plain": [
       "<rich.jupyter.JupyterRenderable at 0x7fd0a85d1390>"
      ]
     },
     "metadata": {},
     "output_type": "display_data"
    },
    {
     "data": {
      "text/html": [
       "<pre style=\"white-space:pre;overflow-x:auto;line-height:normal;font-family:Menlo,'DejaVu Sans Mono',consolas,'Courier New',monospace\"><span style=\"color: #7fbfbf\">           </span><span style=\"color: #000080\">INFO</span>     Override <span style=\"color: #800000\">🡆</span> <span style=\"font-weight: bold\">{</span><span style=\"color: #008000\">'required_plugin_components'</span>: <span style=\"font-weight: bold\">{</span><span style=\"color: #008000\">'framework_adapters'</span>:                                                                 <a href=\"file:///home/merkkerk/openfl/openfl/federated/plan/plan.py\"><span style=\"color: #7f7f7f\">plan.py</span></a><span style=\"color: #7f7f7f\">:176</span>\n",
       "                    <span style=\"color: #008000\">'openfl.plugins.frameworks_adapters.keras_adapter.FrameworkAdapterPlugin'</span><span style=\"font-weight: bold\">}}</span>                                                                 \n",
       "</pre>\n"
      ],
      "text/plain": [
       "<rich.jupyter.JupyterRenderable at 0x7fd0a85d1950>"
      ]
     },
     "metadata": {},
     "output_type": "display_data"
    },
    {
     "data": {
      "text/html": [
       "<pre style=\"white-space:pre;overflow-x:auto;line-height:normal;font-family:Menlo,'DejaVu Sans Mono',consolas,'Courier New',monospace\"><span style=\"color: #7fbfbf\">           </span><span style=\"color: #000080\">INFO</span>     Building <span style=\"color: #800000\">🡆</span> Object <span style=\"color: #800000\">FrameworkAdapterPlugin</span> from <span style=\"color: #800000\">openfl.plugins.frameworks_adapters.keras_adapter</span> Module.                           <a href=\"file:///home/merkkerk/openfl/openfl/federated/plan/plan.py\"><span style=\"color: #7f7f7f\">plan.py</span></a><span style=\"color: #7f7f7f\">:172</span>\n",
       "</pre>\n"
      ],
      "text/plain": [
       "<rich.jupyter.JupyterRenderable at 0x7fd0c8696690>"
      ]
     },
     "metadata": {},
     "output_type": "display_data"
    },
    {
     "data": {
      "text/html": [
       "<pre style=\"white-space:pre;overflow-x:auto;line-height:normal;font-family:Menlo,'DejaVu Sans Mono',consolas,'Courier New',monospace\"><span style=\"color: #7fbfbf\">           </span><span style=\"color: #000080\">INFO</span>     Settings <span style=\"color: #800000\">🡆</span> <span style=\"font-weight: bold\">{}</span>                                                                                                                    <a href=\"file:///home/merkkerk/openfl/openfl/federated/plan/plan.py\"><span style=\"color: #7f7f7f\">plan.py</span></a><span style=\"color: #7f7f7f\">:174</span>\n",
       "</pre>\n"
      ],
      "text/plain": [
       "<rich.jupyter.JupyterRenderable at 0x7fd0a85eab50>"
      ]
     },
     "metadata": {},
     "output_type": "display_data"
    },
    {
     "data": {
      "text/html": [
       "<pre style=\"white-space:pre;overflow-x:auto;line-height:normal;font-family:Menlo,'DejaVu Sans Mono',consolas,'Courier New',monospace\"><span style=\"color: #7fbfbf\">           </span><span style=\"color: #000080\">INFO</span>     Override <span style=\"color: #800000\">🡆</span> <span style=\"font-weight: bold\">{}</span>                                                                                                                    <a href=\"file:///home/merkkerk/openfl/openfl/federated/plan/plan.py\"><span style=\"color: #7f7f7f\">plan.py</span></a><span style=\"color: #7f7f7f\">:176</span>\n",
       "</pre>\n"
      ],
      "text/plain": [
       "<rich.jupyter.JupyterRenderable at 0x7fd0a85eaa50>"
      ]
     },
     "metadata": {},
     "output_type": "display_data"
    },
    {
     "data": {
      "text/html": [
       "<pre style=\"white-space:pre;overflow-x:auto;line-height:normal;font-family:Menlo,'DejaVu Sans Mono',consolas,'Courier New',monospace\"><span style=\"color: #7fbfbf\">[18:07:20] </span><span style=\"color: #800000\">WARNING</span>  tried to remove tensor: __opt_state_needed not present in the tensor dict                                                       <a href=\"file:///home/merkkerk/openfl/openfl/utilities/utils.py\"><span style=\"color: #7f7f7f\">utils.py</span></a><span style=\"color: #7f7f7f\">:131</span>\n",
       "</pre>\n"
      ],
      "text/plain": [
       "<rich.jupyter.JupyterRenderable at 0x7fd0a85ea950>"
      ]
     },
     "metadata": {},
     "output_type": "display_data"
    },
    {
     "data": {
      "text/html": [
       "<pre style=\"white-space:pre;overflow-x:auto;line-height:normal;font-family:Menlo,'DejaVu Sans Mono',consolas,'Courier New',monospace\"><span style=\"color: #7fbfbf\">           </span><span style=\"color: #800000\">WARNING</span>  tried to remove tensor: __opt_state_needed not present in the tensor dict                                                       <a href=\"file:///home/merkkerk/openfl/openfl/utilities/utils.py\"><span style=\"color: #7f7f7f\">utils.py</span></a><span style=\"color: #7f7f7f\">:131</span>\n",
       "</pre>\n"
      ],
      "text/plain": [
       "<rich.jupyter.JupyterRenderable at 0x7fd0a85d9c90>"
      ]
     },
     "metadata": {},
     "output_type": "display_data"
    },
    {
     "data": {
      "text/html": [
       "<pre style=\"white-space:pre;overflow-x:auto;line-height:normal;font-family:Menlo,'DejaVu Sans Mono',consolas,'Courier New',monospace\"><span style=\"color: #7fbfbf\">           </span><span style=\"color: #000080\">INFO</span>     SetNewExperiment                                                                                                      <a href=\"file:///home/merkkerk/openfl/openfl/transport/grpc/director_client.py\"><span style=\"color: #7f7f7f\">director_client.py</span></a><span style=\"color: #7f7f7f\">:152</span>\n",
       "</pre>\n"
      ],
      "text/plain": [
       "<rich.jupyter.JupyterRenderable at 0x7fd0a85d9d50>"
      ]
     },
     "metadata": {},
     "output_type": "display_data"
    },
    {
     "data": {
      "text/html": [
       "<pre style=\"white-space:pre;overflow-x:auto;line-height:normal;font-family:Menlo,'DejaVu Sans Mono',consolas,'Courier New',monospace\"><span style=\"color: #7fbfbf\">           </span><span style=\"color: #000080\">INFO</span>     Experiment was accepted and launched.                                                                                      <a href=\"file:///home/merkkerk/openfl/openfl/interface/interactive_api/experiment.py\"><span style=\"color: #7f7f7f\">experiment.py</span></a><span style=\"color: #7f7f7f\">:169</span>\n",
       "</pre>\n"
      ],
      "text/plain": [
       "<rich.jupyter.JupyterRenderable at 0x7fd0a85d9d50>"
      ]
     },
     "metadata": {},
     "output_type": "display_data"
    }
   ],
   "source": [
    "# If I use autoreload I got a pickling error\n",
    "\n",
    "# The following command zips the workspace and python requirements to be transfered to collaborator nodes\n",
    "fl_experiment.start(model_provider=MI, \n",
    "                    task_keeper=TI,\n",
    "                    data_loader=fed_dataset,\n",
    "                    rounds_to_train=2,\n",
    "                    opt_treatment='RESET')"
   ]
  },
  {
   "cell_type": "code",
   "execution_count": null,
   "id": "bfc4f89c",
   "metadata": {
    "scrolled": true
   },
   "outputs": [],
   "source": [
    "# If user want to stop IPython session, then reconnect and check how experiment is going \n",
    "# fl_experiment.restore_experiment_state(MI)\n",
    "\n",
    "fl_experiment.stream_metrics()"
   ]
  },
  {
   "cell_type": "code",
   "execution_count": null,
   "id": "0ca51d7e",
   "metadata": {
    "pycharm": {
     "name": "#%%\n"
    }
   },
   "outputs": [],
   "source": [
    "# todo: add testing on metamorphosis"
   ]
  },
  {
   "cell_type": "code",
   "execution_count": 14,
   "id": "fca14865",
   "metadata": {},
   "outputs": [],
   "source": [
    "# Copyright (C) 2020-2021 Intel Corporation\n",
    "# SPDX-License-Identifier: Apache-2.0\n",
    "\"\"\"Market shard descriptor.\"\"\"\n",
    "\n",
    "import re\n",
    "from pathlib import Path\n",
    "\n",
    "import numpy as np\n",
    "import pandas as pd\n",
    "from tensorflow.keras.utils import to_categorical\n",
    "\n",
    "from openfl.interface.interactive_api.shard_descriptor import ShardDescriptor\n",
    "\n",
    "\n",
    "class NextWordShardDescriptor(ShardDescriptor):\n",
    "    \"\"\"\"Data - any text.\"\"\"\n",
    "\n",
    "    def __init__(self, title: str = '', author: str = '') -> None:\n",
    "        \"\"\"Initialize NextWordShardDescriptor.\"\"\"\n",
    "        super().__init__()\n",
    "\n",
    "        self.title = title\n",
    "        self.author = author\n",
    "        self.dataset_dir = list(Path.cwd().rglob(f'{title}.txt'))[0]\n",
    "        self.data = self.load_data(self.dataset_dir)  # list of words\n",
    "        self.X, self.y = self.get_sequences(self.data)\n",
    "\n",
    "    def __len__(self):\n",
    "        \"\"\"Number of sequences.\"\"\"\n",
    "        return len(self.X)\n",
    "\n",
    "    def __getitem__(self, index: int):\n",
    "        \"\"\"Return an item by the index.\"\"\"\n",
    "        return self.X[index], self.y[index]\n",
    "\n",
    "    @property\n",
    "    def sample_shape(self):\n",
    "        \"\"\"Return the sample shape info.\"\"\"\n",
    "        return ['3', '96']  # three vectors\n",
    "\n",
    "    @property\n",
    "    def target_shape(self):\n",
    "        \"\"\"Return the target shape info.\"\"\"\n",
    "        return ['48904']  # row at one-hot matrix with n = vocab_size\n",
    "\n",
    "    @property\n",
    "    def dataset_description(self) -> str:\n",
    "        \"\"\"Return the dataset description.\"\"\"\n",
    "        return f'Dataset from {self.title} by {self.author}'\n",
    "\n",
    "    @staticmethod\n",
    "    def load_data(path):\n",
    "        \"\"\"Load text file, return list of words.\"\"\"\n",
    "        file = open(path, 'r', encoding='utf8').read()\n",
    "        data = re.findall(r'[a-z]+', file.lower())\n",
    "        return data\n",
    "\n",
    "    @staticmethod\n",
    "    def get_sequences(data):\n",
    "        \"\"\"\n",
    "        Transform words to sequences, for X transform to vectors as well.\n",
    "\n",
    "        To make vocab, clean it and get keyed vectors:\n",
    "            if not spacy.util.is_package('en_core_web_sm'):\n",
    "                spacy.cli.download('en_core_web_sm')\n",
    "            nlp = spacy.load('en_core_web_sm')\n",
    "            clean_vocab_list = [word for word in nlp.vocab.strings if re.fullmatch(r'[a-z]+', word)]\n",
    "\n",
    "            word_to_vector = pd.Series([], name='vector')\n",
    "            for word in clean_vocab_list:\n",
    "                word_to_vector[word] = nlp(word).vector\n",
    "            word_to_vector.to_pickle('keyed_vectors.pkl')\n",
    "        \"\"\"\n",
    "        # spacy en_core_web_sm vocab_size = 48904, vector_size = 96\n",
    "        x_seq = []\n",
    "        y_seq = []\n",
    "        vectors = pd.read_pickle('keyed_vectors.pkl')\n",
    "        for i in range(len(data) - 3):\n",
    "            x = data[i:i + 3]  # make 3-grams\n",
    "            y = data[i + 3]\n",
    "            cur_x = [vectors[word] for word in x if word in vectors]\n",
    "            if len(cur_x) == 3 and y in vectors:\n",
    "                x_seq.append(cur_x)\n",
    "                y_seq.append(vectors.index.get_loc(y))\n",
    "\n",
    "        x_seq = np.array(x_seq)\n",
    "        y_seq = to_categorical(y_seq, num_classes=vectors.shape[0])\n",
    "        return x_seq, y_seq"
   ]
  },
  {
   "cell_type": "code",
   "execution_count": 15,
   "id": "535725c0",
   "metadata": {
    "scrolled": true
   },
   "outputs": [
    {
     "name": "stderr",
     "output_type": "stream",
     "text": [
      "2021-09-02 18:04:31.076576: I tensorflow/stream_executor/platform/default/dso_loader.cc:53] Successfully opened dynamic library libcudnn.so.8\n",
      "2021-09-02 18:04:31.257442: I tensorflow/stream_executor/cuda/cuda_dnn.cc:359] Loaded cuDNN version 8202\n",
      "2021-09-02 18:04:31.373647: I tensorflow/stream_executor/platform/default/dso_loader.cc:53] Successfully opened dynamic library libcublas.so.11\n",
      "2021-09-02 18:04:31.739895: I tensorflow/stream_executor/platform/default/dso_loader.cc:53] Successfully opened dynamic library libcublasLt.so.11\n"
     ]
    },
    {
     "name": "stdout",
     "output_type": "stream",
     "text": [
      "Epoch 0 train {'train_acc': 0.051533017, 'loss': 6.7986197}\n",
      "Epoch 0 validate {'validation_accuracy': 0.049560547}\n",
      "Epoch 1 train {'train_acc': 0.0526533, 'loss': 6.4928417}\n",
      "Epoch 1 validate {'validation_accuracy': 0.049560547}\n",
      "Epoch 2 train {'train_acc': 0.052771226, 'loss': 6.3223925}\n",
      "Epoch 2 validate {'validation_accuracy': 0.049560547}\n",
      "Epoch 3 train {'train_acc': 0.06456368, 'loss': 6.092044}\n",
      "Epoch 3 validate {'validation_accuracy': 0.07495117}\n",
      "Epoch 4 train {'train_acc': 0.08166274, 'loss': 5.8576427}\n",
      "Epoch 4 validate {'validation_accuracy': 0.083740234}\n",
      "Epoch 5 train {'train_acc': 0.092629716, 'loss': 5.6957226}\n",
      "Epoch 5 validate {'validation_accuracy': 0.08984375}\n",
      "Epoch 6 train {'train_acc': 0.100943394, 'loss': 5.552137}\n",
      "Epoch 6 validate {'validation_accuracy': 0.103271484}\n",
      "Epoch 7 train {'train_acc': 0.113148585, 'loss': 5.420711}\n",
      "Epoch 7 validate {'validation_accuracy': 0.10571289}\n",
      "Epoch 8 train {'train_acc': 0.11933962, 'loss': 5.3094616}\n",
      "Epoch 8 validate {'validation_accuracy': 0.107421875}\n",
      "Epoch 9 train {'train_acc': 0.12476415, 'loss': 5.222496}\n",
      "Epoch 9 validate {'validation_accuracy': 0.11035156}\n",
      "Epoch 10 train {'train_acc': 0.12788916, 'loss': 5.151684}\n",
      "Epoch 10 validate {'validation_accuracy': 0.11328125}\n",
      "Epoch 11 train {'train_acc': 0.1307783, 'loss': 5.0877795}\n",
      "Epoch 11 validate {'validation_accuracy': 0.11376953}\n",
      "Epoch 12 train {'train_acc': 0.13366745, 'loss': 5.0310955}\n",
      "Epoch 12 validate {'validation_accuracy': 0.11450195}\n",
      "Epoch 13 train {'train_acc': 0.13755897, 'loss': 4.9786434}\n",
      "Epoch 13 validate {'validation_accuracy': 0.11767578}\n",
      "Epoch 14 train {'train_acc': 0.14009434, 'loss': 4.9296227}\n",
      "Epoch 14 validate {'validation_accuracy': 0.118896484}\n",
      "Epoch 15 train {'train_acc': 0.14339623, 'loss': 4.8831773}\n",
      "Epoch 15 validate {'validation_accuracy': 0.12036133}\n",
      "Epoch 16 train {'train_acc': 0.14540094, 'loss': 4.8389745}\n",
      "Epoch 16 validate {'validation_accuracy': 0.12060547}\n",
      "Epoch 17 train {'train_acc': 0.14716981, 'loss': 4.79709}\n",
      "Epoch 17 validate {'validation_accuracy': 0.11987305}\n",
      "Epoch 18 train {'train_acc': 0.14911556, 'loss': 4.757319}\n",
      "Epoch 18 validate {'validation_accuracy': 0.119628906}\n",
      "Epoch 19 train {'train_acc': 0.15070754, 'loss': 4.719389}\n",
      "Epoch 19 validate {'validation_accuracy': 0.1184082}\n"
     ]
    }
   ],
   "source": [
    "fed_dataset.shard_descriptor = NextWordShardDescriptor(title='metamorphosis')\n",
    "\n",
    "for epoch in range(20):\n",
    "    train_loader = fed_dataset.get_train_loader()\n",
    "    metrics = train(model, train_loader, 'cpu', optimizer)\n",
    "    m = {key: value.numpy() for key, value in metrics.items()}\n",
    "    print(f'Epoch {epoch} train {m}')\n",
    "\n",
    "    val_loader = fed_dataset.get_valid_loader()\n",
    "    metrics = validate(model, val_loader, 'cpu')\n",
    "    m = {key: value.numpy() for key, value in metrics.items()}\n",
    "    print(f'Epoch {epoch} validate {m}')"
   ]
  },
  {
   "cell_type": "code",
   "execution_count": null,
   "id": "922a3d7f",
   "metadata": {},
   "outputs": [],
   "source": []
  }
 ],
 "metadata": {
  "kernelspec": {
   "display_name": "Python 3 (ipykernel)",
   "language": "python",
   "name": "python3"
  },
  "language_info": {
   "codemirror_mode": {
    "name": "ipython",
    "version": 3
   },
   "file_extension": ".py",
   "mimetype": "text/x-python",
   "name": "python",
   "nbconvert_exporter": "python",
   "pygments_lexer": "ipython3",
   "version": "3.7.11"
  }
 },
 "nbformat": 4,
 "nbformat_minor": 5
}
